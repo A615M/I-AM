{
 "cells": [
  {
   "cell_type": "markdown",
   "id": "comparable-associate",
   "metadata": {},
   "source": [
    "В нашей игре проводился А/В тест. Каждый игрок был распределен в одну из групп (контрольная или тестовая) и получил идентификатор 0 или 1 соответственно. В тесте мы хотели проверить гипотезу о том, что изменения в тестовой группе положительно повлияют на денежные показатели: ARPU, ARPPU и конверсию. Проведите анализ А/В теста. Данные содержат следующие поля:\n",
    "- geo_country - страна игрока\n",
    "- test_timestamp - дата, когда игрок попал в тест\n",
    "- user_revenue - выручка с игрока\n",
    "- user_payments - количество платежей игрока\n",
    "- user_id - идентификатор игрока\n",
    "- test_group - идентификатор группы теста"
   ]
  },
  {
   "cell_type": "code",
   "execution_count": 1,
   "id": "recreational-range",
   "metadata": {},
   "outputs": [],
   "source": [
    "import numpy as np\n",
    "import pandas as pd\n",
    "import scipy.stats as stats\n",
    "import matplotlib.pyplot as plt\n",
    "import seaborn as sns\n",
    "\n",
    "%matplotlib inline\n",
    "\n",
    "sns.set(rc={'figure.figsize':(20,10)})\n",
    "\n",
    "from tqdm.auto import tqdm\n",
    "from statsmodels.stats.proportion import proportions_ztest"
   ]
  },
  {
   "cell_type": "code",
   "execution_count": 2,
   "id": "worth-neighborhood",
   "metadata": {},
   "outputs": [
    {
     "data": {
      "text/html": [
       "<div>\n",
       "<style scoped>\n",
       "    .dataframe tbody tr th:only-of-type {\n",
       "        vertical-align: middle;\n",
       "    }\n",
       "\n",
       "    .dataframe tbody tr th {\n",
       "        vertical-align: top;\n",
       "    }\n",
       "\n",
       "    .dataframe thead th {\n",
       "        text-align: right;\n",
       "    }\n",
       "</style>\n",
       "<table border=\"1\" class=\"dataframe\">\n",
       "  <thead>\n",
       "    <tr style=\"text-align: right;\">\n",
       "      <th></th>\n",
       "      <th>geo_country</th>\n",
       "      <th>test_timestamp</th>\n",
       "      <th>user_revenue</th>\n",
       "      <th>user_payments</th>\n",
       "      <th>user_id</th>\n",
       "      <th>test_group</th>\n",
       "    </tr>\n",
       "  </thead>\n",
       "  <tbody>\n",
       "    <tr>\n",
       "      <th>0</th>\n",
       "      <td>Russia</td>\n",
       "      <td>2021-05-03 19:06:06.325</td>\n",
       "      <td>NaN</td>\n",
       "      <td>0</td>\n",
       "      <td>6d696b2e-f236-45b1-b770-5530b2a3b3cf</td>\n",
       "      <td>0</td>\n",
       "    </tr>\n",
       "    <tr>\n",
       "      <th>1</th>\n",
       "      <td>India</td>\n",
       "      <td>2021-05-04 17:13:35.877</td>\n",
       "      <td>NaN</td>\n",
       "      <td>0</td>\n",
       "      <td>3ae8cd76-14ef-4e47-99c9-637e9260205e</td>\n",
       "      <td>0</td>\n",
       "    </tr>\n",
       "    <tr>\n",
       "      <th>2</th>\n",
       "      <td>Russia</td>\n",
       "      <td>2021-05-01 01:56:49.796</td>\n",
       "      <td>1.223728</td>\n",
       "      <td>1</td>\n",
       "      <td>0bf7d591-a052-44a2-97a5-161791fb440d</td>\n",
       "      <td>0</td>\n",
       "    </tr>\n",
       "    <tr>\n",
       "      <th>3</th>\n",
       "      <td>Kazakhstan</td>\n",
       "      <td>2021-05-03 04:17:25.337</td>\n",
       "      <td>NaN</td>\n",
       "      <td>0</td>\n",
       "      <td>5f8a3459-e85d-451e-8f93-0c17664c70da</td>\n",
       "      <td>0</td>\n",
       "    </tr>\n",
       "    <tr>\n",
       "      <th>4</th>\n",
       "      <td>Switzerland</td>\n",
       "      <td>2021-05-20 10:49:18.064</td>\n",
       "      <td>NaN</td>\n",
       "      <td>0</td>\n",
       "      <td>f2ea93ed-b9c6-4d8b-88d0-7717f8931988</td>\n",
       "      <td>0</td>\n",
       "    </tr>\n",
       "  </tbody>\n",
       "</table>\n",
       "</div>"
      ],
      "text/plain": [
       "   geo_country          test_timestamp  user_revenue  user_payments  \\\n",
       "0       Russia 2021-05-03 19:06:06.325           NaN              0   \n",
       "1        India 2021-05-04 17:13:35.877           NaN              0   \n",
       "2       Russia 2021-05-01 01:56:49.796      1.223728              1   \n",
       "3   Kazakhstan 2021-05-03 04:17:25.337           NaN              0   \n",
       "4  Switzerland 2021-05-20 10:49:18.064           NaN              0   \n",
       "\n",
       "                                user_id  test_group  \n",
       "0  6d696b2e-f236-45b1-b770-5530b2a3b3cf           0  \n",
       "1  3ae8cd76-14ef-4e47-99c9-637e9260205e           0  \n",
       "2  0bf7d591-a052-44a2-97a5-161791fb440d           0  \n",
       "3  5f8a3459-e85d-451e-8f93-0c17664c70da           0  \n",
       "4  f2ea93ed-b9c6-4d8b-88d0-7717f8931988           0  "
      ]
     },
     "execution_count": 2,
     "metadata": {},
     "output_type": "execute_result"
    }
   ],
   "source": [
    "data = pd.read_csv(\"data.csv\", parse_dates=['test_timestamp'])\n",
    "data.head()"
   ]
  },
  {
   "cell_type": "markdown",
   "id": "mineral-traffic",
   "metadata": {},
   "source": [
    "Проверим и подготовим данные:"
   ]
  },
  {
   "cell_type": "code",
   "execution_count": 3,
   "id": "purple-proof",
   "metadata": {},
   "outputs": [
    {
     "data": {
      "text/plain": [
       "(91000, 6)"
      ]
     },
     "execution_count": 3,
     "metadata": {},
     "output_type": "execute_result"
    }
   ],
   "source": [
    "data.shape"
   ]
  },
  {
   "cell_type": "code",
   "execution_count": 4,
   "id": "rotary-maldives",
   "metadata": {},
   "outputs": [
    {
     "data": {
      "text/plain": [
       "geo_country               object\n",
       "test_timestamp    datetime64[ns]\n",
       "user_revenue             float64\n",
       "user_payments              int64\n",
       "user_id                   object\n",
       "test_group                 int64\n",
       "dtype: object"
      ]
     },
     "execution_count": 4,
     "metadata": {},
     "output_type": "execute_result"
    }
   ],
   "source": [
    "data.dtypes"
   ]
  },
  {
   "cell_type": "code",
   "execution_count": 5,
   "id": "monetary-outside",
   "metadata": {},
   "outputs": [
    {
     "data": {
      "text/plain": [
       "geo_country          18\n",
       "test_timestamp        0\n",
       "user_revenue      84268\n",
       "user_payments         0\n",
       "user_id               0\n",
       "test_group            0\n",
       "dtype: int64"
      ]
     },
     "execution_count": 5,
     "metadata": {},
     "output_type": "execute_result"
    }
   ],
   "source": [
    "data.isna().sum()"
   ]
  },
  {
   "cell_type": "code",
   "execution_count": 6,
   "id": "centered-craps",
   "metadata": {},
   "outputs": [],
   "source": [
    "data.user_revenue.fillna(0, inplace=True)"
   ]
  },
  {
   "cell_type": "code",
   "execution_count": 7,
   "id": "signed-russia",
   "metadata": {},
   "outputs": [
    {
     "data": {
      "text/html": [
       "<div>\n",
       "<style scoped>\n",
       "    .dataframe tbody tr th:only-of-type {\n",
       "        vertical-align: middle;\n",
       "    }\n",
       "\n",
       "    .dataframe tbody tr th {\n",
       "        vertical-align: top;\n",
       "    }\n",
       "\n",
       "    .dataframe thead th {\n",
       "        text-align: right;\n",
       "    }\n",
       "</style>\n",
       "<table border=\"1\" class=\"dataframe\">\n",
       "  <thead>\n",
       "    <tr style=\"text-align: right;\">\n",
       "      <th></th>\n",
       "      <th>geo_country</th>\n",
       "      <th>test_timestamp</th>\n",
       "      <th>user_revenue</th>\n",
       "      <th>user_payments</th>\n",
       "      <th>user_id</th>\n",
       "      <th>test_group</th>\n",
       "    </tr>\n",
       "  </thead>\n",
       "  <tbody>\n",
       "    <tr>\n",
       "      <th>4902</th>\n",
       "      <td>NaN</td>\n",
       "      <td>2021-05-02 12:11:40.675</td>\n",
       "      <td>0.0</td>\n",
       "      <td>0</td>\n",
       "      <td>062de72d-e68d-4958-b88e-2a543fbbb855</td>\n",
       "      <td>0</td>\n",
       "    </tr>\n",
       "    <tr>\n",
       "      <th>8626</th>\n",
       "      <td>NaN</td>\n",
       "      <td>2021-05-12 19:42:49.208</td>\n",
       "      <td>0.0</td>\n",
       "      <td>0</td>\n",
       "      <td>c810d2ae-9019-4cc0-b679-fe670c5260c4</td>\n",
       "      <td>0</td>\n",
       "    </tr>\n",
       "    <tr>\n",
       "      <th>11199</th>\n",
       "      <td>NaN</td>\n",
       "      <td>2021-05-23 19:01:09.719</td>\n",
       "      <td>0.0</td>\n",
       "      <td>0</td>\n",
       "      <td>1e40be1a-53f9-498b-ab78-9428f2add58e</td>\n",
       "      <td>0</td>\n",
       "    </tr>\n",
       "    <tr>\n",
       "      <th>16257</th>\n",
       "      <td>NaN</td>\n",
       "      <td>2021-05-01 17:12:02.575</td>\n",
       "      <td>0.0</td>\n",
       "      <td>0</td>\n",
       "      <td>9f9adafe-4a9f-4de9-ada4-8c0e659c81cd</td>\n",
       "      <td>0</td>\n",
       "    </tr>\n",
       "    <tr>\n",
       "      <th>19005</th>\n",
       "      <td>NaN</td>\n",
       "      <td>2021-05-09 12:07:41.241</td>\n",
       "      <td>0.0</td>\n",
       "      <td>0</td>\n",
       "      <td>e680ac0e-1597-442b-bcc9-676864f0e1be</td>\n",
       "      <td>0</td>\n",
       "    </tr>\n",
       "    <tr>\n",
       "      <th>19637</th>\n",
       "      <td>NaN</td>\n",
       "      <td>2021-05-31 11:15:44.431</td>\n",
       "      <td>0.0</td>\n",
       "      <td>0</td>\n",
       "      <td>ca31453d-1692-4bda-93dd-85e43e5557d9</td>\n",
       "      <td>0</td>\n",
       "    </tr>\n",
       "    <tr>\n",
       "      <th>25156</th>\n",
       "      <td>NaN</td>\n",
       "      <td>2021-05-28 18:41:37.086</td>\n",
       "      <td>0.0</td>\n",
       "      <td>0</td>\n",
       "      <td>1fa38c62-170b-4d0e-b13b-53cdf25f3238</td>\n",
       "      <td>1</td>\n",
       "    </tr>\n",
       "    <tr>\n",
       "      <th>26030</th>\n",
       "      <td>NaN</td>\n",
       "      <td>2021-05-23 13:00:28.796</td>\n",
       "      <td>0.0</td>\n",
       "      <td>0</td>\n",
       "      <td>d2d25be9-e100-4d82-84fc-6d4c876ce7b7</td>\n",
       "      <td>1</td>\n",
       "    </tr>\n",
       "    <tr>\n",
       "      <th>26778</th>\n",
       "      <td>NaN</td>\n",
       "      <td>2021-05-03 13:30:33.213</td>\n",
       "      <td>0.0</td>\n",
       "      <td>0</td>\n",
       "      <td>e941c812-923d-4eb8-9993-e3afddb58e32</td>\n",
       "      <td>1</td>\n",
       "    </tr>\n",
       "    <tr>\n",
       "      <th>33186</th>\n",
       "      <td>NaN</td>\n",
       "      <td>2021-05-01 10:14:17.297</td>\n",
       "      <td>0.0</td>\n",
       "      <td>0</td>\n",
       "      <td>f17724c7-ec1e-4bf4-9672-6e68951c3c36</td>\n",
       "      <td>1</td>\n",
       "    </tr>\n",
       "    <tr>\n",
       "      <th>36144</th>\n",
       "      <td>NaN</td>\n",
       "      <td>2021-05-09 21:15:32.771</td>\n",
       "      <td>0.0</td>\n",
       "      <td>0</td>\n",
       "      <td>b96c51c4-87ba-474d-a4a8-cc42c9fc51d8</td>\n",
       "      <td>1</td>\n",
       "    </tr>\n",
       "    <tr>\n",
       "      <th>42169</th>\n",
       "      <td>NaN</td>\n",
       "      <td>2021-05-26 09:34:15.056</td>\n",
       "      <td>0.0</td>\n",
       "      <td>0</td>\n",
       "      <td>d6e93ce0-a6ed-46e8-af3a-3ec83ff4677d</td>\n",
       "      <td>1</td>\n",
       "    </tr>\n",
       "    <tr>\n",
       "      <th>52265</th>\n",
       "      <td>NaN</td>\n",
       "      <td>2021-05-01 15:08:53.315</td>\n",
       "      <td>0.0</td>\n",
       "      <td>0</td>\n",
       "      <td>edf641e0-beac-42d1-a7ef-7160bff6e934</td>\n",
       "      <td>0</td>\n",
       "    </tr>\n",
       "    <tr>\n",
       "      <th>59200</th>\n",
       "      <td>NaN</td>\n",
       "      <td>2021-05-03 17:16:47.813</td>\n",
       "      <td>0.0</td>\n",
       "      <td>0</td>\n",
       "      <td>1db65e51-4585-411e-ac92-50cff8a42a16</td>\n",
       "      <td>0</td>\n",
       "    </tr>\n",
       "    <tr>\n",
       "      <th>60836</th>\n",
       "      <td>NaN</td>\n",
       "      <td>2021-05-13 06:20:11.281</td>\n",
       "      <td>0.0</td>\n",
       "      <td>0</td>\n",
       "      <td>0d35960d-6a24-4e8d-852c-a659b5058256</td>\n",
       "      <td>0</td>\n",
       "    </tr>\n",
       "    <tr>\n",
       "      <th>71573</th>\n",
       "      <td>NaN</td>\n",
       "      <td>2021-05-30 13:11:47.565</td>\n",
       "      <td>0.0</td>\n",
       "      <td>0</td>\n",
       "      <td>5d007316-9a90-4716-94d9-cf12b721be97</td>\n",
       "      <td>1</td>\n",
       "    </tr>\n",
       "    <tr>\n",
       "      <th>84170</th>\n",
       "      <td>NaN</td>\n",
       "      <td>2021-05-01 04:15:49.991</td>\n",
       "      <td>0.0</td>\n",
       "      <td>0</td>\n",
       "      <td>7a5745df-183e-4928-959d-68490fb12af5</td>\n",
       "      <td>1</td>\n",
       "    </tr>\n",
       "    <tr>\n",
       "      <th>84756</th>\n",
       "      <td>NaN</td>\n",
       "      <td>2021-05-01 21:19:01.217</td>\n",
       "      <td>0.0</td>\n",
       "      <td>0</td>\n",
       "      <td>4dce05d6-6fa3-4eaa-9f8b-c6f411992ff8</td>\n",
       "      <td>1</td>\n",
       "    </tr>\n",
       "  </tbody>\n",
       "</table>\n",
       "</div>"
      ],
      "text/plain": [
       "      geo_country          test_timestamp  user_revenue  user_payments  \\\n",
       "4902          NaN 2021-05-02 12:11:40.675           0.0              0   \n",
       "8626          NaN 2021-05-12 19:42:49.208           0.0              0   \n",
       "11199         NaN 2021-05-23 19:01:09.719           0.0              0   \n",
       "16257         NaN 2021-05-01 17:12:02.575           0.0              0   \n",
       "19005         NaN 2021-05-09 12:07:41.241           0.0              0   \n",
       "19637         NaN 2021-05-31 11:15:44.431           0.0              0   \n",
       "25156         NaN 2021-05-28 18:41:37.086           0.0              0   \n",
       "26030         NaN 2021-05-23 13:00:28.796           0.0              0   \n",
       "26778         NaN 2021-05-03 13:30:33.213           0.0              0   \n",
       "33186         NaN 2021-05-01 10:14:17.297           0.0              0   \n",
       "36144         NaN 2021-05-09 21:15:32.771           0.0              0   \n",
       "42169         NaN 2021-05-26 09:34:15.056           0.0              0   \n",
       "52265         NaN 2021-05-01 15:08:53.315           0.0              0   \n",
       "59200         NaN 2021-05-03 17:16:47.813           0.0              0   \n",
       "60836         NaN 2021-05-13 06:20:11.281           0.0              0   \n",
       "71573         NaN 2021-05-30 13:11:47.565           0.0              0   \n",
       "84170         NaN 2021-05-01 04:15:49.991           0.0              0   \n",
       "84756         NaN 2021-05-01 21:19:01.217           0.0              0   \n",
       "\n",
       "                                    user_id  test_group  \n",
       "4902   062de72d-e68d-4958-b88e-2a543fbbb855           0  \n",
       "8626   c810d2ae-9019-4cc0-b679-fe670c5260c4           0  \n",
       "11199  1e40be1a-53f9-498b-ab78-9428f2add58e           0  \n",
       "16257  9f9adafe-4a9f-4de9-ada4-8c0e659c81cd           0  \n",
       "19005  e680ac0e-1597-442b-bcc9-676864f0e1be           0  \n",
       "19637  ca31453d-1692-4bda-93dd-85e43e5557d9           0  \n",
       "25156  1fa38c62-170b-4d0e-b13b-53cdf25f3238           1  \n",
       "26030  d2d25be9-e100-4d82-84fc-6d4c876ce7b7           1  \n",
       "26778  e941c812-923d-4eb8-9993-e3afddb58e32           1  \n",
       "33186  f17724c7-ec1e-4bf4-9672-6e68951c3c36           1  \n",
       "36144  b96c51c4-87ba-474d-a4a8-cc42c9fc51d8           1  \n",
       "42169  d6e93ce0-a6ed-46e8-af3a-3ec83ff4677d           1  \n",
       "52265  edf641e0-beac-42d1-a7ef-7160bff6e934           0  \n",
       "59200  1db65e51-4585-411e-ac92-50cff8a42a16           0  \n",
       "60836  0d35960d-6a24-4e8d-852c-a659b5058256           0  \n",
       "71573  5d007316-9a90-4716-94d9-cf12b721be97           1  \n",
       "84170  7a5745df-183e-4928-959d-68490fb12af5           1  \n",
       "84756  4dce05d6-6fa3-4eaa-9f8b-c6f411992ff8           1  "
      ]
     },
     "execution_count": 7,
     "metadata": {},
     "output_type": "execute_result"
    }
   ],
   "source": [
    "data.query('geo_country.isna()')\n",
    "# присутствуют записи без привязки к стране"
   ]
  },
  {
   "cell_type": "code",
   "execution_count": 8,
   "id": "rolled-president",
   "metadata": {},
   "outputs": [
    {
     "data": {
      "text/plain": [
       "91000"
      ]
     },
     "execution_count": 8,
     "metadata": {},
     "output_type": "execute_result"
    }
   ],
   "source": [
    "data.user_id.nunique()"
   ]
  },
  {
   "cell_type": "code",
   "execution_count": 9,
   "id": "opponent-telling",
   "metadata": {},
   "outputs": [
    {
     "data": {
      "text/html": [
       "<div>\n",
       "<style scoped>\n",
       "    .dataframe tbody tr th:only-of-type {\n",
       "        vertical-align: middle;\n",
       "    }\n",
       "\n",
       "    .dataframe tbody tr th {\n",
       "        vertical-align: top;\n",
       "    }\n",
       "\n",
       "    .dataframe thead th {\n",
       "        text-align: right;\n",
       "    }\n",
       "</style>\n",
       "<table border=\"1\" class=\"dataframe\">\n",
       "  <thead>\n",
       "    <tr style=\"text-align: right;\">\n",
       "      <th></th>\n",
       "      <th>geo_country</th>\n",
       "      <th>test_timestamp</th>\n",
       "      <th>user_revenue</th>\n",
       "      <th>user_payments</th>\n",
       "      <th>user_id</th>\n",
       "      <th>test_group</th>\n",
       "      <th>mean_revenue_per_transact</th>\n",
       "      <th>is_client</th>\n",
       "    </tr>\n",
       "  </thead>\n",
       "  <tbody>\n",
       "    <tr>\n",
       "      <th>0</th>\n",
       "      <td>Russia</td>\n",
       "      <td>2021-05-03 19:06:06.325</td>\n",
       "      <td>0.000000</td>\n",
       "      <td>0</td>\n",
       "      <td>6d696b2e-f236-45b1-b770-5530b2a3b3cf</td>\n",
       "      <td>0</td>\n",
       "      <td>0.000000</td>\n",
       "      <td>0</td>\n",
       "    </tr>\n",
       "    <tr>\n",
       "      <th>1</th>\n",
       "      <td>India</td>\n",
       "      <td>2021-05-04 17:13:35.877</td>\n",
       "      <td>0.000000</td>\n",
       "      <td>0</td>\n",
       "      <td>3ae8cd76-14ef-4e47-99c9-637e9260205e</td>\n",
       "      <td>0</td>\n",
       "      <td>0.000000</td>\n",
       "      <td>0</td>\n",
       "    </tr>\n",
       "    <tr>\n",
       "      <th>2</th>\n",
       "      <td>Russia</td>\n",
       "      <td>2021-05-01 01:56:49.796</td>\n",
       "      <td>1.223728</td>\n",
       "      <td>1</td>\n",
       "      <td>0bf7d591-a052-44a2-97a5-161791fb440d</td>\n",
       "      <td>0</td>\n",
       "      <td>1.223728</td>\n",
       "      <td>1</td>\n",
       "    </tr>\n",
       "    <tr>\n",
       "      <th>3</th>\n",
       "      <td>Kazakhstan</td>\n",
       "      <td>2021-05-03 04:17:25.337</td>\n",
       "      <td>0.000000</td>\n",
       "      <td>0</td>\n",
       "      <td>5f8a3459-e85d-451e-8f93-0c17664c70da</td>\n",
       "      <td>0</td>\n",
       "      <td>0.000000</td>\n",
       "      <td>0</td>\n",
       "    </tr>\n",
       "    <tr>\n",
       "      <th>4</th>\n",
       "      <td>Switzerland</td>\n",
       "      <td>2021-05-20 10:49:18.064</td>\n",
       "      <td>0.000000</td>\n",
       "      <td>0</td>\n",
       "      <td>f2ea93ed-b9c6-4d8b-88d0-7717f8931988</td>\n",
       "      <td>0</td>\n",
       "      <td>0.000000</td>\n",
       "      <td>0</td>\n",
       "    </tr>\n",
       "  </tbody>\n",
       "</table>\n",
       "</div>"
      ],
      "text/plain": [
       "   geo_country          test_timestamp  user_revenue  user_payments  \\\n",
       "0       Russia 2021-05-03 19:06:06.325      0.000000              0   \n",
       "1        India 2021-05-04 17:13:35.877      0.000000              0   \n",
       "2       Russia 2021-05-01 01:56:49.796      1.223728              1   \n",
       "3   Kazakhstan 2021-05-03 04:17:25.337      0.000000              0   \n",
       "4  Switzerland 2021-05-20 10:49:18.064      0.000000              0   \n",
       "\n",
       "                                user_id  test_group  \\\n",
       "0  6d696b2e-f236-45b1-b770-5530b2a3b3cf           0   \n",
       "1  3ae8cd76-14ef-4e47-99c9-637e9260205e           0   \n",
       "2  0bf7d591-a052-44a2-97a5-161791fb440d           0   \n",
       "3  5f8a3459-e85d-451e-8f93-0c17664c70da           0   \n",
       "4  f2ea93ed-b9c6-4d8b-88d0-7717f8931988           0   \n",
       "\n",
       "   mean_revenue_per_transact  is_client  \n",
       "0                   0.000000          0  \n",
       "1                   0.000000          0  \n",
       "2                   1.223728          1  \n",
       "3                   0.000000          0  \n",
       "4                   0.000000          0  "
      ]
     },
     "execution_count": 9,
     "metadata": {},
     "output_type": "execute_result"
    }
   ],
   "source": [
    "data['mean_revenue_per_transact'] = data['user_revenue'] / data['user_payments']\n",
    "data['is_client'] = (data['user_payments'] >= 1).astype(int) #  т.к. могут возникнуть проблемы при агрегации\n",
    "data.mean_revenue_per_transact.fillna(0, inplace=True)\n",
    "data.head()"
   ]
  },
  {
   "cell_type": "markdown",
   "id": "fallen-italic",
   "metadata": {},
   "source": [
    "#### Рассчитаем ключевые метрики"
   ]
  },
  {
   "cell_type": "code",
   "execution_count": 10,
   "id": "medieval-shock",
   "metadata": {},
   "outputs": [],
   "source": [
    "# подготовим данные и соберем полученную информацию в таблицу для наглядности\n",
    "\n",
    "def get_metrics(df):\n",
    "    control = data.query('test_group == 0')\n",
    "    test = data.query('test_group == 1')\n",
    "\n",
    "    # количество пользователей в группах\n",
    "    users_quantity_control = control.shape[0]\n",
    "    users_quantity_test = test.shape[0]\n",
    "\n",
    "    # выручка\n",
    "    total_user_revenue_control =  control.user_revenue.sum()\n",
    "    total_user_revenue_test =  test.user_revenue.sum()\n",
    "\n",
    "    # количество покупок в группах\n",
    "    checks_control_quantity = control.query('user_revenue > 0').shape[0]\n",
    "    checks_test_quantity = test.query('user_revenue > 0').shape[0]\n",
    "\n",
    "    # количество клиентов в группах\n",
    "    clients_control_quantity = control.query('is_client == 1').user_id.nunique()\n",
    "    clients_test_quantity = test.query('is_client == 1').user_id.nunique()\n",
    "\n",
    "    # конверсия в покупателя\n",
    "    cr_control = round(clients_control_quantity / users_quantity_control * 100, 2)\n",
    "    cr_test = round(clients_test_quantity / users_quantity_test * 100 , 2)\n",
    "\n",
    "    # ARPU\n",
    "    arpu_control = round(control.user_revenue.sum() / control.shape[0], 6)\n",
    "    arpu_test = round(test.user_revenue.sum() / test.shape[0], 6)\n",
    "\n",
    "    # ARPPU\n",
    "    arppu_control = round(control.user_revenue.sum() / clients_control_quantity, 6)\n",
    "    arppu_test = round(test.user_revenue.sum() / clients_test_quantity, 6)\n",
    "\n",
    "    # Средний чек\n",
    "    avg_check_control = round(np.mean(control.query('user_revenue > 0').user_revenue / control.user_payments), 6)\n",
    "    avg_check_test = round(np.mean(test.query('user_revenue > 0').user_revenue / test.user_payments), 6)\n",
    "\n",
    "    # коэффициент повторных покупок\n",
    "    rep_purch_control = round(control.query('user_revenue > 0').user_payments.mean(), 2)\n",
    "    rep_purch_test = round(test.query('user_revenue > 0').user_payments.mean(), 2)\n",
    "\n",
    "    metrics = pd.DataFrame({'group': [\"control\", \"test\"],\n",
    "                            'users': [users_quantity_control, users_quantity_test],\n",
    "                            'clients': [clients_control_quantity, clients_test_quantity],\n",
    "                            'total_user_revenue': [total_user_revenue_control, total_user_revenue_test],\n",
    "                            'CR': [cr_control, cr_test],\n",
    "                            'arpu': [arpu_control, arpu_test],\n",
    "                            'arppu': [arppu_control, arppu_test],\n",
    "                            'avg_check': [avg_check_control, avg_check_test],\n",
    "                            'rep_purch': [rep_purch_control, rep_purch_test]}\n",
    "                              )\n",
    "\n",
    "    metrics = metrics.set_index(\"group\").T\n",
    "\n",
    "    metrics['diff'] = metrics['test'] - metrics['control']\n",
    "    metrics['percent_diff'] = round(metrics['diff'] / metrics['control'] * 100, 2)\n",
    "    return metrics"
   ]
  },
  {
   "cell_type": "code",
   "execution_count": 11,
   "id": "bulgarian-scott",
   "metadata": {},
   "outputs": [
    {
     "data": {
      "text/html": [
       "<div>\n",
       "<style scoped>\n",
       "    .dataframe tbody tr th:only-of-type {\n",
       "        vertical-align: middle;\n",
       "    }\n",
       "\n",
       "    .dataframe tbody tr th {\n",
       "        vertical-align: top;\n",
       "    }\n",
       "\n",
       "    .dataframe thead th {\n",
       "        text-align: right;\n",
       "    }\n",
       "</style>\n",
       "<table border=\"1\" class=\"dataframe\">\n",
       "  <thead>\n",
       "    <tr style=\"text-align: right;\">\n",
       "      <th>group</th>\n",
       "      <th>control</th>\n",
       "      <th>test</th>\n",
       "      <th>diff</th>\n",
       "      <th>percent_diff</th>\n",
       "    </tr>\n",
       "  </thead>\n",
       "  <tbody>\n",
       "    <tr>\n",
       "      <th>users</th>\n",
       "      <td>45400.000000</td>\n",
       "      <td>45600.000000</td>\n",
       "      <td>200.000000</td>\n",
       "      <td>0.44</td>\n",
       "    </tr>\n",
       "    <tr>\n",
       "      <th>clients</th>\n",
       "      <td>3489.000000</td>\n",
       "      <td>3243.000000</td>\n",
       "      <td>-246.000000</td>\n",
       "      <td>-7.05</td>\n",
       "    </tr>\n",
       "    <tr>\n",
       "      <th>total_user_revenue</th>\n",
       "      <td>17001.593107</td>\n",
       "      <td>16090.426997</td>\n",
       "      <td>-911.166110</td>\n",
       "      <td>-5.36</td>\n",
       "    </tr>\n",
       "    <tr>\n",
       "      <th>CR</th>\n",
       "      <td>7.690000</td>\n",
       "      <td>7.110000</td>\n",
       "      <td>-0.580000</td>\n",
       "      <td>-7.54</td>\n",
       "    </tr>\n",
       "    <tr>\n",
       "      <th>arpu</th>\n",
       "      <td>0.374484</td>\n",
       "      <td>0.352860</td>\n",
       "      <td>-0.021624</td>\n",
       "      <td>-5.77</td>\n",
       "    </tr>\n",
       "    <tr>\n",
       "      <th>arppu</th>\n",
       "      <td>4.872913</td>\n",
       "      <td>4.961587</td>\n",
       "      <td>0.088674</td>\n",
       "      <td>1.82</td>\n",
       "    </tr>\n",
       "    <tr>\n",
       "      <th>avg_check</th>\n",
       "      <td>1.412182</td>\n",
       "      <td>1.452366</td>\n",
       "      <td>0.040184</td>\n",
       "      <td>2.85</td>\n",
       "    </tr>\n",
       "    <tr>\n",
       "      <th>rep_purch</th>\n",
       "      <td>3.510000</td>\n",
       "      <td>3.420000</td>\n",
       "      <td>-0.090000</td>\n",
       "      <td>-2.56</td>\n",
       "    </tr>\n",
       "  </tbody>\n",
       "</table>\n",
       "</div>"
      ],
      "text/plain": [
       "group                    control          test        diff  percent_diff\n",
       "users               45400.000000  45600.000000  200.000000          0.44\n",
       "clients              3489.000000   3243.000000 -246.000000         -7.05\n",
       "total_user_revenue  17001.593107  16090.426997 -911.166110         -5.36\n",
       "CR                      7.690000      7.110000   -0.580000         -7.54\n",
       "arpu                    0.374484      0.352860   -0.021624         -5.77\n",
       "arppu                   4.872913      4.961587    0.088674          1.82\n",
       "avg_check               1.412182      1.452366    0.040184          2.85\n",
       "rep_purch               3.510000      3.420000   -0.090000         -2.56"
      ]
     },
     "execution_count": 11,
     "metadata": {},
     "output_type": "execute_result"
    }
   ],
   "source": [
    "metrics_by_groups = get_metrics(data)\n",
    "metrics_by_groups"
   ]
  },
  {
   "cell_type": "markdown",
   "id": "simplified-future",
   "metadata": {},
   "source": [
    "- Суммарная выручка в тестовой группе меньше, чем в контрольной на 5.36%;\n",
    "- При этом конверсия в платеж тестовой группы пользователей снизилась на 7.54% относительно контрольной;\n",
    "- ARPU в тестовой группе ниже на 5.77%;\n",
    "- ARPPU в тестовой группе превосходит аналогичный показатель в контрольной - разница в 1.82%;\n",
    "- Cредний чек в тестовой группе дороже на 2.85%;\n",
    "- Коэффициент повторных покупок снизился на 2.56%."
   ]
  },
  {
   "cell_type": "markdown",
   "id": "motivated-marketplace",
   "metadata": {},
   "source": [
    "Создадим датафрейм c метриками по дням для каждой страны:"
   ]
  },
  {
   "cell_type": "code",
   "execution_count": 12,
   "id": "beautiful-melissa",
   "metadata": {},
   "outputs": [],
   "source": [
    "data.test_timestamp = pd.to_datetime(data.test_timestamp.dt.date)"
   ]
  },
  {
   "cell_type": "code",
   "execution_count": 13,
   "id": "fallen-bulletin",
   "metadata": {},
   "outputs": [],
   "source": [
    "revenue_by_date = (\n",
    "    data\n",
    "    .groupby(['test_timestamp', 'test_group', 'geo_country'], as_index=False)\n",
    "    .agg({'user_id':'nunique', 'is_client':'sum', 'user_revenue':'sum'})\n",
    "        )\n",
    "revenue_by_date.columns = ['day', 'group', 'country', 'users', 'clients', 'total_revenue']"
   ]
  },
  {
   "cell_type": "code",
   "execution_count": 14,
   "id": "wanted-advisory",
   "metadata": {},
   "outputs": [],
   "source": [
    "revenue_by_date['CR'] = revenue_by_date['clients'] / revenue_by_date['users']\n",
    "revenue_by_date['ARPU'] = revenue_by_date['total_revenue'] / revenue_by_date['users']\n",
    "revenue_by_date['ARPPU'] = revenue_by_date['total_revenue'] / revenue_by_date['clients']\n",
    "revenue_by_date['ARPPU'].fillna(0, inplace=True)"
   ]
  },
  {
   "cell_type": "code",
   "execution_count": 15,
   "id": "stylish-activity",
   "metadata": {},
   "outputs": [
    {
     "data": {
      "text/html": [
       "<div>\n",
       "<style scoped>\n",
       "    .dataframe tbody tr th:only-of-type {\n",
       "        vertical-align: middle;\n",
       "    }\n",
       "\n",
       "    .dataframe tbody tr th {\n",
       "        vertical-align: top;\n",
       "    }\n",
       "\n",
       "    .dataframe thead th {\n",
       "        text-align: right;\n",
       "    }\n",
       "</style>\n",
       "<table border=\"1\" class=\"dataframe\">\n",
       "  <thead>\n",
       "    <tr style=\"text-align: right;\">\n",
       "      <th></th>\n",
       "      <th>day</th>\n",
       "      <th>group</th>\n",
       "      <th>country</th>\n",
       "      <th>users</th>\n",
       "      <th>clients</th>\n",
       "      <th>total_revenue</th>\n",
       "      <th>CR</th>\n",
       "      <th>ARPU</th>\n",
       "      <th>ARPPU</th>\n",
       "    </tr>\n",
       "  </thead>\n",
       "  <tbody>\n",
       "    <tr>\n",
       "      <th>1229</th>\n",
       "      <td>2021-05-06</td>\n",
       "      <td>0</td>\n",
       "      <td>Honduras</td>\n",
       "      <td>2</td>\n",
       "      <td>0</td>\n",
       "      <td>0.000000</td>\n",
       "      <td>0.000000</td>\n",
       "      <td>0.000000</td>\n",
       "      <td>0.000000</td>\n",
       "    </tr>\n",
       "    <tr>\n",
       "      <th>4001</th>\n",
       "      <td>2021-05-22</td>\n",
       "      <td>0</td>\n",
       "      <td>Australia</td>\n",
       "      <td>14</td>\n",
       "      <td>1</td>\n",
       "      <td>1.420154</td>\n",
       "      <td>0.071429</td>\n",
       "      <td>0.101440</td>\n",
       "      <td>1.420154</td>\n",
       "    </tr>\n",
       "    <tr>\n",
       "      <th>3799</th>\n",
       "      <td>2021-05-20</td>\n",
       "      <td>1</td>\n",
       "      <td>Denmark</td>\n",
       "      <td>3</td>\n",
       "      <td>1</td>\n",
       "      <td>3.419184</td>\n",
       "      <td>0.333333</td>\n",
       "      <td>1.139728</td>\n",
       "      <td>3.419184</td>\n",
       "    </tr>\n",
       "    <tr>\n",
       "      <th>1139</th>\n",
       "      <td>2021-05-05</td>\n",
       "      <td>1</td>\n",
       "      <td>Japan</td>\n",
       "      <td>66</td>\n",
       "      <td>4</td>\n",
       "      <td>17.312633</td>\n",
       "      <td>0.060606</td>\n",
       "      <td>0.262313</td>\n",
       "      <td>4.328158</td>\n",
       "    </tr>\n",
       "    <tr>\n",
       "      <th>2525</th>\n",
       "      <td>2021-05-13</td>\n",
       "      <td>0</td>\n",
       "      <td>Austria</td>\n",
       "      <td>1</td>\n",
       "      <td>0</td>\n",
       "      <td>0.000000</td>\n",
       "      <td>0.000000</td>\n",
       "      <td>0.000000</td>\n",
       "      <td>0.000000</td>\n",
       "    </tr>\n",
       "  </tbody>\n",
       "</table>\n",
       "</div>"
      ],
      "text/plain": [
       "            day  group    country  users  clients  total_revenue        CR  \\\n",
       "1229 2021-05-06      0   Honduras      2        0       0.000000  0.000000   \n",
       "4001 2021-05-22      0  Australia     14        1       1.420154  0.071429   \n",
       "3799 2021-05-20      1    Denmark      3        1       3.419184  0.333333   \n",
       "1139 2021-05-05      1      Japan     66        4      17.312633  0.060606   \n",
       "2525 2021-05-13      0    Austria      1        0       0.000000  0.000000   \n",
       "\n",
       "          ARPU     ARPPU  \n",
       "1229  0.000000  0.000000  \n",
       "4001  0.101440  1.420154  \n",
       "3799  1.139728  3.419184  \n",
       "1139  0.262313  4.328158  \n",
       "2525  0.000000  0.000000  "
      ]
     },
     "execution_count": 15,
     "metadata": {},
     "output_type": "execute_result"
    }
   ],
   "source": [
    "revenue_by_date.sample(5)"
   ]
  },
  {
   "cell_type": "code",
   "execution_count": 16,
   "id": "fleet-collar",
   "metadata": {},
   "outputs": [
    {
     "data": {
      "text/plain": [
       "2898"
      ]
     },
     "execution_count": 16,
     "metadata": {},
     "output_type": "execute_result"
    }
   ],
   "source": [
    "revenue_by_date.query('group == 0').shape[0]"
   ]
  },
  {
   "cell_type": "code",
   "execution_count": 17,
   "id": "looking-rabbit",
   "metadata": {},
   "outputs": [
    {
     "data": {
      "text/plain": [
       "2843"
      ]
     },
     "execution_count": 17,
     "metadata": {},
     "output_type": "execute_result"
    }
   ],
   "source": [
    "revenue_by_date.query('group == 1').shape[0]"
   ]
  },
  {
   "cell_type": "markdown",
   "id": "certified-honduras",
   "metadata": {},
   "source": [
    "Построим графики, позволяющие оценить изменение показателей выручки и посещений в течение периода:"
   ]
  },
  {
   "cell_type": "code",
   "execution_count": 18,
   "id": "textile-slope",
   "metadata": {},
   "outputs": [
    {
     "data": {
      "image/png": "[encoded data removed]",
      "text/plain": [
       "<Figure size 1440x720 with 1 Axes>"
      ]
     },
     "metadata": {},
     "output_type": "display_data"
    }
   ],
   "source": [
    "total_revenue_by_day = sns.lineplot(data=revenue_by_date.groupby(['day', 'group']).agg({'total_revenue':'sum'}),\n",
    "                                    x='day',\n",
    "                                    y='total_revenue',\n",
    "                                    hue='group'\n",
    "                                    )"
   ]
  },
  {
   "cell_type": "code",
   "execution_count": 19,
   "id": "efficient-fisher",
   "metadata": {},
   "outputs": [
    {
     "data": {
      "image/png": "[encoded data removed]",
      "text/plain": [
       "<Figure size 1440x720 with 1 Axes>"
      ]
     },
     "metadata": {},
     "output_type": "display_data"
    }
   ],
   "source": [
    "total_users_by_day = sns.lineplot(data=revenue_by_date.groupby(['day', 'group']).agg({'users':'sum'}),\n",
    "                                  x='day',\n",
    "                                  y='users',\n",
    "                                  hue='group'\n",
    "                                 )"
   ]
  },
  {
   "cell_type": "markdown",
   "id": "elect-valuation",
   "metadata": {},
   "source": [
    "#### Промежуточный итог (рассуждения):\n",
    "Наблюдается резкое снижение количества пользователей и суммарной выручки в период с 01.05 по 03.05 (чуть менее выражено - до 5.05) в контрольной и тестовой группах.\n",
    "Было бы полезно проанализировать данные за предшествующий период, чтобы получить представление о возможных причинах такого поведения и понять, с чем мы имеем дело - например, появилась проблема с доступом к приложению на определенной платформе или мы наблюдаем прогнозируемое снижение посещаемости после остановки рекламных кампаний или окончания какого-либо всеобщего внутриигрового события. На основе выводов можно было бы судить о достоверности полученных в ходе AB-теста результатах или корректности его проведения в таких условиях.\n",
    "\n",
    "Выберем сценарий, что AB-тест прошел по плану."
   ]
  },
  {
   "cell_type": "markdown",
   "id": "potential-packing",
   "metadata": {},
   "source": [
    "Перед воспроизведением A/B-теста проверим распределения user_revenue на нормальность тестом Шапиро-Уилка.:"
   ]
  },
  {
   "cell_type": "code",
   "execution_count": 20,
   "id": "conservative-basic",
   "metadata": {},
   "outputs": [],
   "source": [
    "control = data.query('test_group == 0')\n",
    "test = data.query('test_group == 1')"
   ]
  },
  {
   "cell_type": "code",
   "execution_count": 21,
   "id": "nutritional-morning",
   "metadata": {},
   "outputs": [
    {
     "name": "stdout",
     "output_type": "stream",
     "text": [
      "ShapiroResult(statistic=0.12578243017196655, pvalue=0.0)\n",
      "2.8038017214413613\n"
     ]
    },
    {
     "data": {
      "image/png": "[encoded data removed]",
      "text/plain": [
       "<Figure size 1440x720 with 1 Axes>"
      ]
     },
     "metadata": {},
     "output_type": "display_data"
    }
   ],
   "source": [
    "control.user_revenue.hist()\n",
    "print(stats.shapiro(control.user_revenue.sample(1000, random_state=17)))\n",
    "print(np.std(control.user_revenue))"
   ]
  },
  {
   "cell_type": "code",
   "execution_count": 22,
   "id": "potential-shirt",
   "metadata": {},
   "outputs": [
    {
     "name": "stdout",
     "output_type": "stream",
     "text": [
      "ShapiroResult(statistic=0.10272377729415894, pvalue=0.0)\n",
      "2.8066762535148264\n"
     ]
    },
    {
     "data": {
      "image/png": "[encoded data removed]",
      "text/plain": [
       "<Figure size 1440x720 with 1 Axes>"
      ]
     },
     "metadata": {},
     "output_type": "display_data"
    }
   ],
   "source": [
    "test.user_revenue.hist()\n",
    "print(stats.shapiro(test.user_revenue.sample(1000, random_state=17)))\n",
    "print(np.std(test.user_revenue))"
   ]
  },
  {
   "cell_type": "markdown",
   "id": "sensitive-shelf",
   "metadata": {},
   "source": [
    "В обоих случаях распределения не являются нормальными (p-value < 0.05)"
   ]
  },
  {
   "cell_type": "markdown",
   "id": "political-prediction",
   "metadata": {},
   "source": [
    "Проверим статистическую значимость различий между группами эксперимента.\n",
    "Т.к. распределения нормальными не являются, воспользуемся бутстрэпом (он также позволит легко оценить доверительные интервалы):"
   ]
  },
  {
   "cell_type": "code",
   "execution_count": 23,
   "id": "younger-attempt",
   "metadata": {},
   "outputs": [],
   "source": [
    "def get_bootstrap(\n",
    "    data_column_1, # числовые значения первой выборки\n",
    "    data_column_2, # числовые значения второй выборки\n",
    "    boot_it = 2000, # количество бутстрэп-подвыборок\n",
    "    statistic = np.mean, # интересующая нас статистика\n",
    "    bootstrap_conf_level = 0.95 # уровень значимости\n",
    "):\n",
    "    boot_len = max([len(data_column_1), len(data_column_2)])\n",
    "    boot_data = []\n",
    "    for i in tqdm(range(boot_it)): # извлекаем подвыборки\n",
    "        samples_1 = data_column_1.sample(\n",
    "            boot_len, \n",
    "            replace = True # параметр возвращения\n",
    "        ).values\n",
    "        \n",
    "        samples_2 = data_column_2.sample(\n",
    "            boot_len, \n",
    "            replace = True\n",
    "        ).values\n",
    "        \n",
    "        boot_data.append(statistic(samples_1-samples_2)) # mean() - применяем статистику\n",
    "        \n",
    "    pd_boot_data = pd.DataFrame(boot_data)\n",
    "        \n",
    "    left_quant = (1 - bootstrap_conf_level)/2\n",
    "    right_quant = 1 - (1 - bootstrap_conf_level) / 2\n",
    "    ci = pd_boot_data.quantile([left_quant, right_quant])\n",
    "        \n",
    "    p_1 = stats.norm.cdf(\n",
    "        x = 0, \n",
    "        loc = np.mean(boot_data), \n",
    "        scale = np.std(boot_data)\n",
    "    )\n",
    "    p_2 = stats.norm.cdf(\n",
    "        x = 0, \n",
    "        loc = -np.mean(boot_data), \n",
    "        scale = np.std(boot_data)\n",
    "    )\n",
    "    p_value = min(p_1, p_2) * 2\n",
    "        \n",
    "    return {\"ci\": ci, \n",
    "            \"p_value\": p_value}"
   ]
  },
  {
   "cell_type": "markdown",
   "id": "julian-thunder",
   "metadata": {},
   "source": [
    "#### ARPU:"
   ]
  },
  {
   "cell_type": "code",
   "execution_count": 24,
   "id": "korean-france",
   "metadata": {},
   "outputs": [
    {
     "data": {
      "application/vnd.jupyter.widget-view+json": {
       "model_id": "184ac27fef2d4d5bb678a49aec327dbc",
       "version_major": 2,
       "version_minor": 0
      },
      "text/plain": [
       "  0%|          | 0/2000 [00:00<?, ?it/s]"
      ]
     },
     "metadata": {},
     "output_type": "display_data"
    },
    {
     "data": {
      "text/plain": [
       "{'ci':               0\n",
       " 0.025 -0.015021\n",
       " 0.975  0.058835,\n",
       " 'p_value': 0.24496371755664403}"
      ]
     },
     "execution_count": 24,
     "metadata": {},
     "output_type": "execute_result"
    }
   ],
   "source": [
    "get_bootstrap(control.user_revenue, test.user_revenue)"
   ]
  },
  {
   "cell_type": "markdown",
   "id": "hindu-distance",
   "metadata": {},
   "source": [
    "#### ARRPU:"
   ]
  },
  {
   "cell_type": "code",
   "execution_count": 25,
   "id": "black-schedule",
   "metadata": {},
   "outputs": [
    {
     "data": {
      "application/vnd.jupyter.widget-view+json": {
       "model_id": "fbab0a8e4b6d4c5386049797d2d4a674",
       "version_major": 2,
       "version_minor": 0
      },
      "text/plain": [
       "  0%|          | 0/2000 [00:00<?, ?it/s]"
      ]
     },
     "metadata": {},
     "output_type": "display_data"
    },
    {
     "data": {
      "text/plain": [
       "{'ci':               0\n",
       " 0.025 -0.522639\n",
       " 0.975  0.338513,\n",
       " 'p_value': 0.6805550238334706}"
      ]
     },
     "execution_count": 25,
     "metadata": {},
     "output_type": "execute_result"
    }
   ],
   "source": [
    "get_bootstrap(control.query('user_revenue > 0').user_revenue, test.query('user_revenue > 0').user_revenue)"
   ]
  },
  {
   "cell_type": "markdown",
   "id": "duplicate-diagram",
   "metadata": {},
   "source": [
    "#### Стат.значимой разницы в значениях ARPU и ARPPU не обнаружено."
   ]
  },
  {
   "cell_type": "markdown",
   "id": "cubic-module",
   "metadata": {},
   "source": [
    "#### CR:"
   ]
  },
  {
   "cell_type": "code",
   "execution_count": 26,
   "id": "sensitive-moore",
   "metadata": {},
   "outputs": [
    {
     "name": "stdout",
     "output_type": "stream",
     "text": [
      "z-stat = 3.303076372302363 \n",
      " p-value = 0.0009563033912928121\n"
     ]
    }
   ],
   "source": [
    "# для этой цели воспользуемся proportions_ztest\n",
    "count = np.array([control.query('user_revenue > 0').user_id.nunique(), test.query('user_revenue > 0').user_id.nunique()])\n",
    "nobs = np.array([control.user_id.nunique(), test.user_id.nunique()])\n",
    "z,p = proportions_ztest(count, nobs, value=0, alternative='two-sided')\n",
    "print('z-stat = {z} \\n p-value = {p}'.format(z=z,p=p))"
   ]
  },
  {
   "cell_type": "markdown",
   "id": "heavy-concrete",
   "metadata": {},
   "source": [
    "#### По результатам proportions_ztest обнаружены стат.значимые различия в конверсии контрольной и тестовой групп. "
   ]
  },
  {
   "cell_type": "markdown",
   "id": "endless-porter",
   "metadata": {},
   "source": [
    "### Вывод\n",
    "\n",
    "В целом по эксперименту:\n",
    "- Суммарная выручка в тестовой группе меньше, чем в контрольной на 5.36%;\n",
    "- Конверсия в платеж тестовой группы пользователей статистически значимо снизилась на ~7.54% относительно контрольной;\n",
    "- Стат.значимых различий в значениях ARPU и ARPPU групп не обнаружено.\n",
    "\n",
    "Можно сделать вывод о неудовлетворительных результатах эксперимента."
   ]
  },
  {
   "cell_type": "code",
   "execution_count": 27,
   "id": "fifty-democracy",
   "metadata": {},
   "outputs": [
    {
     "data": {
      "text/html": [
       "<div>\n",
       "<style scoped>\n",
       "    .dataframe tbody tr th:only-of-type {\n",
       "        vertical-align: middle;\n",
       "    }\n",
       "\n",
       "    .dataframe tbody tr th {\n",
       "        vertical-align: top;\n",
       "    }\n",
       "\n",
       "    .dataframe thead th {\n",
       "        text-align: right;\n",
       "    }\n",
       "</style>\n",
       "<table border=\"1\" class=\"dataframe\">\n",
       "  <thead>\n",
       "    <tr style=\"text-align: right;\">\n",
       "      <th>group</th>\n",
       "      <th>control</th>\n",
       "      <th>test</th>\n",
       "      <th>diff</th>\n",
       "      <th>percent_diff</th>\n",
       "    </tr>\n",
       "  </thead>\n",
       "  <tbody>\n",
       "    <tr>\n",
       "      <th>users</th>\n",
       "      <td>45400.000000</td>\n",
       "      <td>45600.000000</td>\n",
       "      <td>200.000000</td>\n",
       "      <td>0.44</td>\n",
       "    </tr>\n",
       "    <tr>\n",
       "      <th>clients</th>\n",
       "      <td>3489.000000</td>\n",
       "      <td>3243.000000</td>\n",
       "      <td>-246.000000</td>\n",
       "      <td>-7.05</td>\n",
       "    </tr>\n",
       "    <tr>\n",
       "      <th>total_user_revenue</th>\n",
       "      <td>17001.593107</td>\n",
       "      <td>16090.426997</td>\n",
       "      <td>-911.166110</td>\n",
       "      <td>-5.36</td>\n",
       "    </tr>\n",
       "    <tr>\n",
       "      <th>CR</th>\n",
       "      <td>7.690000</td>\n",
       "      <td>7.110000</td>\n",
       "      <td>-0.580000</td>\n",
       "      <td>-7.54</td>\n",
       "    </tr>\n",
       "    <tr>\n",
       "      <th>arpu</th>\n",
       "      <td>0.374484</td>\n",
       "      <td>0.352860</td>\n",
       "      <td>-0.021624</td>\n",
       "      <td>-5.77</td>\n",
       "    </tr>\n",
       "    <tr>\n",
       "      <th>arppu</th>\n",
       "      <td>4.872913</td>\n",
       "      <td>4.961587</td>\n",
       "      <td>0.088674</td>\n",
       "      <td>1.82</td>\n",
       "    </tr>\n",
       "    <tr>\n",
       "      <th>avg_check</th>\n",
       "      <td>1.412182</td>\n",
       "      <td>1.452366</td>\n",
       "      <td>0.040184</td>\n",
       "      <td>2.85</td>\n",
       "    </tr>\n",
       "    <tr>\n",
       "      <th>rep_purch</th>\n",
       "      <td>3.510000</td>\n",
       "      <td>3.420000</td>\n",
       "      <td>-0.090000</td>\n",
       "      <td>-2.56</td>\n",
       "    </tr>\n",
       "  </tbody>\n",
       "</table>\n",
       "</div>"
      ],
      "text/plain": [
       "group                    control          test        diff  percent_diff\n",
       "users               45400.000000  45600.000000  200.000000          0.44\n",
       "clients              3489.000000   3243.000000 -246.000000         -7.05\n",
       "total_user_revenue  17001.593107  16090.426997 -911.166110         -5.36\n",
       "CR                      7.690000      7.110000   -0.580000         -7.54\n",
       "arpu                    0.374484      0.352860   -0.021624         -5.77\n",
       "arppu                   4.872913      4.961587    0.088674          1.82\n",
       "avg_check               1.412182      1.452366    0.040184          2.85\n",
       "rep_purch               3.510000      3.420000   -0.090000         -2.56"
      ]
     },
     "execution_count": 27,
     "metadata": {},
     "output_type": "execute_result"
    }
   ],
   "source": [
    "metrics_by_groups"
   ]
  }
 ],
 "metadata": {
  "kernelspec": {
   "display_name": "Python 3",
   "language": "python",
   "name": "python3"
  },
  "language_info": {
   "codemirror_mode": {
    "name": "ipython",
    "version": 3
   },
   "file_extension": ".py",
   "mimetype": "text/x-python",
   "name": "python",
   "nbconvert_exporter": "python",
   "pygments_lexer": "ipython3",
   "version": "3.8.6"
  }
 },
 "nbformat": 4,
 "nbformat_minor": 5
}
