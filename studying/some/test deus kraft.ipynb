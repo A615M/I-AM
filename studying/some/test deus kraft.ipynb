{
 "cells": [
  {
   "cell_type": "markdown",
   "id": "comparable-associate",
   "metadata": {},
   "source": [
    "В нашей игре проводился А/В тест. Каждый игрок был распределен в одну из групп (контрольная или тестовая) и получил идентификатор 0 или 1 соответственно. В тесте мы хотели проверить гипотезу о том, что изменения в тестовой группе положительно повлияют на денежные показатели: ARPU, ARPPU и конверсию. Проведите анализ А/В теста. Данные можно по ссылке. Данные содержат следующие поля:\n",
    "- geo_country - страна игрока\n",
    "- test_timestamp - дата, когда игрок попал в тест\n",
    "- user_revenue - выручка с игрока\n",
    "- user_payments - количество платежей игрока\n",
    "- user_id - идентификатор игрока\n",
    "- test_group - идентификатор группы теста"
   ]
  },
  {
   "cell_type": "code",
   "execution_count": 1,
   "id": "recreational-range",
   "metadata": {},
   "outputs": [],
   "source": [
    "import numpy as np\n",
    "import pandas as pd\n",
    "import scipy.stats as stats\n",
    "import matplotlib.pyplot as plt\n",
    "\n",
    "%matplotlib inline\n",
    "\n",
    "from tqdm.auto import tqdm\n",
    "from statsmodels.stats.proportion import proportions_ztest\n",
    "\n",
    "from statsmodels.stats.multitest import multipletests"
   ]
  },
  {
   "cell_type": "code",
   "execution_count": 2,
   "id": "worth-neighborhood",
   "metadata": {},
   "outputs": [
    {
     "data": {
      "text/html": [
       "<div>\n",
       "<style scoped>\n",
       "    .dataframe tbody tr th:only-of-type {\n",
       "        vertical-align: middle;\n",
       "    }\n",
       "\n",
       "    .dataframe tbody tr th {\n",
       "        vertical-align: top;\n",
       "    }\n",
       "\n",
       "    .dataframe thead th {\n",
       "        text-align: right;\n",
       "    }\n",
       "</style>\n",
       "<table border=\"1\" class=\"dataframe\">\n",
       "  <thead>\n",
       "    <tr style=\"text-align: right;\">\n",
       "      <th></th>\n",
       "      <th>geo_country</th>\n",
       "      <th>test_timestamp</th>\n",
       "      <th>user_revenue</th>\n",
       "      <th>user_payments</th>\n",
       "      <th>user_id</th>\n",
       "      <th>test_group</th>\n",
       "    </tr>\n",
       "  </thead>\n",
       "  <tbody>\n",
       "    <tr>\n",
       "      <th>0</th>\n",
       "      <td>Russia</td>\n",
       "      <td>2021-05-03 19:06:06.325</td>\n",
       "      <td>NaN</td>\n",
       "      <td>0</td>\n",
       "      <td>6d696b2e-f236-45b1-b770-5530b2a3b3cf</td>\n",
       "      <td>0</td>\n",
       "    </tr>\n",
       "    <tr>\n",
       "      <th>1</th>\n",
       "      <td>India</td>\n",
       "      <td>2021-05-04 17:13:35.877</td>\n",
       "      <td>NaN</td>\n",
       "      <td>0</td>\n",
       "      <td>3ae8cd76-14ef-4e47-99c9-637e9260205e</td>\n",
       "      <td>0</td>\n",
       "    </tr>\n",
       "    <tr>\n",
       "      <th>2</th>\n",
       "      <td>Russia</td>\n",
       "      <td>2021-05-01 01:56:49.796</td>\n",
       "      <td>1.223728</td>\n",
       "      <td>1</td>\n",
       "      <td>0bf7d591-a052-44a2-97a5-161791fb440d</td>\n",
       "      <td>0</td>\n",
       "    </tr>\n",
       "    <tr>\n",
       "      <th>3</th>\n",
       "      <td>Kazakhstan</td>\n",
       "      <td>2021-05-03 04:17:25.337</td>\n",
       "      <td>NaN</td>\n",
       "      <td>0</td>\n",
       "      <td>5f8a3459-e85d-451e-8f93-0c17664c70da</td>\n",
       "      <td>0</td>\n",
       "    </tr>\n",
       "    <tr>\n",
       "      <th>4</th>\n",
       "      <td>Switzerland</td>\n",
       "      <td>2021-05-20 10:49:18.064</td>\n",
       "      <td>NaN</td>\n",
       "      <td>0</td>\n",
       "      <td>f2ea93ed-b9c6-4d8b-88d0-7717f8931988</td>\n",
       "      <td>0</td>\n",
       "    </tr>\n",
       "  </tbody>\n",
       "</table>\n",
       "</div>"
      ],
      "text/plain": [
       "   geo_country          test_timestamp  user_revenue  user_payments  \\\n",
       "0       Russia 2021-05-03 19:06:06.325           NaN              0   \n",
       "1        India 2021-05-04 17:13:35.877           NaN              0   \n",
       "2       Russia 2021-05-01 01:56:49.796      1.223728              1   \n",
       "3   Kazakhstan 2021-05-03 04:17:25.337           NaN              0   \n",
       "4  Switzerland 2021-05-20 10:49:18.064           NaN              0   \n",
       "\n",
       "                                user_id  test_group  \n",
       "0  6d696b2e-f236-45b1-b770-5530b2a3b3cf           0  \n",
       "1  3ae8cd76-14ef-4e47-99c9-637e9260205e           0  \n",
       "2  0bf7d591-a052-44a2-97a5-161791fb440d           0  \n",
       "3  5f8a3459-e85d-451e-8f93-0c17664c70da           0  \n",
       "4  f2ea93ed-b9c6-4d8b-88d0-7717f8931988           0  "
      ]
     },
     "execution_count": 2,
     "metadata": {},
     "output_type": "execute_result"
    }
   ],
   "source": [
    "data = pd.read_csv(\"data.csv\", parse_dates=['test_timestamp'])\n",
    "data.head()"
   ]
  },
  {
   "cell_type": "markdown",
   "id": "mineral-traffic",
   "metadata": {},
   "source": [
    "Проверим и подготовим данные:"
   ]
  },
  {
   "cell_type": "code",
   "execution_count": 3,
   "id": "purple-proof",
   "metadata": {},
   "outputs": [
    {
     "data": {
      "text/plain": [
       "(91000, 6)"
      ]
     },
     "execution_count": 3,
     "metadata": {},
     "output_type": "execute_result"
    }
   ],
   "source": [
    "data.shape"
   ]
  },
  {
   "cell_type": "code",
   "execution_count": 4,
   "id": "rotary-maldives",
   "metadata": {},
   "outputs": [
    {
     "data": {
      "text/plain": [
       "geo_country               object\n",
       "test_timestamp    datetime64[ns]\n",
       "user_revenue             float64\n",
       "user_payments              int64\n",
       "user_id                   object\n",
       "test_group                 int64\n",
       "dtype: object"
      ]
     },
     "execution_count": 4,
     "metadata": {},
     "output_type": "execute_result"
    }
   ],
   "source": [
    "data.dtypes"
   ]
  },
  {
   "cell_type": "code",
   "execution_count": 5,
   "id": "monetary-outside",
   "metadata": {},
   "outputs": [
    {
     "data": {
      "text/plain": [
       "geo_country          18\n",
       "test_timestamp        0\n",
       "user_revenue      84268\n",
       "user_payments         0\n",
       "user_id               0\n",
       "test_group            0\n",
       "dtype: int64"
      ]
     },
     "execution_count": 5,
     "metadata": {},
     "output_type": "execute_result"
    }
   ],
   "source": [
    "data.isna().sum()"
   ]
  },
  {
   "cell_type": "code",
   "execution_count": 6,
   "id": "centered-craps",
   "metadata": {},
   "outputs": [],
   "source": [
    "data.user_revenue.fillna(0, inplace=True)"
   ]
  },
  {
   "cell_type": "code",
   "execution_count": 7,
   "id": "signed-russia",
   "metadata": {},
   "outputs": [
    {
     "data": {
      "text/html": [
       "<div>\n",
       "<style scoped>\n",
       "    .dataframe tbody tr th:only-of-type {\n",
       "        vertical-align: middle;\n",
       "    }\n",
       "\n",
       "    .dataframe tbody tr th {\n",
       "        vertical-align: top;\n",
       "    }\n",
       "\n",
       "    .dataframe thead th {\n",
       "        text-align: right;\n",
       "    }\n",
       "</style>\n",
       "<table border=\"1\" class=\"dataframe\">\n",
       "  <thead>\n",
       "    <tr style=\"text-align: right;\">\n",
       "      <th></th>\n",
       "      <th>geo_country</th>\n",
       "      <th>test_timestamp</th>\n",
       "      <th>user_revenue</th>\n",
       "      <th>user_payments</th>\n",
       "      <th>user_id</th>\n",
       "      <th>test_group</th>\n",
       "    </tr>\n",
       "  </thead>\n",
       "  <tbody>\n",
       "    <tr>\n",
       "      <th>4902</th>\n",
       "      <td>NaN</td>\n",
       "      <td>2021-05-02 12:11:40.675</td>\n",
       "      <td>0.0</td>\n",
       "      <td>0</td>\n",
       "      <td>062de72d-e68d-4958-b88e-2a543fbbb855</td>\n",
       "      <td>0</td>\n",
       "    </tr>\n",
       "    <tr>\n",
       "      <th>8626</th>\n",
       "      <td>NaN</td>\n",
       "      <td>2021-05-12 19:42:49.208</td>\n",
       "      <td>0.0</td>\n",
       "      <td>0</td>\n",
       "      <td>c810d2ae-9019-4cc0-b679-fe670c5260c4</td>\n",
       "      <td>0</td>\n",
       "    </tr>\n",
       "    <tr>\n",
       "      <th>11199</th>\n",
       "      <td>NaN</td>\n",
       "      <td>2021-05-23 19:01:09.719</td>\n",
       "      <td>0.0</td>\n",
       "      <td>0</td>\n",
       "      <td>1e40be1a-53f9-498b-ab78-9428f2add58e</td>\n",
       "      <td>0</td>\n",
       "    </tr>\n",
       "    <tr>\n",
       "      <th>16257</th>\n",
       "      <td>NaN</td>\n",
       "      <td>2021-05-01 17:12:02.575</td>\n",
       "      <td>0.0</td>\n",
       "      <td>0</td>\n",
       "      <td>9f9adafe-4a9f-4de9-ada4-8c0e659c81cd</td>\n",
       "      <td>0</td>\n",
       "    </tr>\n",
       "    <tr>\n",
       "      <th>19005</th>\n",
       "      <td>NaN</td>\n",
       "      <td>2021-05-09 12:07:41.241</td>\n",
       "      <td>0.0</td>\n",
       "      <td>0</td>\n",
       "      <td>e680ac0e-1597-442b-bcc9-676864f0e1be</td>\n",
       "      <td>0</td>\n",
       "    </tr>\n",
       "    <tr>\n",
       "      <th>19637</th>\n",
       "      <td>NaN</td>\n",
       "      <td>2021-05-31 11:15:44.431</td>\n",
       "      <td>0.0</td>\n",
       "      <td>0</td>\n",
       "      <td>ca31453d-1692-4bda-93dd-85e43e5557d9</td>\n",
       "      <td>0</td>\n",
       "    </tr>\n",
       "    <tr>\n",
       "      <th>25156</th>\n",
       "      <td>NaN</td>\n",
       "      <td>2021-05-28 18:41:37.086</td>\n",
       "      <td>0.0</td>\n",
       "      <td>0</td>\n",
       "      <td>1fa38c62-170b-4d0e-b13b-53cdf25f3238</td>\n",
       "      <td>1</td>\n",
       "    </tr>\n",
       "    <tr>\n",
       "      <th>26030</th>\n",
       "      <td>NaN</td>\n",
       "      <td>2021-05-23 13:00:28.796</td>\n",
       "      <td>0.0</td>\n",
       "      <td>0</td>\n",
       "      <td>d2d25be9-e100-4d82-84fc-6d4c876ce7b7</td>\n",
       "      <td>1</td>\n",
       "    </tr>\n",
       "    <tr>\n",
       "      <th>26778</th>\n",
       "      <td>NaN</td>\n",
       "      <td>2021-05-03 13:30:33.213</td>\n",
       "      <td>0.0</td>\n",
       "      <td>0</td>\n",
       "      <td>e941c812-923d-4eb8-9993-e3afddb58e32</td>\n",
       "      <td>1</td>\n",
       "    </tr>\n",
       "    <tr>\n",
       "      <th>33186</th>\n",
       "      <td>NaN</td>\n",
       "      <td>2021-05-01 10:14:17.297</td>\n",
       "      <td>0.0</td>\n",
       "      <td>0</td>\n",
       "      <td>f17724c7-ec1e-4bf4-9672-6e68951c3c36</td>\n",
       "      <td>1</td>\n",
       "    </tr>\n",
       "    <tr>\n",
       "      <th>36144</th>\n",
       "      <td>NaN</td>\n",
       "      <td>2021-05-09 21:15:32.771</td>\n",
       "      <td>0.0</td>\n",
       "      <td>0</td>\n",
       "      <td>b96c51c4-87ba-474d-a4a8-cc42c9fc51d8</td>\n",
       "      <td>1</td>\n",
       "    </tr>\n",
       "    <tr>\n",
       "      <th>42169</th>\n",
       "      <td>NaN</td>\n",
       "      <td>2021-05-26 09:34:15.056</td>\n",
       "      <td>0.0</td>\n",
       "      <td>0</td>\n",
       "      <td>d6e93ce0-a6ed-46e8-af3a-3ec83ff4677d</td>\n",
       "      <td>1</td>\n",
       "    </tr>\n",
       "    <tr>\n",
       "      <th>52265</th>\n",
       "      <td>NaN</td>\n",
       "      <td>2021-05-01 15:08:53.315</td>\n",
       "      <td>0.0</td>\n",
       "      <td>0</td>\n",
       "      <td>edf641e0-beac-42d1-a7ef-7160bff6e934</td>\n",
       "      <td>0</td>\n",
       "    </tr>\n",
       "    <tr>\n",
       "      <th>59200</th>\n",
       "      <td>NaN</td>\n",
       "      <td>2021-05-03 17:16:47.813</td>\n",
       "      <td>0.0</td>\n",
       "      <td>0</td>\n",
       "      <td>1db65e51-4585-411e-ac92-50cff8a42a16</td>\n",
       "      <td>0</td>\n",
       "    </tr>\n",
       "    <tr>\n",
       "      <th>60836</th>\n",
       "      <td>NaN</td>\n",
       "      <td>2021-05-13 06:20:11.281</td>\n",
       "      <td>0.0</td>\n",
       "      <td>0</td>\n",
       "      <td>0d35960d-6a24-4e8d-852c-a659b5058256</td>\n",
       "      <td>0</td>\n",
       "    </tr>\n",
       "    <tr>\n",
       "      <th>71573</th>\n",
       "      <td>NaN</td>\n",
       "      <td>2021-05-30 13:11:47.565</td>\n",
       "      <td>0.0</td>\n",
       "      <td>0</td>\n",
       "      <td>5d007316-9a90-4716-94d9-cf12b721be97</td>\n",
       "      <td>1</td>\n",
       "    </tr>\n",
       "    <tr>\n",
       "      <th>84170</th>\n",
       "      <td>NaN</td>\n",
       "      <td>2021-05-01 04:15:49.991</td>\n",
       "      <td>0.0</td>\n",
       "      <td>0</td>\n",
       "      <td>7a5745df-183e-4928-959d-68490fb12af5</td>\n",
       "      <td>1</td>\n",
       "    </tr>\n",
       "    <tr>\n",
       "      <th>84756</th>\n",
       "      <td>NaN</td>\n",
       "      <td>2021-05-01 21:19:01.217</td>\n",
       "      <td>0.0</td>\n",
       "      <td>0</td>\n",
       "      <td>4dce05d6-6fa3-4eaa-9f8b-c6f411992ff8</td>\n",
       "      <td>1</td>\n",
       "    </tr>\n",
       "  </tbody>\n",
       "</table>\n",
       "</div>"
      ],
      "text/plain": [
       "      geo_country          test_timestamp  user_revenue  user_payments  \\\n",
       "4902          NaN 2021-05-02 12:11:40.675           0.0              0   \n",
       "8626          NaN 2021-05-12 19:42:49.208           0.0              0   \n",
       "11199         NaN 2021-05-23 19:01:09.719           0.0              0   \n",
       "16257         NaN 2021-05-01 17:12:02.575           0.0              0   \n",
       "19005         NaN 2021-05-09 12:07:41.241           0.0              0   \n",
       "19637         NaN 2021-05-31 11:15:44.431           0.0              0   \n",
       "25156         NaN 2021-05-28 18:41:37.086           0.0              0   \n",
       "26030         NaN 2021-05-23 13:00:28.796           0.0              0   \n",
       "26778         NaN 2021-05-03 13:30:33.213           0.0              0   \n",
       "33186         NaN 2021-05-01 10:14:17.297           0.0              0   \n",
       "36144         NaN 2021-05-09 21:15:32.771           0.0              0   \n",
       "42169         NaN 2021-05-26 09:34:15.056           0.0              0   \n",
       "52265         NaN 2021-05-01 15:08:53.315           0.0              0   \n",
       "59200         NaN 2021-05-03 17:16:47.813           0.0              0   \n",
       "60836         NaN 2021-05-13 06:20:11.281           0.0              0   \n",
       "71573         NaN 2021-05-30 13:11:47.565           0.0              0   \n",
       "84170         NaN 2021-05-01 04:15:49.991           0.0              0   \n",
       "84756         NaN 2021-05-01 21:19:01.217           0.0              0   \n",
       "\n",
       "                                    user_id  test_group  \n",
       "4902   062de72d-e68d-4958-b88e-2a543fbbb855           0  \n",
       "8626   c810d2ae-9019-4cc0-b679-fe670c5260c4           0  \n",
       "11199  1e40be1a-53f9-498b-ab78-9428f2add58e           0  \n",
       "16257  9f9adafe-4a9f-4de9-ada4-8c0e659c81cd           0  \n",
       "19005  e680ac0e-1597-442b-bcc9-676864f0e1be           0  \n",
       "19637  ca31453d-1692-4bda-93dd-85e43e5557d9           0  \n",
       "25156  1fa38c62-170b-4d0e-b13b-53cdf25f3238           1  \n",
       "26030  d2d25be9-e100-4d82-84fc-6d4c876ce7b7           1  \n",
       "26778  e941c812-923d-4eb8-9993-e3afddb58e32           1  \n",
       "33186  f17724c7-ec1e-4bf4-9672-6e68951c3c36           1  \n",
       "36144  b96c51c4-87ba-474d-a4a8-cc42c9fc51d8           1  \n",
       "42169  d6e93ce0-a6ed-46e8-af3a-3ec83ff4677d           1  \n",
       "52265  edf641e0-beac-42d1-a7ef-7160bff6e934           0  \n",
       "59200  1db65e51-4585-411e-ac92-50cff8a42a16           0  \n",
       "60836  0d35960d-6a24-4e8d-852c-a659b5058256           0  \n",
       "71573  5d007316-9a90-4716-94d9-cf12b721be97           1  \n",
       "84170  7a5745df-183e-4928-959d-68490fb12af5           1  \n",
       "84756  4dce05d6-6fa3-4eaa-9f8b-c6f411992ff8           1  "
      ]
     },
     "execution_count": 7,
     "metadata": {},
     "output_type": "execute_result"
    }
   ],
   "source": [
    "data.query('geo_country.isna()')          "
   ]
  },
  {
   "cell_type": "code",
   "execution_count": 8,
   "id": "rolled-president",
   "metadata": {},
   "outputs": [
    {
     "data": {
      "text/plain": [
       "91000"
      ]
     },
     "execution_count": 8,
     "metadata": {},
     "output_type": "execute_result"
    }
   ],
   "source": [
    "data.user_id.nunique()"
   ]
  },
  {
   "cell_type": "code",
   "execution_count": 9,
   "id": "opponent-telling",
   "metadata": {},
   "outputs": [
    {
     "data": {
      "text/html": [
       "<div>\n",
       "<style scoped>\n",
       "    .dataframe tbody tr th:only-of-type {\n",
       "        vertical-align: middle;\n",
       "    }\n",
       "\n",
       "    .dataframe tbody tr th {\n",
       "        vertical-align: top;\n",
       "    }\n",
       "\n",
       "    .dataframe thead th {\n",
       "        text-align: right;\n",
       "    }\n",
       "</style>\n",
       "<table border=\"1\" class=\"dataframe\">\n",
       "  <thead>\n",
       "    <tr style=\"text-align: right;\">\n",
       "      <th></th>\n",
       "      <th>geo_country</th>\n",
       "      <th>test_timestamp</th>\n",
       "      <th>user_revenue</th>\n",
       "      <th>user_payments</th>\n",
       "      <th>user_id</th>\n",
       "      <th>test_group</th>\n",
       "      <th>mean_revenue_per_transact</th>\n",
       "      <th>is_client</th>\n",
       "    </tr>\n",
       "  </thead>\n",
       "  <tbody>\n",
       "    <tr>\n",
       "      <th>0</th>\n",
       "      <td>Russia</td>\n",
       "      <td>2021-05-03 19:06:06.325</td>\n",
       "      <td>0.000000</td>\n",
       "      <td>0</td>\n",
       "      <td>6d696b2e-f236-45b1-b770-5530b2a3b3cf</td>\n",
       "      <td>0</td>\n",
       "      <td>0.000000</td>\n",
       "      <td>0</td>\n",
       "    </tr>\n",
       "    <tr>\n",
       "      <th>1</th>\n",
       "      <td>India</td>\n",
       "      <td>2021-05-04 17:13:35.877</td>\n",
       "      <td>0.000000</td>\n",
       "      <td>0</td>\n",
       "      <td>3ae8cd76-14ef-4e47-99c9-637e9260205e</td>\n",
       "      <td>0</td>\n",
       "      <td>0.000000</td>\n",
       "      <td>0</td>\n",
       "    </tr>\n",
       "    <tr>\n",
       "      <th>2</th>\n",
       "      <td>Russia</td>\n",
       "      <td>2021-05-01 01:56:49.796</td>\n",
       "      <td>1.223728</td>\n",
       "      <td>1</td>\n",
       "      <td>0bf7d591-a052-44a2-97a5-161791fb440d</td>\n",
       "      <td>0</td>\n",
       "      <td>1.223728</td>\n",
       "      <td>1</td>\n",
       "    </tr>\n",
       "    <tr>\n",
       "      <th>3</th>\n",
       "      <td>Kazakhstan</td>\n",
       "      <td>2021-05-03 04:17:25.337</td>\n",
       "      <td>0.000000</td>\n",
       "      <td>0</td>\n",
       "      <td>5f8a3459-e85d-451e-8f93-0c17664c70da</td>\n",
       "      <td>0</td>\n",
       "      <td>0.000000</td>\n",
       "      <td>0</td>\n",
       "    </tr>\n",
       "    <tr>\n",
       "      <th>4</th>\n",
       "      <td>Switzerland</td>\n",
       "      <td>2021-05-20 10:49:18.064</td>\n",
       "      <td>0.000000</td>\n",
       "      <td>0</td>\n",
       "      <td>f2ea93ed-b9c6-4d8b-88d0-7717f8931988</td>\n",
       "      <td>0</td>\n",
       "      <td>0.000000</td>\n",
       "      <td>0</td>\n",
       "    </tr>\n",
       "  </tbody>\n",
       "</table>\n",
       "</div>"
      ],
      "text/plain": [
       "   geo_country          test_timestamp  user_revenue  user_payments  \\\n",
       "0       Russia 2021-05-03 19:06:06.325      0.000000              0   \n",
       "1        India 2021-05-04 17:13:35.877      0.000000              0   \n",
       "2       Russia 2021-05-01 01:56:49.796      1.223728              1   \n",
       "3   Kazakhstan 2021-05-03 04:17:25.337      0.000000              0   \n",
       "4  Switzerland 2021-05-20 10:49:18.064      0.000000              0   \n",
       "\n",
       "                                user_id  test_group  \\\n",
       "0  6d696b2e-f236-45b1-b770-5530b2a3b3cf           0   \n",
       "1  3ae8cd76-14ef-4e47-99c9-637e9260205e           0   \n",
       "2  0bf7d591-a052-44a2-97a5-161791fb440d           0   \n",
       "3  5f8a3459-e85d-451e-8f93-0c17664c70da           0   \n",
       "4  f2ea93ed-b9c6-4d8b-88d0-7717f8931988           0   \n",
       "\n",
       "   mean_revenue_per_transact  is_client  \n",
       "0                   0.000000          0  \n",
       "1                   0.000000          0  \n",
       "2                   1.223728          1  \n",
       "3                   0.000000          0  \n",
       "4                   0.000000          0  "
      ]
     },
     "execution_count": 9,
     "metadata": {},
     "output_type": "execute_result"
    }
   ],
   "source": [
    "data['mean_revenue_per_transact'] = data['user_revenue'] / data['user_payments']\n",
    "data['is_client'] = (data['user_payments'] >= 1).astype(int) #  т.к. могут возникнуть проблемы при агрегации\n",
    "data.mean_revenue_per_transact.fillna(0, inplace=True)\n",
    "data.head()"
   ]
  },
  {
   "cell_type": "code",
   "execution_count": 10,
   "id": "nutritional-fruit",
   "metadata": {},
   "outputs": [
    {
     "data": {
      "text/plain": [
       "0          0.000000\n",
       "59575      0.000000\n",
       "59574      0.000000\n",
       "59573      0.000000\n",
       "59572      0.000000\n",
       "            ...    \n",
       "3903     105.543209\n",
       "38880    111.998889\n",
       "50841    115.932887\n",
       "16360    124.925704\n",
       "37698    175.936684\n",
       "Name: user_revenue, Length: 91000, dtype: float64"
      ]
     },
     "execution_count": 10,
     "metadata": {},
     "output_type": "execute_result"
    }
   ],
   "source": [
    "data.user_revenue.sort_values()"
   ]
  },
  {
   "cell_type": "code",
   "execution_count": 11,
   "id": "developed-stupid",
   "metadata": {},
   "outputs": [
    {
     "data": {
      "text/plain": [
       "0         0.000000\n",
       "59575     0.000000\n",
       "59574     0.000000\n",
       "59573     0.000000\n",
       "59572     0.000000\n",
       "           ...    \n",
       "90584    18.438978\n",
       "75782    18.460139\n",
       "53414    19.798927\n",
       "82308    21.027730\n",
       "79982    23.925510\n",
       "Name: mean_revenue_per_transact, Length: 91000, dtype: float64"
      ]
     },
     "execution_count": 11,
     "metadata": {},
     "output_type": "execute_result"
    }
   ],
   "source": [
    "data.mean_revenue_per_transact.sort_values()"
   ]
  },
  {
   "cell_type": "code",
   "execution_count": null,
   "id": "capable-today",
   "metadata": {},
   "outputs": [],
   "source": []
  },
  {
   "cell_type": "code",
   "execution_count": 12,
   "id": "medieval-shock",
   "metadata": {},
   "outputs": [
    {
     "data": {
      "text/html": [
       "<div>\n",
       "<style scoped>\n",
       "    .dataframe tbody tr th:only-of-type {\n",
       "        vertical-align: middle;\n",
       "    }\n",
       "\n",
       "    .dataframe tbody tr th {\n",
       "        vertical-align: top;\n",
       "    }\n",
       "\n",
       "    .dataframe thead th {\n",
       "        text-align: right;\n",
       "    }\n",
       "</style>\n",
       "<table border=\"1\" class=\"dataframe\">\n",
       "  <thead>\n",
       "    <tr style=\"text-align: right;\">\n",
       "      <th>group</th>\n",
       "      <th>control</th>\n",
       "      <th>test</th>\n",
       "      <th>diff</th>\n",
       "      <th>percent_diff</th>\n",
       "    </tr>\n",
       "  </thead>\n",
       "  <tbody>\n",
       "    <tr>\n",
       "      <th>users</th>\n",
       "      <td>45400.000000</td>\n",
       "      <td>45600.000000</td>\n",
       "      <td>200.000000</td>\n",
       "      <td>0.44</td>\n",
       "    </tr>\n",
       "    <tr>\n",
       "      <th>clients</th>\n",
       "      <td>3489.000000</td>\n",
       "      <td>3243.000000</td>\n",
       "      <td>-246.000000</td>\n",
       "      <td>-7.05</td>\n",
       "    </tr>\n",
       "    <tr>\n",
       "      <th>total_user_revenue</th>\n",
       "      <td>17001.593107</td>\n",
       "      <td>16090.426997</td>\n",
       "      <td>-911.166110</td>\n",
       "      <td>-5.36</td>\n",
       "    </tr>\n",
       "    <tr>\n",
       "      <th>CR</th>\n",
       "      <td>7.690000</td>\n",
       "      <td>7.110000</td>\n",
       "      <td>-0.580000</td>\n",
       "      <td>-7.54</td>\n",
       "    </tr>\n",
       "    <tr>\n",
       "      <th>arpu</th>\n",
       "      <td>0.374484</td>\n",
       "      <td>0.352860</td>\n",
       "      <td>-0.021624</td>\n",
       "      <td>-5.77</td>\n",
       "    </tr>\n",
       "    <tr>\n",
       "      <th>arppu</th>\n",
       "      <td>4.872913</td>\n",
       "      <td>4.961587</td>\n",
       "      <td>0.088674</td>\n",
       "      <td>1.82</td>\n",
       "    </tr>\n",
       "    <tr>\n",
       "      <th>avg_check</th>\n",
       "      <td>1.412182</td>\n",
       "      <td>1.452366</td>\n",
       "      <td>0.040184</td>\n",
       "      <td>2.85</td>\n",
       "    </tr>\n",
       "    <tr>\n",
       "      <th>rep_purch</th>\n",
       "      <td>3.510000</td>\n",
       "      <td>3.420000</td>\n",
       "      <td>-0.090000</td>\n",
       "      <td>-2.56</td>\n",
       "    </tr>\n",
       "  </tbody>\n",
       "</table>\n",
       "</div>"
      ],
      "text/plain": [
       "group                    control          test        diff  percent_diff\n",
       "users               45400.000000  45600.000000  200.000000          0.44\n",
       "clients              3489.000000   3243.000000 -246.000000         -7.05\n",
       "total_user_revenue  17001.593107  16090.426997 -911.166110         -5.36\n",
       "CR                      7.690000      7.110000   -0.580000         -7.54\n",
       "arpu                    0.374484      0.352860   -0.021624         -5.77\n",
       "arppu                   4.872913      4.961587    0.088674          1.82\n",
       "avg_check               1.412182      1.452366    0.040184          2.85\n",
       "rep_purch               3.510000      3.420000   -0.090000         -2.56"
      ]
     },
     "execution_count": 12,
     "metadata": {},
     "output_type": "execute_result"
    }
   ],
   "source": [
    "# подготовим данные и соберем полученную информацию в таблицу для наглядности\n",
    "\n",
    "control = data.query('test_group == 0')\n",
    "test = data.query('test_group == 1')\n",
    "\n",
    "# количество пользователей в группах\n",
    "users_quantity_control = control.shape[0]\n",
    "users_quantity_test = test.shape[0]\n",
    "\n",
    "# выручка\n",
    "total_user_revenue_control =  control.user_revenue.sum()\n",
    "total_user_revenue_test =  test.user_revenue.sum()\n",
    "\n",
    "# количество покупок в группах\n",
    "checks_control_quantity = control.query('user_revenue > 0').shape[0]\n",
    "checks_test_quantity = test.query('user_revenue > 0').shape[0]\n",
    "\n",
    "# количество клиентов в группах\n",
    "clients_control_quantity = control.query('user_revenue > 0').user_id.nunique()\n",
    "clients_test_quantity = test.query('user_revenue > 0').user_id.nunique()\n",
    "    \n",
    "# конверсия в покупателя\n",
    "cr_control = round(clients_control_quantity / users_quantity_control * 100, 2)\n",
    "cr_test = round(clients_test_quantity / users_quantity_test * 100 , 2)\n",
    "         \n",
    "# ARPU\n",
    "arpu_control = round(control.user_revenue.sum() / control.shape[0], 6)\n",
    "arpu_test = round(test.user_revenue.sum() / test.shape[0], 6)\n",
    "\n",
    "# ARPPU\n",
    "arppu_control = round(control.user_revenue.sum() / clients_control_quantity, 6)\n",
    "arppu_test = round(test.user_revenue.sum() / clients_test_quantity, 6)\n",
    "\n",
    "# Средний чек\n",
    "avg_check_control = round(np.mean(control.query('user_revenue > 0').user_revenue / control.user_payments), 6)\n",
    "avg_check_test = round(np.mean(test.query('user_revenue > 0').user_revenue / test.user_payments), 6)\n",
    "    \n",
    "# коэффициент повторных покупок\n",
    "rep_purch_control = round(control.query('user_revenue > 0').user_payments.mean(), 2)\n",
    "rep_purch_test = round(test.query('user_revenue > 0').user_payments.mean(), 2)\n",
    "\n",
    "metrics = pd.DataFrame({'group': [\"control\", \"test\"],\n",
    "                        'users': [users_quantity_control, users_quantity_test],\n",
    "                        'clients': [clients_control_quantity, clients_test_quantity],\n",
    "                        'total_user_revenue': [total_user_revenue_control, total_user_revenue_test],\n",
    "                        'CR': [cr_control, cr_test],\n",
    "                        'arpu': [arpu_control, arpu_test],\n",
    "                        'arppu': [arppu_control, arppu_test],\n",
    "                        'avg_check': [avg_check_control, avg_check_test],\n",
    "                        'rep_purch': [rep_purch_control, rep_purch_test]}\n",
    "                          )\n",
    "\n",
    "metrics = metrics.set_index(\"group\").T\n",
    "\n",
    "metrics['diff'] = metrics['test'] - metrics['control']\n",
    "metrics['percent_diff'] = round(metrics['diff'] / metrics['control'] * 100, 2)\n",
    "metrics"
   ]
  },
  {
   "cell_type": "markdown",
   "id": "simplified-future",
   "metadata": {},
   "source": [
    "- Суммарная выручка в тестовой группе меньше, чем в контрольной на 5.36%;\n",
    "- При этом конверсия в платеж тестовой группы пользователей снизилась на ~7.54% относительно контрольной;\n",
    "- ARPU в тестовой группе ниже на ~5.77%;\n",
    "- ARPPU в тестовой группе превосходит аналогичный показатель в контрольной - разница в ~1.82%;\n",
    "- Cредний чек в тестовой группе дороже на ~2.85%;\n",
    "- Коэффициент повторных покупок снизился на 2.56%."
   ]
  },
  {
   "cell_type": "markdown",
   "id": "potential-packing",
   "metadata": {},
   "source": [
    "Перед воспроизведением A/B-теста проверим распределения user_revenue на нормальность тестом Шапиро-Уилка.:"
   ]
  },
  {
   "cell_type": "code",
   "execution_count": 13,
   "id": "nutritional-morning",
   "metadata": {},
   "outputs": [
    {
     "name": "stdout",
     "output_type": "stream",
     "text": [
      "ShapiroResult(statistic=0.12578243017196655, pvalue=0.0)\n",
      "2.8038017214413613\n"
     ]
    },
    {
     "data": {
      "image/png": "[encoded data removed]",
      "text/plain": [
       "<Figure size 432x288 with 1 Axes>"
      ]
     },
     "metadata": {
      "needs_background": "light"
     },
     "output_type": "display_data"
    }
   ],
   "source": [
    "control.user_revenue.hist()\n",
    "print(stats.shapiro(control.user_revenue.sample(1000, random_state=17)))\n",
    "print(np.std(control.user_revenue))"
   ]
  },
  {
   "cell_type": "code",
   "execution_count": 14,
   "id": "potential-shirt",
   "metadata": {},
   "outputs": [
    {
     "name": "stdout",
     "output_type": "stream",
     "text": [
      "ShapiroResult(statistic=0.10272377729415894, pvalue=0.0)\n",
      "2.8066762535148264\n"
     ]
    },
    {
     "data": {
      "image/png": "[encoded data removed]",
      "text/plain": [
       "<Figure size 432x288 with 1 Axes>"
      ]
     },
     "metadata": {
      "needs_background": "light"
     },
     "output_type": "display_data"
    }
   ],
   "source": [
    "test.user_revenue.hist()\n",
    "print(stats.shapiro(test.user_revenue.sample(1000, random_state=17)))\n",
    "print(np.std(test.user_revenue))"
   ]
  },
  {
   "cell_type": "markdown",
   "id": "sensitive-shelf",
   "metadata": {},
   "source": [
    "В обоих случаях распределения не являются нормальными (p-value < 0.05)"
   ]
  },
  {
   "cell_type": "markdown",
   "id": "political-prediction",
   "metadata": {},
   "source": [
    "Проверим статистическую значимость различий между группами эксперимента.\n",
    "Т.к. распределения нормальными не являются, воспользуемся бутстрэпом:"
   ]
  },
  {
   "cell_type": "code",
   "execution_count": 15,
   "id": "younger-attempt",
   "metadata": {},
   "outputs": [],
   "source": [
    "def get_bootstrap(\n",
    "    data_column_1, # числовые значения первой выборки\n",
    "    data_column_2, # числовые значения второй выборки\n",
    "    boot_it = 2000, # количество бутстрэп-подвыборок\n",
    "    statistic = np.mean, # интересующая нас статистика\n",
    "    bootstrap_conf_level = 0.95 # уровень значимости\n",
    "):\n",
    "    boot_len = max([len(data_column_1), len(data_column_2)])\n",
    "    boot_data = []\n",
    "    for i in tqdm(range(boot_it)): # извлекаем подвыборки\n",
    "        samples_1 = data_column_1.sample(\n",
    "            boot_len, \n",
    "            replace = True # параметр возвращения\n",
    "        ).values\n",
    "        \n",
    "        samples_2 = data_column_2.sample(\n",
    "            boot_len, \n",
    "            replace = True\n",
    "        ).values\n",
    "        \n",
    "        boot_data.append(statistic(samples_1-samples_2)) # mean() - применяем статистику\n",
    "        \n",
    "    pd_boot_data = pd.DataFrame(boot_data)\n",
    "        \n",
    "    left_quant = (1 - bootstrap_conf_level)/2\n",
    "    right_quant = 1 - (1 - bootstrap_conf_level) / 2\n",
    "    ci = pd_boot_data.quantile([left_quant, right_quant])\n",
    "        \n",
    "    p_1 = stats.norm.cdf(\n",
    "        x = 0, \n",
    "        loc = np.mean(boot_data), \n",
    "        scale = np.std(boot_data)\n",
    "    )\n",
    "    p_2 = stats.norm.cdf(\n",
    "        x = 0, \n",
    "        loc = -np.mean(boot_data), \n",
    "        scale = np.std(boot_data)\n",
    "    )\n",
    "    p_value = min(p_1, p_2) * 2\n",
    "        \n",
    "    return {\"ci\": ci, \n",
    "            \"p_value\": p_value}"
   ]
  },
  {
   "cell_type": "markdown",
   "id": "julian-thunder",
   "metadata": {},
   "source": [
    "#### ARPU:"
   ]
  },
  {
   "cell_type": "code",
   "execution_count": 16,
   "id": "korean-france",
   "metadata": {},
   "outputs": [
    {
     "data": {
      "application/vnd.jupyter.widget-view+json": {
       "model_id": "15296ef154774d6791d4cf4e8351b911",
       "version_major": 2,
       "version_minor": 0
      },
      "text/plain": [
       "  0%|          | 0/2000 [00:00<?, ?it/s]"
      ]
     },
     "metadata": {},
     "output_type": "display_data"
    },
    {
     "data": {
      "text/plain": [
       "{'ci':               0\n",
       " 0.025 -0.012820\n",
       " 0.975  0.058663,\n",
       " 'p_value': 0.23258950126576494}"
      ]
     },
     "execution_count": 16,
     "metadata": {},
     "output_type": "execute_result"
    }
   ],
   "source": [
    "get_bootstrap(control.user_revenue, test.user_revenue)"
   ]
  },
  {
   "cell_type": "markdown",
   "id": "hindu-distance",
   "metadata": {},
   "source": [
    "#### ARRPU:"
   ]
  },
  {
   "cell_type": "code",
   "execution_count": 17,
   "id": "black-schedule",
   "metadata": {},
   "outputs": [
    {
     "data": {
      "application/vnd.jupyter.widget-view+json": {
       "model_id": "0160a00bd09246c08d2ec01e294dc1ad",
       "version_major": 2,
       "version_minor": 0
      },
      "text/plain": [
       "  0%|          | 0/2000 [00:00<?, ?it/s]"
      ]
     },
     "metadata": {},
     "output_type": "display_data"
    },
    {
     "data": {
      "text/plain": [
       "{'ci':               0\n",
       " 0.025 -0.524419\n",
       " 0.975  0.370630,\n",
       " 'p_value': 0.7186447402761675}"
      ]
     },
     "execution_count": 17,
     "metadata": {},
     "output_type": "execute_result"
    }
   ],
   "source": [
    "get_bootstrap(control.query('user_revenue > 0').user_revenue, test.query('user_revenue > 0').user_revenue)"
   ]
  },
  {
   "cell_type": "markdown",
   "id": "cubic-module",
   "metadata": {},
   "source": [
    "#### CR:"
   ]
  },
  {
   "cell_type": "code",
   "execution_count": 18,
   "id": "sensitive-moore",
   "metadata": {},
   "outputs": [
    {
     "name": "stdout",
     "output_type": "stream",
     "text": [
      "z-stat = 3.303076372302363 \n",
      " p-value = 0.0009563033912928121\n"
     ]
    }
   ],
   "source": [
    "# для этой цели воспользуемся proportions_ztest\n",
    "count = np.array([control.query('user_revenue > 0').user_id.nunique(), test.query('user_revenue > 0').user_id.nunique()])\n",
    "nobs = np.array([control.user_id.nunique(), test.user_id.nunique()])\n",
    "z,p = proportions_ztest(count, nobs, value=0, alternative='two-sided')\n",
    "print('z-stat = {z} \\n p-value = {p}'.format(z=z,p=p))"
   ]
  },
  {
   "cell_type": "markdown",
   "id": "heavy-concrete",
   "metadata": {},
   "source": [
    "##### По результатам proportions_ztest обнаружены стат.значимые различия в конверсии контрольной и тестовой групп. "
   ]
  },
  {
   "cell_type": "code",
   "execution_count": 19,
   "id": "fifty-democracy",
   "metadata": {},
   "outputs": [
    {
     "data": {
      "text/html": [
       "<div>\n",
       "<style scoped>\n",
       "    .dataframe tbody tr th:only-of-type {\n",
       "        vertical-align: middle;\n",
       "    }\n",
       "\n",
       "    .dataframe tbody tr th {\n",
       "        vertical-align: top;\n",
       "    }\n",
       "\n",
       "    .dataframe thead th {\n",
       "        text-align: right;\n",
       "    }\n",
       "</style>\n",
       "<table border=\"1\" class=\"dataframe\">\n",
       "  <thead>\n",
       "    <tr style=\"text-align: right;\">\n",
       "      <th>group</th>\n",
       "      <th>control</th>\n",
       "      <th>test</th>\n",
       "      <th>diff</th>\n",
       "      <th>percent_diff</th>\n",
       "    </tr>\n",
       "  </thead>\n",
       "  <tbody>\n",
       "    <tr>\n",
       "      <th>users</th>\n",
       "      <td>45400.000000</td>\n",
       "      <td>45600.000000</td>\n",
       "      <td>200.000000</td>\n",
       "      <td>0.44</td>\n",
       "    </tr>\n",
       "    <tr>\n",
       "      <th>clients</th>\n",
       "      <td>3489.000000</td>\n",
       "      <td>3243.000000</td>\n",
       "      <td>-246.000000</td>\n",
       "      <td>-7.05</td>\n",
       "    </tr>\n",
       "    <tr>\n",
       "      <th>total_user_revenue</th>\n",
       "      <td>17001.593107</td>\n",
       "      <td>16090.426997</td>\n",
       "      <td>-911.166110</td>\n",
       "      <td>-5.36</td>\n",
       "    </tr>\n",
       "    <tr>\n",
       "      <th>CR</th>\n",
       "      <td>7.690000</td>\n",
       "      <td>7.110000</td>\n",
       "      <td>-0.580000</td>\n",
       "      <td>-7.54</td>\n",
       "    </tr>\n",
       "    <tr>\n",
       "      <th>arpu</th>\n",
       "      <td>0.374484</td>\n",
       "      <td>0.352860</td>\n",
       "      <td>-0.021624</td>\n",
       "      <td>-5.77</td>\n",
       "    </tr>\n",
       "    <tr>\n",
       "      <th>arppu</th>\n",
       "      <td>4.872913</td>\n",
       "      <td>4.961587</td>\n",
       "      <td>0.088674</td>\n",
       "      <td>1.82</td>\n",
       "    </tr>\n",
       "    <tr>\n",
       "      <th>avg_check</th>\n",
       "      <td>1.412182</td>\n",
       "      <td>1.452366</td>\n",
       "      <td>0.040184</td>\n",
       "      <td>2.85</td>\n",
       "    </tr>\n",
       "    <tr>\n",
       "      <th>rep_purch</th>\n",
       "      <td>3.510000</td>\n",
       "      <td>3.420000</td>\n",
       "      <td>-0.090000</td>\n",
       "      <td>-2.56</td>\n",
       "    </tr>\n",
       "  </tbody>\n",
       "</table>\n",
       "</div>"
      ],
      "text/plain": [
       "group                    control          test        diff  percent_diff\n",
       "users               45400.000000  45600.000000  200.000000          0.44\n",
       "clients              3489.000000   3243.000000 -246.000000         -7.05\n",
       "total_user_revenue  17001.593107  16090.426997 -911.166110         -5.36\n",
       "CR                      7.690000      7.110000   -0.580000         -7.54\n",
       "arpu                    0.374484      0.352860   -0.021624         -5.77\n",
       "arppu                   4.872913      4.961587    0.088674          1.82\n",
       "avg_check               1.412182      1.452366    0.040184          2.85\n",
       "rep_purch               3.510000      3.420000   -0.090000         -2.56"
      ]
     },
     "execution_count": 19,
     "metadata": {},
     "output_type": "execute_result"
    }
   ],
   "source": [
    "metrics"
   ]
  },
  {
   "cell_type": "markdown",
   "id": "duplicate-diagram",
   "metadata": {},
   "source": [
    "#### Конверсия в покупку стат.значимо больше в контрольной группе, при этом о стат.значимой разнице в значениях ARPU и ARPPU мы такого утверждать не можем."
   ]
  },
  {
   "cell_type": "markdown",
   "id": "raised-canal",
   "metadata": {},
   "source": [
    "Проанализируем эти метрики для каждой страны отдельно. "
   ]
  },
  {
   "cell_type": "markdown",
   "id": "presidential-blank",
   "metadata": {},
   "source": [
    "Рассчитаем разницу СR по странам и попытаемся оценить, являются ли полученные различия стат.значимыми. "
   ]
  },
  {
   "cell_type": "code",
   "execution_count": 20,
   "id": "blond-suspect",
   "metadata": {},
   "outputs": [
    {
     "data": {
      "text/html": [
       "<div>\n",
       "<style scoped>\n",
       "    .dataframe tbody tr th:only-of-type {\n",
       "        vertical-align: middle;\n",
       "    }\n",
       "\n",
       "    .dataframe tbody tr th {\n",
       "        vertical-align: top;\n",
       "    }\n",
       "\n",
       "    .dataframe thead th {\n",
       "        text-align: right;\n",
       "    }\n",
       "</style>\n",
       "<table border=\"1\" class=\"dataframe\">\n",
       "  <thead>\n",
       "    <tr style=\"text-align: right;\">\n",
       "      <th></th>\n",
       "      <th>country</th>\n",
       "      <th>control_users</th>\n",
       "      <th>test_users</th>\n",
       "      <th>control_clients</th>\n",
       "      <th>test_clients</th>\n",
       "      <th>control_CR</th>\n",
       "      <th>test_CR</th>\n",
       "      <th>CR_diff</th>\n",
       "      <th>CR_percent_diff</th>\n",
       "    </tr>\n",
       "  </thead>\n",
       "  <tbody>\n",
       "    <tr>\n",
       "      <th>27</th>\n",
       "      <td>Brunei</td>\n",
       "      <td>23.0</td>\n",
       "      <td>27.0</td>\n",
       "      <td>1.0</td>\n",
       "      <td>0.0</td>\n",
       "      <td>4.35</td>\n",
       "      <td>0.00</td>\n",
       "      <td>-4.35</td>\n",
       "      <td>-100.00</td>\n",
       "    </tr>\n",
       "    <tr>\n",
       "      <th>143</th>\n",
       "      <td>Norway</td>\n",
       "      <td>243.0</td>\n",
       "      <td>235.0</td>\n",
       "      <td>30.0</td>\n",
       "      <td>26.0</td>\n",
       "      <td>12.35</td>\n",
       "      <td>11.06</td>\n",
       "      <td>-1.29</td>\n",
       "      <td>-10.45</td>\n",
       "    </tr>\n",
       "    <tr>\n",
       "      <th>179</th>\n",
       "      <td>St. Martin</td>\n",
       "      <td>1.0</td>\n",
       "      <td>2.0</td>\n",
       "      <td>0.0</td>\n",
       "      <td>0.0</td>\n",
       "      <td>0.00</td>\n",
       "      <td>0.00</td>\n",
       "      <td>0.00</td>\n",
       "      <td>NaN</td>\n",
       "    </tr>\n",
       "    <tr>\n",
       "      <th>196</th>\n",
       "      <td>Turkey</td>\n",
       "      <td>761.0</td>\n",
       "      <td>776.0</td>\n",
       "      <td>28.0</td>\n",
       "      <td>32.0</td>\n",
       "      <td>3.68</td>\n",
       "      <td>4.12</td>\n",
       "      <td>0.44</td>\n",
       "      <td>11.96</td>\n",
       "    </tr>\n",
       "    <tr>\n",
       "      <th>50</th>\n",
       "      <td>Czechia</td>\n",
       "      <td>155.0</td>\n",
       "      <td>192.0</td>\n",
       "      <td>8.0</td>\n",
       "      <td>8.0</td>\n",
       "      <td>5.16</td>\n",
       "      <td>4.17</td>\n",
       "      <td>-0.99</td>\n",
       "      <td>-19.19</td>\n",
       "    </tr>\n",
       "    <tr>\n",
       "      <th>128</th>\n",
       "      <td>Monaco</td>\n",
       "      <td>1.0</td>\n",
       "      <td>2.0</td>\n",
       "      <td>0.0</td>\n",
       "      <td>0.0</td>\n",
       "      <td>0.00</td>\n",
       "      <td>0.00</td>\n",
       "      <td>0.00</td>\n",
       "      <td>NaN</td>\n",
       "    </tr>\n",
       "    <tr>\n",
       "      <th>181</th>\n",
       "      <td>St. Vincent &amp; Grenadines</td>\n",
       "      <td>2.0</td>\n",
       "      <td>NaN</td>\n",
       "      <td>0.0</td>\n",
       "      <td>NaN</td>\n",
       "      <td>0.00</td>\n",
       "      <td>NaN</td>\n",
       "      <td>NaN</td>\n",
       "      <td>NaN</td>\n",
       "    </tr>\n",
       "    <tr>\n",
       "      <th>8</th>\n",
       "      <td>Armenia</td>\n",
       "      <td>NaN</td>\n",
       "      <td>5.0</td>\n",
       "      <td>NaN</td>\n",
       "      <td>0.0</td>\n",
       "      <td>NaN</td>\n",
       "      <td>0.00</td>\n",
       "      <td>NaN</td>\n",
       "      <td>NaN</td>\n",
       "    </tr>\n",
       "    <tr>\n",
       "      <th>99</th>\n",
       "      <td>Kazakhstan</td>\n",
       "      <td>374.0</td>\n",
       "      <td>378.0</td>\n",
       "      <td>6.0</td>\n",
       "      <td>6.0</td>\n",
       "      <td>1.60</td>\n",
       "      <td>1.59</td>\n",
       "      <td>-0.01</td>\n",
       "      <td>-0.63</td>\n",
       "    </tr>\n",
       "    <tr>\n",
       "      <th>89</th>\n",
       "      <td>Indonesia</td>\n",
       "      <td>790.0</td>\n",
       "      <td>748.0</td>\n",
       "      <td>23.0</td>\n",
       "      <td>25.0</td>\n",
       "      <td>2.91</td>\n",
       "      <td>3.34</td>\n",
       "      <td>0.43</td>\n",
       "      <td>14.78</td>\n",
       "    </tr>\n",
       "  </tbody>\n",
       "</table>\n",
       "</div>"
      ],
      "text/plain": [
       "                      country  control_users  test_users  control_clients  \\\n",
       "27                     Brunei           23.0        27.0              1.0   \n",
       "143                    Norway          243.0       235.0             30.0   \n",
       "179                St. Martin            1.0         2.0              0.0   \n",
       "196                    Turkey          761.0       776.0             28.0   \n",
       "50                    Czechia          155.0       192.0              8.0   \n",
       "128                    Monaco            1.0         2.0              0.0   \n",
       "181  St. Vincent & Grenadines            2.0         NaN              0.0   \n",
       "8                     Armenia            NaN         5.0              NaN   \n",
       "99                 Kazakhstan          374.0       378.0              6.0   \n",
       "89                  Indonesia          790.0       748.0             23.0   \n",
       "\n",
       "     test_clients  control_CR  test_CR  CR_diff  CR_percent_diff  \n",
       "27            0.0        4.35     0.00    -4.35          -100.00  \n",
       "143          26.0       12.35    11.06    -1.29           -10.45  \n",
       "179           0.0        0.00     0.00     0.00              NaN  \n",
       "196          32.0        3.68     4.12     0.44            11.96  \n",
       "50            8.0        5.16     4.17    -0.99           -19.19  \n",
       "128           0.0        0.00     0.00     0.00              NaN  \n",
       "181           NaN        0.00      NaN      NaN              NaN  \n",
       "8             0.0         NaN     0.00      NaN              NaN  \n",
       "99            6.0        1.60     1.59    -0.01            -0.63  \n",
       "89           25.0        2.91     3.34     0.43            14.78  "
      ]
     },
     "execution_count": 20,
     "metadata": {},
     "output_type": "execute_result"
    }
   ],
   "source": [
    "data['is_client'] = (data['user_payments'] >= 1).astype(int)\n",
    "\n",
    "users_by_countries = (\n",
    "    data\n",
    "    .groupby(['geo_country', 'test_group'], as_index=False)\n",
    "    .agg({'user_id':'nunique', 'is_client' : 'sum'})\n",
    "    .pivot(index='geo_country', columns='test_group', values=['user_id', 'is_client'])\n",
    "    .reset_index()\n",
    "    )\n",
    "\n",
    "users_by_countries.columns = ['country', 'control_users', 'test_users', 'control_clients', 'test_clients']\n",
    "users_by_countries['control_CR'] = round(users_by_countries['control_clients'] / users_by_countries['control_users'] * 100, 2)\n",
    "users_by_countries['test_CR'] = round(users_by_countries['test_clients'] / users_by_countries['test_users'] * 100, 2)\n",
    "users_by_countries['CR_diff'] = users_by_countries['test_CR'] - users_by_countries['control_CR']\n",
    "users_by_countries['CR_percent_diff'] = round(users_by_countries['CR_diff'] / users_by_countries['control_CR'] * 100, 2)\n",
    "users_by_countries.sample(10)"
   ]
  },
  {
   "cell_type": "code",
   "execution_count": 21,
   "id": "inappropriate-viking",
   "metadata": {},
   "outputs": [],
   "source": [
    "CR_test_countries = pd.DataFrame(columns=['metric', 'country','CR_percent_diff', 'p_alpha', 'p_value'])\n",
    "def get_ztest_for_CR(df):\n",
    "    \n",
    "    global CR_test_countries\n",
    "    \n",
    "    for i in users_by_countries['country']:\n",
    "        \n",
    "        count_control = df.query('country in @i').control_clients\n",
    "        count_test = df.query('country in @i').test_clients\n",
    "        nobs_control = df.query('country in @i').control_users\n",
    "        nobs_test = df.query('country in @i').test_users\n",
    "        \n",
    "        count = np.array([count_control, count_test])\n",
    "        nobs = np.array([nobs_control, nobs_test])\n",
    "        z,p = proportions_ztest(count, nobs, value=0, alternative='two-sided')\n",
    "        \n",
    "        CR_percent_diff = df.query('country == @i').iloc[0]['CR_percent_diff']\n",
    "        \n",
    "        \n",
    "        new_row = {'metric': 'CR',\n",
    "                   'country': i,\n",
    "                   'CR_percent_diff': CR_percent_diff,\n",
    "                   'p_alpha': 0.05,\n",
    "                   'p_value': p.round(6)\n",
    "                  }\n",
    "        \n",
    "        CR_test_countries = CR_test_countries.append([new_row])\n",
    "    return CR_test_countries"
   ]
  },
  {
   "cell_type": "code",
   "execution_count": 22,
   "id": "convenient-preview",
   "metadata": {},
   "outputs": [
    {
     "name": "stderr",
     "output_type": "stream",
     "text": [
      "C:\\Users\\AM\\miniforge3\\lib\\site-packages\\statsmodels\\stats\\weightstats.py:790: RuntimeWarning: invalid value encountered in true_divide\n",
      "  zstat = value / std\n"
     ]
    },
    {
     "data": {
      "text/html": [
       "<div>\n",
       "<style scoped>\n",
       "    .dataframe tbody tr th:only-of-type {\n",
       "        vertical-align: middle;\n",
       "    }\n",
       "\n",
       "    .dataframe tbody tr th {\n",
       "        vertical-align: top;\n",
       "    }\n",
       "\n",
       "    .dataframe thead th {\n",
       "        text-align: right;\n",
       "    }\n",
       "</style>\n",
       "<table border=\"1\" class=\"dataframe\">\n",
       "  <thead>\n",
       "    <tr style=\"text-align: right;\">\n",
       "      <th></th>\n",
       "      <th>metric</th>\n",
       "      <th>country</th>\n",
       "      <th>CR_percent_diff</th>\n",
       "      <th>p_alpha</th>\n",
       "      <th>p_value</th>\n",
       "    </tr>\n",
       "  </thead>\n",
       "  <tbody>\n",
       "    <tr>\n",
       "      <th>0</th>\n",
       "      <td>CR</td>\n",
       "      <td>Afghanistan</td>\n",
       "      <td>NaN</td>\n",
       "      <td>0.05</td>\n",
       "      <td>[nan]</td>\n",
       "    </tr>\n",
       "    <tr>\n",
       "      <th>0</th>\n",
       "      <td>CR</td>\n",
       "      <td>Albania</td>\n",
       "      <td>NaN</td>\n",
       "      <td>0.05</td>\n",
       "      <td>[nan]</td>\n",
       "    </tr>\n",
       "    <tr>\n",
       "      <th>0</th>\n",
       "      <td>CR</td>\n",
       "      <td>Algeria</td>\n",
       "      <td>NaN</td>\n",
       "      <td>0.05</td>\n",
       "      <td>[nan]</td>\n",
       "    </tr>\n",
       "    <tr>\n",
       "      <th>0</th>\n",
       "      <td>CR</td>\n",
       "      <td>American Samoa</td>\n",
       "      <td>NaN</td>\n",
       "      <td>0.05</td>\n",
       "      <td>[nan]</td>\n",
       "    </tr>\n",
       "    <tr>\n",
       "      <th>0</th>\n",
       "      <td>CR</td>\n",
       "      <td>Andorra</td>\n",
       "      <td>NaN</td>\n",
       "      <td>0.05</td>\n",
       "      <td>[nan]</td>\n",
       "    </tr>\n",
       "    <tr>\n",
       "      <th>...</th>\n",
       "      <td>...</td>\n",
       "      <td>...</td>\n",
       "      <td>...</td>\n",
       "      <td>...</td>\n",
       "      <td>...</td>\n",
       "    </tr>\n",
       "    <tr>\n",
       "      <th>0</th>\n",
       "      <td>CR</td>\n",
       "      <td>Western Sahara</td>\n",
       "      <td>NaN</td>\n",
       "      <td>0.05</td>\n",
       "      <td>[nan]</td>\n",
       "    </tr>\n",
       "    <tr>\n",
       "      <th>0</th>\n",
       "      <td>CR</td>\n",
       "      <td>Yemen</td>\n",
       "      <td>NaN</td>\n",
       "      <td>0.05</td>\n",
       "      <td>[nan]</td>\n",
       "    </tr>\n",
       "    <tr>\n",
       "      <th>0</th>\n",
       "      <td>CR</td>\n",
       "      <td>Zambia</td>\n",
       "      <td>-100.0</td>\n",
       "      <td>0.05</td>\n",
       "      <td>[0.389424]</td>\n",
       "    </tr>\n",
       "    <tr>\n",
       "      <th>0</th>\n",
       "      <td>CR</td>\n",
       "      <td>Zimbabwe</td>\n",
       "      <td>NaN</td>\n",
       "      <td>0.05</td>\n",
       "      <td>[nan]</td>\n",
       "    </tr>\n",
       "    <tr>\n",
       "      <th>0</th>\n",
       "      <td>CR</td>\n",
       "      <td>Åland Islands</td>\n",
       "      <td>NaN</td>\n",
       "      <td>0.05</td>\n",
       "      <td>[nan]</td>\n",
       "    </tr>\n",
       "  </tbody>\n",
       "</table>\n",
       "<p>215 rows × 5 columns</p>\n",
       "</div>"
      ],
      "text/plain": [
       "   metric         country  CR_percent_diff  p_alpha     p_value\n",
       "0      CR     Afghanistan              NaN     0.05       [nan]\n",
       "0      CR         Albania              NaN     0.05       [nan]\n",
       "0      CR         Algeria              NaN     0.05       [nan]\n",
       "0      CR  American Samoa              NaN     0.05       [nan]\n",
       "0      CR         Andorra              NaN     0.05       [nan]\n",
       "..    ...             ...              ...      ...         ...\n",
       "0      CR  Western Sahara              NaN     0.05       [nan]\n",
       "0      CR           Yemen              NaN     0.05       [nan]\n",
       "0      CR          Zambia           -100.0     0.05  [0.389424]\n",
       "0      CR        Zimbabwe              NaN     0.05       [nan]\n",
       "0      CR   Åland Islands              NaN     0.05       [nan]\n",
       "\n",
       "[215 rows x 5 columns]"
      ]
     },
     "execution_count": 22,
     "metadata": {},
     "output_type": "execute_result"
    }
   ],
   "source": [
    "get_ztest_for_CR(users_by_countries)"
   ]
  },
  {
   "cell_type": "code",
   "execution_count": 23,
   "id": "funded-encyclopedia",
   "metadata": {},
   "outputs": [
    {
     "data": {
      "text/html": [
       "<div>\n",
       "<style scoped>\n",
       "    .dataframe tbody tr th:only-of-type {\n",
       "        vertical-align: middle;\n",
       "    }\n",
       "\n",
       "    .dataframe tbody tr th {\n",
       "        vertical-align: top;\n",
       "    }\n",
       "\n",
       "    .dataframe thead th {\n",
       "        text-align: right;\n",
       "    }\n",
       "</style>\n",
       "<table border=\"1\" class=\"dataframe\">\n",
       "  <thead>\n",
       "    <tr style=\"text-align: right;\">\n",
       "      <th></th>\n",
       "      <th>metric</th>\n",
       "      <th>country</th>\n",
       "      <th>CR_percent_diff</th>\n",
       "      <th>p_alpha</th>\n",
       "      <th>p_value</th>\n",
       "    </tr>\n",
       "  </thead>\n",
       "  <tbody>\n",
       "    <tr>\n",
       "      <th>0</th>\n",
       "      <td>CR</td>\n",
       "      <td>France</td>\n",
       "      <td>-36.31</td>\n",
       "      <td>0.05</td>\n",
       "      <td>[0.014864]</td>\n",
       "    </tr>\n",
       "    <tr>\n",
       "      <th>0</th>\n",
       "      <td>CR</td>\n",
       "      <td>Guadeloupe</td>\n",
       "      <td>-100.00</td>\n",
       "      <td>0.05</td>\n",
       "      <td>[0.033028]</td>\n",
       "    </tr>\n",
       "    <tr>\n",
       "      <th>0</th>\n",
       "      <td>CR</td>\n",
       "      <td>Ireland</td>\n",
       "      <td>-67.35</td>\n",
       "      <td>0.05</td>\n",
       "      <td>[0.048576]</td>\n",
       "    </tr>\n",
       "  </tbody>\n",
       "</table>\n",
       "</div>"
      ],
      "text/plain": [
       "  metric     country  CR_percent_diff  p_alpha     p_value\n",
       "0     CR      France           -36.31     0.05  [0.014864]\n",
       "0     CR  Guadeloupe          -100.00     0.05  [0.033028]\n",
       "0     CR     Ireland           -67.35     0.05  [0.048576]"
      ]
     },
     "execution_count": 23,
     "metadata": {},
     "output_type": "execute_result"
    }
   ],
   "source": [
    "got_diff = CR_test_countries.query('p_value < 0.05')\n",
    "got_diff"
   ]
  },
  {
   "cell_type": "code",
   "execution_count": 24,
   "id": "industrial-motorcycle",
   "metadata": {},
   "outputs": [
    {
     "data": {
      "text/html": [
       "<div>\n",
       "<style scoped>\n",
       "    .dataframe tbody tr th:only-of-type {\n",
       "        vertical-align: middle;\n",
       "    }\n",
       "\n",
       "    .dataframe tbody tr th {\n",
       "        vertical-align: top;\n",
       "    }\n",
       "\n",
       "    .dataframe thead th {\n",
       "        text-align: right;\n",
       "    }\n",
       "</style>\n",
       "<table border=\"1\" class=\"dataframe\">\n",
       "  <thead>\n",
       "    <tr style=\"text-align: right;\">\n",
       "      <th></th>\n",
       "      <th>country</th>\n",
       "      <th>control_users</th>\n",
       "      <th>test_users</th>\n",
       "      <th>control_clients</th>\n",
       "      <th>test_clients</th>\n",
       "      <th>control_CR</th>\n",
       "      <th>test_CR</th>\n",
       "      <th>CR_diff</th>\n",
       "      <th>CR_percent_diff</th>\n",
       "    </tr>\n",
       "  </thead>\n",
       "  <tbody>\n",
       "    <tr>\n",
       "      <th>65</th>\n",
       "      <td>France</td>\n",
       "      <td>2481.0</td>\n",
       "      <td>1091.0</td>\n",
       "      <td>125.0</td>\n",
       "      <td>35.0</td>\n",
       "      <td>5.04</td>\n",
       "      <td>3.21</td>\n",
       "      <td>-1.83</td>\n",
       "      <td>-36.31</td>\n",
       "    </tr>\n",
       "    <tr>\n",
       "      <th>77</th>\n",
       "      <td>Guadeloupe</td>\n",
       "      <td>50.0</td>\n",
       "      <td>43.0</td>\n",
       "      <td>5.0</td>\n",
       "      <td>0.0</td>\n",
       "      <td>10.00</td>\n",
       "      <td>0.00</td>\n",
       "      <td>-10.00</td>\n",
       "      <td>-100.00</td>\n",
       "    </tr>\n",
       "    <tr>\n",
       "      <th>92</th>\n",
       "      <td>Ireland</td>\n",
       "      <td>106.0</td>\n",
       "      <td>65.0</td>\n",
       "      <td>15.0</td>\n",
       "      <td>3.0</td>\n",
       "      <td>14.15</td>\n",
       "      <td>4.62</td>\n",
       "      <td>-9.53</td>\n",
       "      <td>-67.35</td>\n",
       "    </tr>\n",
       "  </tbody>\n",
       "</table>\n",
       "</div>"
      ],
      "text/plain": [
       "       country  control_users  test_users  control_clients  test_clients  \\\n",
       "65      France         2481.0      1091.0            125.0          35.0   \n",
       "77  Guadeloupe           50.0        43.0              5.0           0.0   \n",
       "92     Ireland          106.0        65.0             15.0           3.0   \n",
       "\n",
       "    control_CR  test_CR  CR_diff  CR_percent_diff  \n",
       "65        5.04     3.21    -1.83           -36.31  \n",
       "77       10.00     0.00   -10.00          -100.00  \n",
       "92       14.15     4.62    -9.53           -67.35  "
      ]
     },
     "execution_count": 24,
     "metadata": {},
     "output_type": "execute_result"
    }
   ],
   "source": [
    "users_by_countries.query('country in @got_diff.country')"
   ]
  },
  {
   "cell_type": "markdown",
   "id": "everyday-chance",
   "metadata": {},
   "source": [
    "#### Можно сделать вывод, что CR стат.значимо различается во Франции, Гваделупе и Ирландии, во всех трех случаях в пользу контрольной группы."
   ]
  },
  {
   "cell_type": "markdown",
   "id": "silver-coach",
   "metadata": {},
   "source": [
    "Проанализируем ARPU и ARPPU по странам и попытаемся ценить, являются ли полученные различия стат.значимыми."
   ]
  },
  {
   "cell_type": "code",
   "execution_count": 25,
   "id": "arctic-cuisine",
   "metadata": {},
   "outputs": [
    {
     "data": {
      "text/plain": [
       "51"
      ]
     },
     "execution_count": 25,
     "metadata": {},
     "output_type": "execute_result"
    }
   ],
   "source": [
    "# исключим страны с малым (недостаточным) количеством наблюдений\n",
    "users_by_countries = users_by_countries.query('control_users >= 30 and test_users >= 30 and control_clients >= 2 and test_clients >= 2')\n",
    "users_by_countries.shape[0]"
   ]
  },
  {
   "cell_type": "code",
   "execution_count": 26,
   "id": "pleased-consultation",
   "metadata": {},
   "outputs": [],
   "source": [
    "AB_countries = pd.DataFrame(columns=['metric', 'country','ci_0.025', 'ci_0.0975', 'p_alpha', 'p_value'])\n",
    "\n",
    "# зададим функцию для автоматизации тестов\n",
    "\n",
    "def AB_by_country(metric):\n",
    "    \n",
    "    global AB_countries\n",
    "    \n",
    "    for i in users_by_countries['country']:\n",
    "        s1 = control.query(metric)['user_revenue']\n",
    "        s2 = test.query(metric)['user_revenue']\n",
    "        \n",
    "        boot_data_mean = get_bootstrap(s2, s1)\n",
    "        \n",
    "        p_value = boot_data_mean['p_value']\n",
    "        ci_0025 = boot_data_mean[\"ci\"].reset_index().loc[0][0]\n",
    "        ci_0975 = boot_data_mean[\"ci\"].reset_index().loc[1][0]\n",
    "        \n",
    "        new_row = {'metric': metric,\n",
    "                   'country': i,\n",
    "                   'ci_0.025': ci_0025,\n",
    "                   'ci_0.0975': ci_0975,\n",
    "                   'p_alpha': 0.05,\n",
    "                   'p_value': p_value\n",
    "                  }\n",
    "        \n",
    "        AB_countries = AB_countries.append([new_row])\n",
    "        \n",
    "AB_countries = AB_countries.replace(['geo_country in @i', 'geo_country in @i and user_revenue > 0'], ['ARPU', 'ARPPU'])"
   ]
  },
  {
   "cell_type": "code",
   "execution_count": 27,
   "id": "completed-pillow",
   "metadata": {
    "scrolled": true
   },
   "outputs": [
    {
     "data": {
      "application/vnd.jupyter.widget-view+json": {
       "model_id": "e27a517292434fa2a1dc3997343a7e49",
       "version_major": 2,
       "version_minor": 0
      },
      "text/plain": [
       "  0%|          | 0/2000 [00:00<?, ?it/s]"
      ]
     },
     "metadata": {},
     "output_type": "display_data"
    },
    {
     "data": {
      "application/vnd.jupyter.widget-view+json": {
       "model_id": "3ee12b6c508c4c8c902dfe120bcd492b",
       "version_major": 2,
       "version_minor": 0
      },
      "text/plain": [
       "  0%|          | 0/2000 [00:00<?, ?it/s]"
      ]
     },
     "metadata": {},
     "output_type": "display_data"
    },
    {
     "data": {
      "application/vnd.jupyter.widget-view+json": {
       "model_id": "95e1f6e450154ebe81b5a41d4d732af0",
       "version_major": 2,
       "version_minor": 0
      },
      "text/plain": [
       "  0%|          | 0/2000 [00:00<?, ?it/s]"
      ]
     },
     "metadata": {},
     "output_type": "display_data"
    },
    {
     "data": {
      "application/vnd.jupyter.widget-view+json": {
       "model_id": "6946b1ffe3b1438db258b869ad32bb2d",
       "version_major": 2,
       "version_minor": 0
      },
      "text/plain": [
       "  0%|          | 0/2000 [00:00<?, ?it/s]"
      ]
     },
     "metadata": {},
     "output_type": "display_data"
    },
    {
     "data": {
      "application/vnd.jupyter.widget-view+json": {
       "model_id": "0dff83dc8de644a088f7eef795b5f491",
       "version_major": 2,
       "version_minor": 0
      },
      "text/plain": [
       "  0%|          | 0/2000 [00:00<?, ?it/s]"
      ]
     },
     "metadata": {},
     "output_type": "display_data"
    },
    {
     "data": {
      "application/vnd.jupyter.widget-view+json": {
       "model_id": "8f424433024648f4a121659f544a751f",
       "version_major": 2,
       "version_minor": 0
      },
      "text/plain": [
       "  0%|          | 0/2000 [00:00<?, ?it/s]"
      ]
     },
     "metadata": {},
     "output_type": "display_data"
    },
    {
     "data": {
      "application/vnd.jupyter.widget-view+json": {
       "model_id": "b86cc8b100b24da6a793d70ce44ac4a9",
       "version_major": 2,
       "version_minor": 0
      },
      "text/plain": [
       "  0%|          | 0/2000 [00:00<?, ?it/s]"
      ]
     },
     "metadata": {},
     "output_type": "display_data"
    },
    {
     "data": {
      "application/vnd.jupyter.widget-view+json": {
       "model_id": "7325e38270ca46bbb3086d5d451e2288",
       "version_major": 2,
       "version_minor": 0
      },
      "text/plain": [
       "  0%|          | 0/2000 [00:00<?, ?it/s]"
      ]
     },
     "metadata": {},
     "output_type": "display_data"
    },
    {
     "data": {
      "application/vnd.jupyter.widget-view+json": {
       "model_id": "eb037d6cc89c4b0faba298b220b45e08",
       "version_major": 2,
       "version_minor": 0
      },
      "text/plain": [
       "  0%|          | 0/2000 [00:00<?, ?it/s]"
      ]
     },
     "metadata": {},
     "output_type": "display_data"
    },
    {
     "data": {
      "application/vnd.jupyter.widget-view+json": {
       "model_id": "64a4d2f9f2874bb3b430d0c70cf4e156",
       "version_major": 2,
       "version_minor": 0
      },
      "text/plain": [
       "  0%|          | 0/2000 [00:00<?, ?it/s]"
      ]
     },
     "metadata": {},
     "output_type": "display_data"
    },
    {
     "data": {
      "application/vnd.jupyter.widget-view+json": {
       "model_id": "9182d50400b24bbc90f3557fb13548ae",
       "version_major": 2,
       "version_minor": 0
      },
      "text/plain": [
       "  0%|          | 0/2000 [00:00<?, ?it/s]"
      ]
     },
     "metadata": {},
     "output_type": "display_data"
    },
    {
     "data": {
      "application/vnd.jupyter.widget-view+json": {
       "model_id": "997976f26611439290d9880dfec5012a",
       "version_major": 2,
       "version_minor": 0
      },
      "text/plain": [
       "  0%|          | 0/2000 [00:00<?, ?it/s]"
      ]
     },
     "metadata": {},
     "output_type": "display_data"
    },
    {
     "data": {
      "application/vnd.jupyter.widget-view+json": {
       "model_id": "550a4e0e29f5495787a042a4ba2d47c5",
       "version_major": 2,
       "version_minor": 0
      },
      "text/plain": [
       "  0%|          | 0/2000 [00:00<?, ?it/s]"
      ]
     },
     "metadata": {},
     "output_type": "display_data"
    },
    {
     "data": {
      "application/vnd.jupyter.widget-view+json": {
       "model_id": "d7d189ee23794004b831eec27b8cfa72",
       "version_major": 2,
       "version_minor": 0
      },
      "text/plain": [
       "  0%|          | 0/2000 [00:00<?, ?it/s]"
      ]
     },
     "metadata": {},
     "output_type": "display_data"
    },
    {
     "data": {
      "application/vnd.jupyter.widget-view+json": {
       "model_id": "a553ad6c63ed4c23bb4d586f732db175",
       "version_major": 2,
       "version_minor": 0
      },
      "text/plain": [
       "  0%|          | 0/2000 [00:00<?, ?it/s]"
      ]
     },
     "metadata": {},
     "output_type": "display_data"
    },
    {
     "data": {
      "application/vnd.jupyter.widget-view+json": {
       "model_id": "9c4f169fe8d2410ca389efe019822e46",
       "version_major": 2,
       "version_minor": 0
      },
      "text/plain": [
       "  0%|          | 0/2000 [00:00<?, ?it/s]"
      ]
     },
     "metadata": {},
     "output_type": "display_data"
    },
    {
     "data": {
      "application/vnd.jupyter.widget-view+json": {
       "model_id": "4ba6fc6753cc4b1f8beb43ff9f8a44a7",
       "version_major": 2,
       "version_minor": 0
      },
      "text/plain": [
       "  0%|          | 0/2000 [00:00<?, ?it/s]"
      ]
     },
     "metadata": {},
     "output_type": "display_data"
    },
    {
     "data": {
      "application/vnd.jupyter.widget-view+json": {
       "model_id": "8ec9e99ff85e4ec8a7378ec3f2ec26ab",
       "version_major": 2,
       "version_minor": 0
      },
      "text/plain": [
       "  0%|          | 0/2000 [00:00<?, ?it/s]"
      ]
     },
     "metadata": {},
     "output_type": "display_data"
    },
    {
     "data": {
      "application/vnd.jupyter.widget-view+json": {
       "model_id": "8023f0ae4beb4974bb8d5829b6c4282c",
       "version_major": 2,
       "version_minor": 0
      },
      "text/plain": [
       "  0%|          | 0/2000 [00:00<?, ?it/s]"
      ]
     },
     "metadata": {},
     "output_type": "display_data"
    },
    {
     "data": {
      "application/vnd.jupyter.widget-view+json": {
       "model_id": "ddd4d6cd42ba4f5fb2b0f5c1b9726e60",
       "version_major": 2,
       "version_minor": 0
      },
      "text/plain": [
       "  0%|          | 0/2000 [00:00<?, ?it/s]"
      ]
     },
     "metadata": {},
     "output_type": "display_data"
    },
    {
     "data": {
      "application/vnd.jupyter.widget-view+json": {
       "model_id": "e7d24b4bcca94e41927ab2cb737f3734",
       "version_major": 2,
       "version_minor": 0
      },
      "text/plain": [
       "  0%|          | 0/2000 [00:00<?, ?it/s]"
      ]
     },
     "metadata": {},
     "output_type": "display_data"
    },
    {
     "data": {
      "application/vnd.jupyter.widget-view+json": {
       "model_id": "0d02d24aaea54c74ba9d5e336ab5105d",
       "version_major": 2,
       "version_minor": 0
      },
      "text/plain": [
       "  0%|          | 0/2000 [00:00<?, ?it/s]"
      ]
     },
     "metadata": {},
     "output_type": "display_data"
    },
    {
     "data": {
      "application/vnd.jupyter.widget-view+json": {
       "model_id": "5b16b00346034aae964dc2375fb69500",
       "version_major": 2,
       "version_minor": 0
      },
      "text/plain": [
       "  0%|          | 0/2000 [00:00<?, ?it/s]"
      ]
     },
     "metadata": {},
     "output_type": "display_data"
    },
    {
     "data": {
      "application/vnd.jupyter.widget-view+json": {
       "model_id": "b22462604319416bb6335a33331bca51",
       "version_major": 2,
       "version_minor": 0
      },
      "text/plain": [
       "  0%|          | 0/2000 [00:00<?, ?it/s]"
      ]
     },
     "metadata": {},
     "output_type": "display_data"
    },
    {
     "data": {
      "application/vnd.jupyter.widget-view+json": {
       "model_id": "aee86dc1d9994edeab27b0232bc54a8f",
       "version_major": 2,
       "version_minor": 0
      },
      "text/plain": [
       "  0%|          | 0/2000 [00:00<?, ?it/s]"
      ]
     },
     "metadata": {},
     "output_type": "display_data"
    },
    {
     "data": {
      "application/vnd.jupyter.widget-view+json": {
       "model_id": "16b1f1de3d824a87844f1457a8257740",
       "version_major": 2,
       "version_minor": 0
      },
      "text/plain": [
       "  0%|          | 0/2000 [00:00<?, ?it/s]"
      ]
     },
     "metadata": {},
     "output_type": "display_data"
    },
    {
     "data": {
      "application/vnd.jupyter.widget-view+json": {
       "model_id": "c51b17fcd80b46e2aafc0c5187f0b7c2",
       "version_major": 2,
       "version_minor": 0
      },
      "text/plain": [
       "  0%|          | 0/2000 [00:00<?, ?it/s]"
      ]
     },
     "metadata": {},
     "output_type": "display_data"
    },
    {
     "data": {
      "application/vnd.jupyter.widget-view+json": {
       "model_id": "6de4f60a16ee4d2ba47786362708b789",
       "version_major": 2,
       "version_minor": 0
      },
      "text/plain": [
       "  0%|          | 0/2000 [00:00<?, ?it/s]"
      ]
     },
     "metadata": {},
     "output_type": "display_data"
    },
    {
     "data": {
      "application/vnd.jupyter.widget-view+json": {
       "model_id": "13741f9312ae41b0b7d00750d4520168",
       "version_major": 2,
       "version_minor": 0
      },
      "text/plain": [
       "  0%|          | 0/2000 [00:00<?, ?it/s]"
      ]
     },
     "metadata": {},
     "output_type": "display_data"
    },
    {
     "data": {
      "application/vnd.jupyter.widget-view+json": {
       "model_id": "6c3a3ac342004a3582e3d7c6d70d7621",
       "version_major": 2,
       "version_minor": 0
      },
      "text/plain": [
       "  0%|          | 0/2000 [00:00<?, ?it/s]"
      ]
     },
     "metadata": {},
     "output_type": "display_data"
    },
    {
     "data": {
      "application/vnd.jupyter.widget-view+json": {
       "model_id": "6749b2f5866b42cd9691983ffe5b3fad",
       "version_major": 2,
       "version_minor": 0
      },
      "text/plain": [
       "  0%|          | 0/2000 [00:00<?, ?it/s]"
      ]
     },
     "metadata": {},
     "output_type": "display_data"
    },
    {
     "data": {
      "application/vnd.jupyter.widget-view+json": {
       "model_id": "a3985e67663444e5978f11ce344e220e",
       "version_major": 2,
       "version_minor": 0
      },
      "text/plain": [
       "  0%|          | 0/2000 [00:00<?, ?it/s]"
      ]
     },
     "metadata": {},
     "output_type": "display_data"
    },
    {
     "data": {
      "application/vnd.jupyter.widget-view+json": {
       "model_id": "6c82a92025674cee8619c76476811c27",
       "version_major": 2,
       "version_minor": 0
      },
      "text/plain": [
       "  0%|          | 0/2000 [00:00<?, ?it/s]"
      ]
     },
     "metadata": {},
     "output_type": "display_data"
    },
    {
     "data": {
      "application/vnd.jupyter.widget-view+json": {
       "model_id": "a917cca100b14d0da40841c7d76fa0df",
       "version_major": 2,
       "version_minor": 0
      },
      "text/plain": [
       "  0%|          | 0/2000 [00:00<?, ?it/s]"
      ]
     },
     "metadata": {},
     "output_type": "display_data"
    },
    {
     "data": {
      "application/vnd.jupyter.widget-view+json": {
       "model_id": "a44d5b88024c42c5889c09bb273c0ab3",
       "version_major": 2,
       "version_minor": 0
      },
      "text/plain": [
       "  0%|          | 0/2000 [00:00<?, ?it/s]"
      ]
     },
     "metadata": {},
     "output_type": "display_data"
    },
    {
     "data": {
      "application/vnd.jupyter.widget-view+json": {
       "model_id": "a81bae5afb9642b1a1bb94917535b04a",
       "version_major": 2,
       "version_minor": 0
      },
      "text/plain": [
       "  0%|          | 0/2000 [00:00<?, ?it/s]"
      ]
     },
     "metadata": {},
     "output_type": "display_data"
    },
    {
     "data": {
      "application/vnd.jupyter.widget-view+json": {
       "model_id": "5d693208487d49cdadf9feff27f4f9f9",
       "version_major": 2,
       "version_minor": 0
      },
      "text/plain": [
       "  0%|          | 0/2000 [00:00<?, ?it/s]"
      ]
     },
     "metadata": {},
     "output_type": "display_data"
    },
    {
     "data": {
      "application/vnd.jupyter.widget-view+json": {
       "model_id": "9c256b243f72424f882444bf116f2a96",
       "version_major": 2,
       "version_minor": 0
      },
      "text/plain": [
       "  0%|          | 0/2000 [00:00<?, ?it/s]"
      ]
     },
     "metadata": {},
     "output_type": "display_data"
    },
    {
     "data": {
      "application/vnd.jupyter.widget-view+json": {
       "model_id": "dfd3e7d3810e49e7b80264e0c4a98d27",
       "version_major": 2,
       "version_minor": 0
      },
      "text/plain": [
       "  0%|          | 0/2000 [00:00<?, ?it/s]"
      ]
     },
     "metadata": {},
     "output_type": "display_data"
    },
    {
     "data": {
      "application/vnd.jupyter.widget-view+json": {
       "model_id": "5eda33c0e8c54b9e9d9715d9b7e6a712",
       "version_major": 2,
       "version_minor": 0
      },
      "text/plain": [
       "  0%|          | 0/2000 [00:00<?, ?it/s]"
      ]
     },
     "metadata": {},
     "output_type": "display_data"
    },
    {
     "data": {
      "application/vnd.jupyter.widget-view+json": {
       "model_id": "1c69065d9fdd428ab68c1560cd93fbc6",
       "version_major": 2,
       "version_minor": 0
      },
      "text/plain": [
       "  0%|          | 0/2000 [00:00<?, ?it/s]"
      ]
     },
     "metadata": {},
     "output_type": "display_data"
    },
    {
     "data": {
      "application/vnd.jupyter.widget-view+json": {
       "model_id": "15fb8b630f834f529d716de82576454a",
       "version_major": 2,
       "version_minor": 0
      },
      "text/plain": [
       "  0%|          | 0/2000 [00:00<?, ?it/s]"
      ]
     },
     "metadata": {},
     "output_type": "display_data"
    },
    {
     "data": {
      "application/vnd.jupyter.widget-view+json": {
       "model_id": "beac227caffa4b6c97f4c1f6067a043a",
       "version_major": 2,
       "version_minor": 0
      },
      "text/plain": [
       "  0%|          | 0/2000 [00:00<?, ?it/s]"
      ]
     },
     "metadata": {},
     "output_type": "display_data"
    },
    {
     "data": {
      "application/vnd.jupyter.widget-view+json": {
       "model_id": "07a1143884b34ffda365743d436eab68",
       "version_major": 2,
       "version_minor": 0
      },
      "text/plain": [
       "  0%|          | 0/2000 [00:00<?, ?it/s]"
      ]
     },
     "metadata": {},
     "output_type": "display_data"
    },
    {
     "data": {
      "application/vnd.jupyter.widget-view+json": {
       "model_id": "9168a4b1520641adae10975307c31354",
       "version_major": 2,
       "version_minor": 0
      },
      "text/plain": [
       "  0%|          | 0/2000 [00:00<?, ?it/s]"
      ]
     },
     "metadata": {},
     "output_type": "display_data"
    },
    {
     "data": {
      "application/vnd.jupyter.widget-view+json": {
       "model_id": "84bc98a7ebc94cdd92c9492c0891d8f9",
       "version_major": 2,
       "version_minor": 0
      },
      "text/plain": [
       "  0%|          | 0/2000 [00:00<?, ?it/s]"
      ]
     },
     "metadata": {},
     "output_type": "display_data"
    },
    {
     "data": {
      "application/vnd.jupyter.widget-view+json": {
       "model_id": "906ff7ec3d37422eba2d6bae7c243e1a",
       "version_major": 2,
       "version_minor": 0
      },
      "text/plain": [
       "  0%|          | 0/2000 [00:00<?, ?it/s]"
      ]
     },
     "metadata": {},
     "output_type": "display_data"
    },
    {
     "data": {
      "application/vnd.jupyter.widget-view+json": {
       "model_id": "9e0e09e5afc44c14b87282b70c9c0149",
       "version_major": 2,
       "version_minor": 0
      },
      "text/plain": [
       "  0%|          | 0/2000 [00:00<?, ?it/s]"
      ]
     },
     "metadata": {},
     "output_type": "display_data"
    },
    {
     "data": {
      "application/vnd.jupyter.widget-view+json": {
       "model_id": "b6d31bf99e9a43b98d56aad134760d7b",
       "version_major": 2,
       "version_minor": 0
      },
      "text/plain": [
       "  0%|          | 0/2000 [00:00<?, ?it/s]"
      ]
     },
     "metadata": {},
     "output_type": "display_data"
    },
    {
     "data": {
      "application/vnd.jupyter.widget-view+json": {
       "model_id": "0ae8df4d1c6d4d358bbc1fc6936743e0",
       "version_major": 2,
       "version_minor": 0
      },
      "text/plain": [
       "  0%|          | 0/2000 [00:00<?, ?it/s]"
      ]
     },
     "metadata": {},
     "output_type": "display_data"
    },
    {
     "data": {
      "application/vnd.jupyter.widget-view+json": {
       "model_id": "84435f93ba90498fbb28662a5214d476",
       "version_major": 2,
       "version_minor": 0
      },
      "text/plain": [
       "  0%|          | 0/2000 [00:00<?, ?it/s]"
      ]
     },
     "metadata": {},
     "output_type": "display_data"
    }
   ],
   "source": [
    "# тест ARPU\n",
    "AB_by_country('geo_country in @i')"
   ]
  },
  {
   "cell_type": "code",
   "execution_count": 28,
   "id": "continuous-transport",
   "metadata": {},
   "outputs": [
    {
     "data": {
      "application/vnd.jupyter.widget-view+json": {
       "model_id": "4a9af49c4f0b4ea88d6ea7c232efc599",
       "version_major": 2,
       "version_minor": 0
      },
      "text/plain": [
       "  0%|          | 0/2000 [00:00<?, ?it/s]"
      ]
     },
     "metadata": {},
     "output_type": "display_data"
    },
    {
     "data": {
      "application/vnd.jupyter.widget-view+json": {
       "model_id": "5b4e130ec3ac4f31b4e6dabe2d6a307b",
       "version_major": 2,
       "version_minor": 0
      },
      "text/plain": [
       "  0%|          | 0/2000 [00:00<?, ?it/s]"
      ]
     },
     "metadata": {},
     "output_type": "display_data"
    },
    {
     "data": {
      "application/vnd.jupyter.widget-view+json": {
       "model_id": "6d56ac7f6f104b60a7c879c641935d3f",
       "version_major": 2,
       "version_minor": 0
      },
      "text/plain": [
       "  0%|          | 0/2000 [00:00<?, ?it/s]"
      ]
     },
     "metadata": {},
     "output_type": "display_data"
    },
    {
     "data": {
      "application/vnd.jupyter.widget-view+json": {
       "model_id": "ca4effb6b40146d3906239e446ddf9a7",
       "version_major": 2,
       "version_minor": 0
      },
      "text/plain": [
       "  0%|          | 0/2000 [00:00<?, ?it/s]"
      ]
     },
     "metadata": {},
     "output_type": "display_data"
    },
    {
     "data": {
      "application/vnd.jupyter.widget-view+json": {
       "model_id": "d9b3617047ae408a9d26a7eee074f240",
       "version_major": 2,
       "version_minor": 0
      },
      "text/plain": [
       "  0%|          | 0/2000 [00:00<?, ?it/s]"
      ]
     },
     "metadata": {},
     "output_type": "display_data"
    },
    {
     "data": {
      "application/vnd.jupyter.widget-view+json": {
       "model_id": "df49cb959ceb4a78865653c6ae51a13d",
       "version_major": 2,
       "version_minor": 0
      },
      "text/plain": [
       "  0%|          | 0/2000 [00:00<?, ?it/s]"
      ]
     },
     "metadata": {},
     "output_type": "display_data"
    },
    {
     "data": {
      "application/vnd.jupyter.widget-view+json": {
       "model_id": "a73f01c68b344b10bfa2c05ea955b4df",
       "version_major": 2,
       "version_minor": 0
      },
      "text/plain": [
       "  0%|          | 0/2000 [00:00<?, ?it/s]"
      ]
     },
     "metadata": {},
     "output_type": "display_data"
    },
    {
     "data": {
      "application/vnd.jupyter.widget-view+json": {
       "model_id": "19401808fc334bb6b498d67d43226bf2",
       "version_major": 2,
       "version_minor": 0
      },
      "text/plain": [
       "  0%|          | 0/2000 [00:00<?, ?it/s]"
      ]
     },
     "metadata": {},
     "output_type": "display_data"
    },
    {
     "data": {
      "application/vnd.jupyter.widget-view+json": {
       "model_id": "0bfb25b16c7b439e8dd245032c27da42",
       "version_major": 2,
       "version_minor": 0
      },
      "text/plain": [
       "  0%|          | 0/2000 [00:00<?, ?it/s]"
      ]
     },
     "metadata": {},
     "output_type": "display_data"
    },
    {
     "data": {
      "application/vnd.jupyter.widget-view+json": {
       "model_id": "e17ccfc88f364c8ea533ad2f9eb977e0",
       "version_major": 2,
       "version_minor": 0
      },
      "text/plain": [
       "  0%|          | 0/2000 [00:00<?, ?it/s]"
      ]
     },
     "metadata": {},
     "output_type": "display_data"
    },
    {
     "data": {
      "application/vnd.jupyter.widget-view+json": {
       "model_id": "76c08c007d0145d9b408b83b3d8fae3f",
       "version_major": 2,
       "version_minor": 0
      },
      "text/plain": [
       "  0%|          | 0/2000 [00:00<?, ?it/s]"
      ]
     },
     "metadata": {},
     "output_type": "display_data"
    },
    {
     "data": {
      "application/vnd.jupyter.widget-view+json": {
       "model_id": "c8b57877854e48fcb2cde82cba8e2cdc",
       "version_major": 2,
       "version_minor": 0
      },
      "text/plain": [
       "  0%|          | 0/2000 [00:00<?, ?it/s]"
      ]
     },
     "metadata": {},
     "output_type": "display_data"
    },
    {
     "data": {
      "application/vnd.jupyter.widget-view+json": {
       "model_id": "3552430b31f4414eae6cc77b0fe2484c",
       "version_major": 2,
       "version_minor": 0
      },
      "text/plain": [
       "  0%|          | 0/2000 [00:00<?, ?it/s]"
      ]
     },
     "metadata": {},
     "output_type": "display_data"
    },
    {
     "data": {
      "application/vnd.jupyter.widget-view+json": {
       "model_id": "d7ab4214b0764ce884dcf9665d3bba52",
       "version_major": 2,
       "version_minor": 0
      },
      "text/plain": [
       "  0%|          | 0/2000 [00:00<?, ?it/s]"
      ]
     },
     "metadata": {},
     "output_type": "display_data"
    },
    {
     "data": {
      "application/vnd.jupyter.widget-view+json": {
       "model_id": "e616a114aded4044822c826e161b7254",
       "version_major": 2,
       "version_minor": 0
      },
      "text/plain": [
       "  0%|          | 0/2000 [00:00<?, ?it/s]"
      ]
     },
     "metadata": {},
     "output_type": "display_data"
    },
    {
     "data": {
      "application/vnd.jupyter.widget-view+json": {
       "model_id": "62279ca26f5746ad8299a492a8564243",
       "version_major": 2,
       "version_minor": 0
      },
      "text/plain": [
       "  0%|          | 0/2000 [00:00<?, ?it/s]"
      ]
     },
     "metadata": {},
     "output_type": "display_data"
    },
    {
     "data": {
      "application/vnd.jupyter.widget-view+json": {
       "model_id": "04229acf796949088726c321dd42e940",
       "version_major": 2,
       "version_minor": 0
      },
      "text/plain": [
       "  0%|          | 0/2000 [00:00<?, ?it/s]"
      ]
     },
     "metadata": {},
     "output_type": "display_data"
    },
    {
     "data": {
      "application/vnd.jupyter.widget-view+json": {
       "model_id": "efa00119034f4fe19fc2de09ad11f1b4",
       "version_major": 2,
       "version_minor": 0
      },
      "text/plain": [
       "  0%|          | 0/2000 [00:00<?, ?it/s]"
      ]
     },
     "metadata": {},
     "output_type": "display_data"
    },
    {
     "data": {
      "application/vnd.jupyter.widget-view+json": {
       "model_id": "46e4e441c3b048dcb82740038090cd79",
       "version_major": 2,
       "version_minor": 0
      },
      "text/plain": [
       "  0%|          | 0/2000 [00:00<?, ?it/s]"
      ]
     },
     "metadata": {},
     "output_type": "display_data"
    },
    {
     "data": {
      "application/vnd.jupyter.widget-view+json": {
       "model_id": "1366a2c608dc4da6a49f083860e461a2",
       "version_major": 2,
       "version_minor": 0
      },
      "text/plain": [
       "  0%|          | 0/2000 [00:00<?, ?it/s]"
      ]
     },
     "metadata": {},
     "output_type": "display_data"
    },
    {
     "data": {
      "application/vnd.jupyter.widget-view+json": {
       "model_id": "63eb7832a3a24f67922735542d124a8e",
       "version_major": 2,
       "version_minor": 0
      },
      "text/plain": [
       "  0%|          | 0/2000 [00:00<?, ?it/s]"
      ]
     },
     "metadata": {},
     "output_type": "display_data"
    },
    {
     "data": {
      "application/vnd.jupyter.widget-view+json": {
       "model_id": "37cdfa61cbda4487acc38910442f7898",
       "version_major": 2,
       "version_minor": 0
      },
      "text/plain": [
       "  0%|          | 0/2000 [00:00<?, ?it/s]"
      ]
     },
     "metadata": {},
     "output_type": "display_data"
    },
    {
     "data": {
      "application/vnd.jupyter.widget-view+json": {
       "model_id": "d8f65cdb7c5f4c5ca60e1869fefbe2d0",
       "version_major": 2,
       "version_minor": 0
      },
      "text/plain": [
       "  0%|          | 0/2000 [00:00<?, ?it/s]"
      ]
     },
     "metadata": {},
     "output_type": "display_data"
    },
    {
     "data": {
      "application/vnd.jupyter.widget-view+json": {
       "model_id": "7d8f3d5e7dfe400fbfcb695c4cd1253a",
       "version_major": 2,
       "version_minor": 0
      },
      "text/plain": [
       "  0%|          | 0/2000 [00:00<?, ?it/s]"
      ]
     },
     "metadata": {},
     "output_type": "display_data"
    },
    {
     "data": {
      "application/vnd.jupyter.widget-view+json": {
       "model_id": "638255267ed34141aa1be0ba72090f24",
       "version_major": 2,
       "version_minor": 0
      },
      "text/plain": [
       "  0%|          | 0/2000 [00:00<?, ?it/s]"
      ]
     },
     "metadata": {},
     "output_type": "display_data"
    },
    {
     "data": {
      "application/vnd.jupyter.widget-view+json": {
       "model_id": "f401e84fbd9e49e58c4e41e955220d98",
       "version_major": 2,
       "version_minor": 0
      },
      "text/plain": [
       "  0%|          | 0/2000 [00:00<?, ?it/s]"
      ]
     },
     "metadata": {},
     "output_type": "display_data"
    },
    {
     "data": {
      "application/vnd.jupyter.widget-view+json": {
       "model_id": "f33d32b6e2a94c18a0a131213ea172cd",
       "version_major": 2,
       "version_minor": 0
      },
      "text/plain": [
       "  0%|          | 0/2000 [00:00<?, ?it/s]"
      ]
     },
     "metadata": {},
     "output_type": "display_data"
    },
    {
     "data": {
      "application/vnd.jupyter.widget-view+json": {
       "model_id": "376a14e99424420baebab1d7b660f5d0",
       "version_major": 2,
       "version_minor": 0
      },
      "text/plain": [
       "  0%|          | 0/2000 [00:00<?, ?it/s]"
      ]
     },
     "metadata": {},
     "output_type": "display_data"
    },
    {
     "data": {
      "application/vnd.jupyter.widget-view+json": {
       "model_id": "433cadfad1cf4104af389142104539ec",
       "version_major": 2,
       "version_minor": 0
      },
      "text/plain": [
       "  0%|          | 0/2000 [00:00<?, ?it/s]"
      ]
     },
     "metadata": {},
     "output_type": "display_data"
    },
    {
     "data": {
      "application/vnd.jupyter.widget-view+json": {
       "model_id": "8c013d598fc548918361552170a105a6",
       "version_major": 2,
       "version_minor": 0
      },
      "text/plain": [
       "  0%|          | 0/2000 [00:00<?, ?it/s]"
      ]
     },
     "metadata": {},
     "output_type": "display_data"
    },
    {
     "data": {
      "application/vnd.jupyter.widget-view+json": {
       "model_id": "7c246905991c49559424d14dda2fcdad",
       "version_major": 2,
       "version_minor": 0
      },
      "text/plain": [
       "  0%|          | 0/2000 [00:00<?, ?it/s]"
      ]
     },
     "metadata": {},
     "output_type": "display_data"
    },
    {
     "data": {
      "application/vnd.jupyter.widget-view+json": {
       "model_id": "756355623c654c398550058df1958421",
       "version_major": 2,
       "version_minor": 0
      },
      "text/plain": [
       "  0%|          | 0/2000 [00:00<?, ?it/s]"
      ]
     },
     "metadata": {},
     "output_type": "display_data"
    },
    {
     "data": {
      "application/vnd.jupyter.widget-view+json": {
       "model_id": "d305dedf75be487cb92812e2e3a80b72",
       "version_major": 2,
       "version_minor": 0
      },
      "text/plain": [
       "  0%|          | 0/2000 [00:00<?, ?it/s]"
      ]
     },
     "metadata": {},
     "output_type": "display_data"
    },
    {
     "data": {
      "application/vnd.jupyter.widget-view+json": {
       "model_id": "c751ea28b8a4470c88258c8af569efac",
       "version_major": 2,
       "version_minor": 0
      },
      "text/plain": [
       "  0%|          | 0/2000 [00:00<?, ?it/s]"
      ]
     },
     "metadata": {},
     "output_type": "display_data"
    },
    {
     "data": {
      "application/vnd.jupyter.widget-view+json": {
       "model_id": "0c0656fb42d843b7abe2c6cdd7f5aaa5",
       "version_major": 2,
       "version_minor": 0
      },
      "text/plain": [
       "  0%|          | 0/2000 [00:00<?, ?it/s]"
      ]
     },
     "metadata": {},
     "output_type": "display_data"
    },
    {
     "data": {
      "application/vnd.jupyter.widget-view+json": {
       "model_id": "5ce0e336f00944ba91d625b2a929e416",
       "version_major": 2,
       "version_minor": 0
      },
      "text/plain": [
       "  0%|          | 0/2000 [00:00<?, ?it/s]"
      ]
     },
     "metadata": {},
     "output_type": "display_data"
    },
    {
     "data": {
      "application/vnd.jupyter.widget-view+json": {
       "model_id": "fedfc2c1fe524086bc5bc4b2926eac64",
       "version_major": 2,
       "version_minor": 0
      },
      "text/plain": [
       "  0%|          | 0/2000 [00:00<?, ?it/s]"
      ]
     },
     "metadata": {},
     "output_type": "display_data"
    },
    {
     "data": {
      "application/vnd.jupyter.widget-view+json": {
       "model_id": "3969edc220364de790edf2b25bb1c21d",
       "version_major": 2,
       "version_minor": 0
      },
      "text/plain": [
       "  0%|          | 0/2000 [00:00<?, ?it/s]"
      ]
     },
     "metadata": {},
     "output_type": "display_data"
    },
    {
     "data": {
      "application/vnd.jupyter.widget-view+json": {
       "model_id": "05a2ec7839cd43799ae098d7e8d37de7",
       "version_major": 2,
       "version_minor": 0
      },
      "text/plain": [
       "  0%|          | 0/2000 [00:00<?, ?it/s]"
      ]
     },
     "metadata": {},
     "output_type": "display_data"
    },
    {
     "data": {
      "application/vnd.jupyter.widget-view+json": {
       "model_id": "04cf6446cc6941af84c89de1512bb29e",
       "version_major": 2,
       "version_minor": 0
      },
      "text/plain": [
       "  0%|          | 0/2000 [00:00<?, ?it/s]"
      ]
     },
     "metadata": {},
     "output_type": "display_data"
    },
    {
     "data": {
      "application/vnd.jupyter.widget-view+json": {
       "model_id": "478c5108aa19435c8f66ccb2d2034831",
       "version_major": 2,
       "version_minor": 0
      },
      "text/plain": [
       "  0%|          | 0/2000 [00:00<?, ?it/s]"
      ]
     },
     "metadata": {},
     "output_type": "display_data"
    },
    {
     "data": {
      "application/vnd.jupyter.widget-view+json": {
       "model_id": "97571b10af024036b4864b07a0a186a4",
       "version_major": 2,
       "version_minor": 0
      },
      "text/plain": [
       "  0%|          | 0/2000 [00:00<?, ?it/s]"
      ]
     },
     "metadata": {},
     "output_type": "display_data"
    },
    {
     "data": {
      "application/vnd.jupyter.widget-view+json": {
       "model_id": "03c9f4fd76874ed5b105e76d3b7d314e",
       "version_major": 2,
       "version_minor": 0
      },
      "text/plain": [
       "  0%|          | 0/2000 [00:00<?, ?it/s]"
      ]
     },
     "metadata": {},
     "output_type": "display_data"
    },
    {
     "data": {
      "application/vnd.jupyter.widget-view+json": {
       "model_id": "9130449590aa4ad084f3977a81552c81",
       "version_major": 2,
       "version_minor": 0
      },
      "text/plain": [
       "  0%|          | 0/2000 [00:00<?, ?it/s]"
      ]
     },
     "metadata": {},
     "output_type": "display_data"
    },
    {
     "data": {
      "application/vnd.jupyter.widget-view+json": {
       "model_id": "e5f5e9d2b16c4e67b4d32dc0f6c2a3ce",
       "version_major": 2,
       "version_minor": 0
      },
      "text/plain": [
       "  0%|          | 0/2000 [00:00<?, ?it/s]"
      ]
     },
     "metadata": {},
     "output_type": "display_data"
    },
    {
     "data": {
      "application/vnd.jupyter.widget-view+json": {
       "model_id": "916a80dee6c04fd3b298fb7da2d0637c",
       "version_major": 2,
       "version_minor": 0
      },
      "text/plain": [
       "  0%|          | 0/2000 [00:00<?, ?it/s]"
      ]
     },
     "metadata": {},
     "output_type": "display_data"
    },
    {
     "data": {
      "application/vnd.jupyter.widget-view+json": {
       "model_id": "efdb03c7977e47dea44f879f31395b8d",
       "version_major": 2,
       "version_minor": 0
      },
      "text/plain": [
       "  0%|          | 0/2000 [00:00<?, ?it/s]"
      ]
     },
     "metadata": {},
     "output_type": "display_data"
    },
    {
     "data": {
      "application/vnd.jupyter.widget-view+json": {
       "model_id": "ea032cbdf6b94c55b2ecf4945a1ccb7b",
       "version_major": 2,
       "version_minor": 0
      },
      "text/plain": [
       "  0%|          | 0/2000 [00:00<?, ?it/s]"
      ]
     },
     "metadata": {},
     "output_type": "display_data"
    },
    {
     "data": {
      "application/vnd.jupyter.widget-view+json": {
       "model_id": "ebe5e99c146f453483a83bad254981f9",
       "version_major": 2,
       "version_minor": 0
      },
      "text/plain": [
       "  0%|          | 0/2000 [00:00<?, ?it/s]"
      ]
     },
     "metadata": {},
     "output_type": "display_data"
    },
    {
     "data": {
      "application/vnd.jupyter.widget-view+json": {
       "model_id": "cea493f4623e4cc5ac5d2fea6431ed47",
       "version_major": 2,
       "version_minor": 0
      },
      "text/plain": [
       "  0%|          | 0/2000 [00:00<?, ?it/s]"
      ]
     },
     "metadata": {},
     "output_type": "display_data"
    },
    {
     "data": {
      "application/vnd.jupyter.widget-view+json": {
       "model_id": "2fc4e151362f417d8f6d79a481144031",
       "version_major": 2,
       "version_minor": 0
      },
      "text/plain": [
       "  0%|          | 0/2000 [00:00<?, ?it/s]"
      ]
     },
     "metadata": {},
     "output_type": "display_data"
    }
   ],
   "source": [
    "# тест ARPPU\n",
    "AB_by_country('geo_country in @i and user_revenue > 0')"
   ]
  },
  {
   "cell_type": "code",
   "execution_count": 29,
   "id": "efficient-producer",
   "metadata": {},
   "outputs": [],
   "source": [
    "AB_countries = AB_countries.replace(['geo_country in @i', 'geo_country in @i and user_revenue > 0'], ['ARPU', 'ARPPU'])"
   ]
  },
  {
   "cell_type": "code",
   "execution_count": 30,
   "id": "closing-shipping",
   "metadata": {},
   "outputs": [],
   "source": [
    "# применяем поправку Шидака-Холма для снижения вероятности допустить ошибку первого рода.\n",
    "reject, p_value_corrected, sidak_corr, bonf_corr = multipletests(AB_countries.p_value, alpha=0.05, method='Holm-Sidak')\n",
    "AB_countries['Holm-Sidak Correction Result'] = reject"
   ]
  },
  {
   "cell_type": "code",
   "execution_count": 31,
   "id": "residential-villa",
   "metadata": {},
   "outputs": [
    {
     "data": {
      "text/html": [
       "<div>\n",
       "<style scoped>\n",
       "    .dataframe tbody tr th:only-of-type {\n",
       "        vertical-align: middle;\n",
       "    }\n",
       "\n",
       "    .dataframe tbody tr th {\n",
       "        vertical-align: top;\n",
       "    }\n",
       "\n",
       "    .dataframe thead th {\n",
       "        text-align: right;\n",
       "    }\n",
       "</style>\n",
       "<table border=\"1\" class=\"dataframe\">\n",
       "  <thead>\n",
       "    <tr style=\"text-align: right;\">\n",
       "      <th></th>\n",
       "      <th>metric</th>\n",
       "      <th>country</th>\n",
       "      <th>ci_0.025</th>\n",
       "      <th>ci_0.0975</th>\n",
       "      <th>p_alpha</th>\n",
       "      <th>p_value</th>\n",
       "      <th>Holm-Sidak Correction Result</th>\n",
       "    </tr>\n",
       "  </thead>\n",
       "  <tbody>\n",
       "    <tr>\n",
       "      <th>0</th>\n",
       "      <td>ARPU</td>\n",
       "      <td>Argentina</td>\n",
       "      <td>0.033053</td>\n",
       "      <td>0.226575</td>\n",
       "      <td>0.05</td>\n",
       "      <td>0.019653</td>\n",
       "      <td>False</td>\n",
       "    </tr>\n",
       "    <tr>\n",
       "      <th>0</th>\n",
       "      <td>ARPU</td>\n",
       "      <td>Australia</td>\n",
       "      <td>-0.401189</td>\n",
       "      <td>0.140553</td>\n",
       "      <td>0.05</td>\n",
       "      <td>0.395599</td>\n",
       "      <td>False</td>\n",
       "    </tr>\n",
       "    <tr>\n",
       "      <th>0</th>\n",
       "      <td>ARPU</td>\n",
       "      <td>Austria</td>\n",
       "      <td>-0.387957</td>\n",
       "      <td>0.349111</td>\n",
       "      <td>0.05</td>\n",
       "      <td>0.888910</td>\n",
       "      <td>False</td>\n",
       "    </tr>\n",
       "    <tr>\n",
       "      <th>0</th>\n",
       "      <td>ARPU</td>\n",
       "      <td>Belgium</td>\n",
       "      <td>-0.076050</td>\n",
       "      <td>0.176559</td>\n",
       "      <td>0.05</td>\n",
       "      <td>0.481698</td>\n",
       "      <td>False</td>\n",
       "    </tr>\n",
       "    <tr>\n",
       "      <th>0</th>\n",
       "      <td>ARPU</td>\n",
       "      <td>Brazil</td>\n",
       "      <td>-0.065508</td>\n",
       "      <td>0.062000</td>\n",
       "      <td>0.05</td>\n",
       "      <td>0.931125</td>\n",
       "      <td>False</td>\n",
       "    </tr>\n",
       "    <tr>\n",
       "      <th>0</th>\n",
       "      <td>ARPU</td>\n",
       "      <td>Canada</td>\n",
       "      <td>-0.374292</td>\n",
       "      <td>0.218189</td>\n",
       "      <td>0.05</td>\n",
       "      <td>0.627329</td>\n",
       "      <td>False</td>\n",
       "    </tr>\n",
       "    <tr>\n",
       "      <th>0</th>\n",
       "      <td>ARPU</td>\n",
       "      <td>Chile</td>\n",
       "      <td>-0.163606</td>\n",
       "      <td>0.196983</td>\n",
       "      <td>0.05</td>\n",
       "      <td>0.799319</td>\n",
       "      <td>False</td>\n",
       "    </tr>\n",
       "    <tr>\n",
       "      <th>0</th>\n",
       "      <td>ARPU</td>\n",
       "      <td>Czechia</td>\n",
       "      <td>-0.064586</td>\n",
       "      <td>0.511060</td>\n",
       "      <td>0.05</td>\n",
       "      <td>0.243110</td>\n",
       "      <td>False</td>\n",
       "    </tr>\n",
       "    <tr>\n",
       "      <th>0</th>\n",
       "      <td>ARPU</td>\n",
       "      <td>Denmark</td>\n",
       "      <td>-0.002360</td>\n",
       "      <td>0.735945</td>\n",
       "      <td>0.05</td>\n",
       "      <td>0.059432</td>\n",
       "      <td>False</td>\n",
       "    </tr>\n",
       "    <tr>\n",
       "      <th>0</th>\n",
       "      <td>ARPU</td>\n",
       "      <td>Dominican Republic</td>\n",
       "      <td>-0.080077</td>\n",
       "      <td>0.039217</td>\n",
       "      <td>0.05</td>\n",
       "      <td>0.549787</td>\n",
       "      <td>False</td>\n",
       "    </tr>\n",
       "    <tr>\n",
       "      <th>0</th>\n",
       "      <td>ARPU</td>\n",
       "      <td>Finland</td>\n",
       "      <td>-0.113031</td>\n",
       "      <td>0.428349</td>\n",
       "      <td>0.05</td>\n",
       "      <td>0.353179</td>\n",
       "      <td>False</td>\n",
       "    </tr>\n",
       "    <tr>\n",
       "      <th>0</th>\n",
       "      <td>ARPU</td>\n",
       "      <td>France</td>\n",
       "      <td>-0.127142</td>\n",
       "      <td>0.068207</td>\n",
       "      <td>0.05</td>\n",
       "      <td>0.511951</td>\n",
       "      <td>False</td>\n",
       "    </tr>\n",
       "    <tr>\n",
       "      <th>0</th>\n",
       "      <td>ARPU</td>\n",
       "      <td>Germany</td>\n",
       "      <td>-0.282266</td>\n",
       "      <td>0.045528</td>\n",
       "      <td>0.05</td>\n",
       "      <td>0.155199</td>\n",
       "      <td>False</td>\n",
       "    </tr>\n",
       "    <tr>\n",
       "      <th>0</th>\n",
       "      <td>ARPU</td>\n",
       "      <td>Greece</td>\n",
       "      <td>-0.084050</td>\n",
       "      <td>0.107712</td>\n",
       "      <td>0.05</td>\n",
       "      <td>0.865860</td>\n",
       "      <td>False</td>\n",
       "    </tr>\n",
       "    <tr>\n",
       "      <th>0</th>\n",
       "      <td>ARPU</td>\n",
       "      <td>Hong Kong</td>\n",
       "      <td>-0.583969</td>\n",
       "      <td>-0.002651</td>\n",
       "      <td>0.05</td>\n",
       "      <td>0.082129</td>\n",
       "      <td>False</td>\n",
       "    </tr>\n",
       "    <tr>\n",
       "      <th>0</th>\n",
       "      <td>ARPU</td>\n",
       "      <td>Hungary</td>\n",
       "      <td>-0.380819</td>\n",
       "      <td>0.364871</td>\n",
       "      <td>0.05</td>\n",
       "      <td>0.930425</td>\n",
       "      <td>False</td>\n",
       "    </tr>\n",
       "    <tr>\n",
       "      <th>0</th>\n",
       "      <td>ARPU</td>\n",
       "      <td>India</td>\n",
       "      <td>-0.089421</td>\n",
       "      <td>0.030595</td>\n",
       "      <td>0.05</td>\n",
       "      <td>0.425846</td>\n",
       "      <td>False</td>\n",
       "    </tr>\n",
       "    <tr>\n",
       "      <th>0</th>\n",
       "      <td>ARPU</td>\n",
       "      <td>Indonesia</td>\n",
       "      <td>-0.344983</td>\n",
       "      <td>0.029583</td>\n",
       "      <td>0.05</td>\n",
       "      <td>0.263075</td>\n",
       "      <td>False</td>\n",
       "    </tr>\n",
       "    <tr>\n",
       "      <th>0</th>\n",
       "      <td>ARPU</td>\n",
       "      <td>Ireland</td>\n",
       "      <td>-0.830842</td>\n",
       "      <td>0.214785</td>\n",
       "      <td>0.05</td>\n",
       "      <td>0.235599</td>\n",
       "      <td>False</td>\n",
       "    </tr>\n",
       "    <tr>\n",
       "      <th>0</th>\n",
       "      <td>ARPU</td>\n",
       "      <td>Israel</td>\n",
       "      <td>-0.395262</td>\n",
       "      <td>-0.009958</td>\n",
       "      <td>0.05</td>\n",
       "      <td>0.090060</td>\n",
       "      <td>False</td>\n",
       "    </tr>\n",
       "    <tr>\n",
       "      <th>0</th>\n",
       "      <td>ARPU</td>\n",
       "      <td>Italy</td>\n",
       "      <td>-0.555188</td>\n",
       "      <td>-0.018259</td>\n",
       "      <td>0.05</td>\n",
       "      <td>0.074339</td>\n",
       "      <td>False</td>\n",
       "    </tr>\n",
       "    <tr>\n",
       "      <th>0</th>\n",
       "      <td>ARPU</td>\n",
       "      <td>Japan</td>\n",
       "      <td>-0.130410</td>\n",
       "      <td>0.154787</td>\n",
       "      <td>0.05</td>\n",
       "      <td>0.851628</td>\n",
       "      <td>False</td>\n",
       "    </tr>\n",
       "    <tr>\n",
       "      <th>0</th>\n",
       "      <td>ARPU</td>\n",
       "      <td>Kazakhstan</td>\n",
       "      <td>-0.052721</td>\n",
       "      <td>0.009908</td>\n",
       "      <td>0.05</td>\n",
       "      <td>0.294404</td>\n",
       "      <td>False</td>\n",
       "    </tr>\n",
       "    <tr>\n",
       "      <th>0</th>\n",
       "      <td>ARPU</td>\n",
       "      <td>Kuwait</td>\n",
       "      <td>-0.018863</td>\n",
       "      <td>0.601209</td>\n",
       "      <td>0.05</td>\n",
       "      <td>0.130222</td>\n",
       "      <td>False</td>\n",
       "    </tr>\n",
       "    <tr>\n",
       "      <th>0</th>\n",
       "      <td>ARPU</td>\n",
       "      <td>Malaysia</td>\n",
       "      <td>-0.077317</td>\n",
       "      <td>0.094643</td>\n",
       "      <td>0.05</td>\n",
       "      <td>0.801549</td>\n",
       "      <td>False</td>\n",
       "    </tr>\n",
       "    <tr>\n",
       "      <th>0</th>\n",
       "      <td>ARPU</td>\n",
       "      <td>Mexico</td>\n",
       "      <td>-0.039126</td>\n",
       "      <td>0.105753</td>\n",
       "      <td>0.05</td>\n",
       "      <td>0.415525</td>\n",
       "      <td>False</td>\n",
       "    </tr>\n",
       "    <tr>\n",
       "      <th>0</th>\n",
       "      <td>ARPU</td>\n",
       "      <td>Netherlands</td>\n",
       "      <td>-0.092025</td>\n",
       "      <td>0.117219</td>\n",
       "      <td>0.05</td>\n",
       "      <td>0.808003</td>\n",
       "      <td>False</td>\n",
       "    </tr>\n",
       "    <tr>\n",
       "      <th>0</th>\n",
       "      <td>ARPU</td>\n",
       "      <td>New Zealand</td>\n",
       "      <td>-0.437381</td>\n",
       "      <td>0.734688</td>\n",
       "      <td>0.05</td>\n",
       "      <td>0.739002</td>\n",
       "      <td>False</td>\n",
       "    </tr>\n",
       "    <tr>\n",
       "      <th>0</th>\n",
       "      <td>ARPU</td>\n",
       "      <td>Nigeria</td>\n",
       "      <td>-0.019136</td>\n",
       "      <td>0.104905</td>\n",
       "      <td>0.05</td>\n",
       "      <td>0.308708</td>\n",
       "      <td>False</td>\n",
       "    </tr>\n",
       "    <tr>\n",
       "      <th>0</th>\n",
       "      <td>ARPU</td>\n",
       "      <td>Norway</td>\n",
       "      <td>-0.806884</td>\n",
       "      <td>0.059540</td>\n",
       "      <td>0.05</td>\n",
       "      <td>0.136154</td>\n",
       "      <td>False</td>\n",
       "    </tr>\n",
       "    <tr>\n",
       "      <th>0</th>\n",
       "      <td>ARPU</td>\n",
       "      <td>Philippines</td>\n",
       "      <td>-0.077719</td>\n",
       "      <td>0.261583</td>\n",
       "      <td>0.05</td>\n",
       "      <td>0.443841</td>\n",
       "      <td>False</td>\n",
       "    </tr>\n",
       "    <tr>\n",
       "      <th>0</th>\n",
       "      <td>ARPU</td>\n",
       "      <td>Poland</td>\n",
       "      <td>-0.054205</td>\n",
       "      <td>0.255908</td>\n",
       "      <td>0.05</td>\n",
       "      <td>0.333104</td>\n",
       "      <td>False</td>\n",
       "    </tr>\n",
       "    <tr>\n",
       "      <th>0</th>\n",
       "      <td>ARPU</td>\n",
       "      <td>Portugal</td>\n",
       "      <td>-0.043623</td>\n",
       "      <td>0.308375</td>\n",
       "      <td>0.05</td>\n",
       "      <td>0.207936</td>\n",
       "      <td>False</td>\n",
       "    </tr>\n",
       "    <tr>\n",
       "      <th>0</th>\n",
       "      <td>ARPU</td>\n",
       "      <td>Puerto Rico</td>\n",
       "      <td>-0.448576</td>\n",
       "      <td>0.072135</td>\n",
       "      <td>0.05</td>\n",
       "      <td>0.355830</td>\n",
       "      <td>False</td>\n",
       "    </tr>\n",
       "    <tr>\n",
       "      <th>0</th>\n",
       "      <td>ARPU</td>\n",
       "      <td>Romania</td>\n",
       "      <td>-0.399572</td>\n",
       "      <td>0.362531</td>\n",
       "      <td>0.05</td>\n",
       "      <td>0.995679</td>\n",
       "      <td>False</td>\n",
       "    </tr>\n",
       "    <tr>\n",
       "      <th>0</th>\n",
       "      <td>ARPU</td>\n",
       "      <td>Russia</td>\n",
       "      <td>-0.018151</td>\n",
       "      <td>0.061918</td>\n",
       "      <td>0.05</td>\n",
       "      <td>0.356414</td>\n",
       "      <td>False</td>\n",
       "    </tr>\n",
       "    <tr>\n",
       "      <th>0</th>\n",
       "      <td>ARPU</td>\n",
       "      <td>Saudi Arabia</td>\n",
       "      <td>0.036291</td>\n",
       "      <td>0.804179</td>\n",
       "      <td>0.05</td>\n",
       "      <td>0.058435</td>\n",
       "      <td>False</td>\n",
       "    </tr>\n",
       "    <tr>\n",
       "      <th>0</th>\n",
       "      <td>ARPU</td>\n",
       "      <td>Singapore</td>\n",
       "      <td>-0.109356</td>\n",
       "      <td>0.512434</td>\n",
       "      <td>0.05</td>\n",
       "      <td>0.293545</td>\n",
       "      <td>False</td>\n",
       "    </tr>\n",
       "    <tr>\n",
       "      <th>0</th>\n",
       "      <td>ARPU</td>\n",
       "      <td>Slovakia</td>\n",
       "      <td>-0.093488</td>\n",
       "      <td>0.612422</td>\n",
       "      <td>0.05</td>\n",
       "      <td>0.289727</td>\n",
       "      <td>False</td>\n",
       "    </tr>\n",
       "    <tr>\n",
       "      <th>0</th>\n",
       "      <td>ARPU</td>\n",
       "      <td>South Africa</td>\n",
       "      <td>-0.965472</td>\n",
       "      <td>0.343270</td>\n",
       "      <td>0.05</td>\n",
       "      <td>0.600605</td>\n",
       "      <td>False</td>\n",
       "    </tr>\n",
       "    <tr>\n",
       "      <th>0</th>\n",
       "      <td>ARPU</td>\n",
       "      <td>South Korea</td>\n",
       "      <td>-0.255986</td>\n",
       "      <td>0.288091</td>\n",
       "      <td>0.05</td>\n",
       "      <td>0.816938</td>\n",
       "      <td>False</td>\n",
       "    </tr>\n",
       "    <tr>\n",
       "      <th>0</th>\n",
       "      <td>ARPU</td>\n",
       "      <td>Spain</td>\n",
       "      <td>-0.075225</td>\n",
       "      <td>0.127700</td>\n",
       "      <td>0.05</td>\n",
       "      <td>0.704816</td>\n",
       "      <td>False</td>\n",
       "    </tr>\n",
       "    <tr>\n",
       "      <th>0</th>\n",
       "      <td>ARPU</td>\n",
       "      <td>Sweden</td>\n",
       "      <td>-1.266850</td>\n",
       "      <td>0.901708</td>\n",
       "      <td>0.05</td>\n",
       "      <td>0.588728</td>\n",
       "      <td>False</td>\n",
       "    </tr>\n",
       "    <tr>\n",
       "      <th>0</th>\n",
       "      <td>ARPU</td>\n",
       "      <td>Switzerland</td>\n",
       "      <td>-0.867768</td>\n",
       "      <td>0.391206</td>\n",
       "      <td>0.05</td>\n",
       "      <td>0.528420</td>\n",
       "      <td>False</td>\n",
       "    </tr>\n",
       "    <tr>\n",
       "      <th>0</th>\n",
       "      <td>ARPU</td>\n",
       "      <td>Taiwan</td>\n",
       "      <td>-0.222584</td>\n",
       "      <td>0.142778</td>\n",
       "      <td>0.05</td>\n",
       "      <td>0.646915</td>\n",
       "      <td>False</td>\n",
       "    </tr>\n",
       "    <tr>\n",
       "      <th>0</th>\n",
       "      <td>ARPU</td>\n",
       "      <td>Thailand</td>\n",
       "      <td>-0.074741</td>\n",
       "      <td>0.055805</td>\n",
       "      <td>0.05</td>\n",
       "      <td>0.779806</td>\n",
       "      <td>False</td>\n",
       "    </tr>\n",
       "    <tr>\n",
       "      <th>0</th>\n",
       "      <td>ARPU</td>\n",
       "      <td>Turkey</td>\n",
       "      <td>-0.004395</td>\n",
       "      <td>0.349297</td>\n",
       "      <td>0.05</td>\n",
       "      <td>0.112457</td>\n",
       "      <td>False</td>\n",
       "    </tr>\n",
       "    <tr>\n",
       "      <th>0</th>\n",
       "      <td>ARPU</td>\n",
       "      <td>Ukraine</td>\n",
       "      <td>-0.202935</td>\n",
       "      <td>0.012973</td>\n",
       "      <td>0.05</td>\n",
       "      <td>0.260515</td>\n",
       "      <td>False</td>\n",
       "    </tr>\n",
       "    <tr>\n",
       "      <th>0</th>\n",
       "      <td>ARPU</td>\n",
       "      <td>United Kingdom</td>\n",
       "      <td>-0.189745</td>\n",
       "      <td>0.073693</td>\n",
       "      <td>0.05</td>\n",
       "      <td>0.408215</td>\n",
       "      <td>False</td>\n",
       "    </tr>\n",
       "    <tr>\n",
       "      <th>0</th>\n",
       "      <td>ARPU</td>\n",
       "      <td>United States</td>\n",
       "      <td>-0.015265</td>\n",
       "      <td>0.183503</td>\n",
       "      <td>0.05</td>\n",
       "      <td>0.098185</td>\n",
       "      <td>False</td>\n",
       "    </tr>\n",
       "    <tr>\n",
       "      <th>0</th>\n",
       "      <td>ARPU</td>\n",
       "      <td>Vietnam</td>\n",
       "      <td>-0.049469</td>\n",
       "      <td>0.242516</td>\n",
       "      <td>0.05</td>\n",
       "      <td>0.497607</td>\n",
       "      <td>False</td>\n",
       "    </tr>\n",
       "  </tbody>\n",
       "</table>\n",
       "</div>"
      ],
      "text/plain": [
       "  metric             country  ci_0.025  ci_0.0975  p_alpha   p_value  \\\n",
       "0   ARPU           Argentina  0.033053   0.226575     0.05  0.019653   \n",
       "0   ARPU           Australia -0.401189   0.140553     0.05  0.395599   \n",
       "0   ARPU             Austria -0.387957   0.349111     0.05  0.888910   \n",
       "0   ARPU             Belgium -0.076050   0.176559     0.05  0.481698   \n",
       "0   ARPU              Brazil -0.065508   0.062000     0.05  0.931125   \n",
       "0   ARPU              Canada -0.374292   0.218189     0.05  0.627329   \n",
       "0   ARPU               Chile -0.163606   0.196983     0.05  0.799319   \n",
       "0   ARPU             Czechia -0.064586   0.511060     0.05  0.243110   \n",
       "0   ARPU             Denmark -0.002360   0.735945     0.05  0.059432   \n",
       "0   ARPU  Dominican Republic -0.080077   0.039217     0.05  0.549787   \n",
       "0   ARPU             Finland -0.113031   0.428349     0.05  0.353179   \n",
       "0   ARPU              France -0.127142   0.068207     0.05  0.511951   \n",
       "0   ARPU             Germany -0.282266   0.045528     0.05  0.155199   \n",
       "0   ARPU              Greece -0.084050   0.107712     0.05  0.865860   \n",
       "0   ARPU           Hong Kong -0.583969  -0.002651     0.05  0.082129   \n",
       "0   ARPU             Hungary -0.380819   0.364871     0.05  0.930425   \n",
       "0   ARPU               India -0.089421   0.030595     0.05  0.425846   \n",
       "0   ARPU           Indonesia -0.344983   0.029583     0.05  0.263075   \n",
       "0   ARPU             Ireland -0.830842   0.214785     0.05  0.235599   \n",
       "0   ARPU              Israel -0.395262  -0.009958     0.05  0.090060   \n",
       "0   ARPU               Italy -0.555188  -0.018259     0.05  0.074339   \n",
       "0   ARPU               Japan -0.130410   0.154787     0.05  0.851628   \n",
       "0   ARPU          Kazakhstan -0.052721   0.009908     0.05  0.294404   \n",
       "0   ARPU              Kuwait -0.018863   0.601209     0.05  0.130222   \n",
       "0   ARPU            Malaysia -0.077317   0.094643     0.05  0.801549   \n",
       "0   ARPU              Mexico -0.039126   0.105753     0.05  0.415525   \n",
       "0   ARPU         Netherlands -0.092025   0.117219     0.05  0.808003   \n",
       "0   ARPU         New Zealand -0.437381   0.734688     0.05  0.739002   \n",
       "0   ARPU             Nigeria -0.019136   0.104905     0.05  0.308708   \n",
       "0   ARPU              Norway -0.806884   0.059540     0.05  0.136154   \n",
       "0   ARPU         Philippines -0.077719   0.261583     0.05  0.443841   \n",
       "0   ARPU              Poland -0.054205   0.255908     0.05  0.333104   \n",
       "0   ARPU            Portugal -0.043623   0.308375     0.05  0.207936   \n",
       "0   ARPU         Puerto Rico -0.448576   0.072135     0.05  0.355830   \n",
       "0   ARPU             Romania -0.399572   0.362531     0.05  0.995679   \n",
       "0   ARPU              Russia -0.018151   0.061918     0.05  0.356414   \n",
       "0   ARPU        Saudi Arabia  0.036291   0.804179     0.05  0.058435   \n",
       "0   ARPU           Singapore -0.109356   0.512434     0.05  0.293545   \n",
       "0   ARPU            Slovakia -0.093488   0.612422     0.05  0.289727   \n",
       "0   ARPU        South Africa -0.965472   0.343270     0.05  0.600605   \n",
       "0   ARPU         South Korea -0.255986   0.288091     0.05  0.816938   \n",
       "0   ARPU               Spain -0.075225   0.127700     0.05  0.704816   \n",
       "0   ARPU              Sweden -1.266850   0.901708     0.05  0.588728   \n",
       "0   ARPU         Switzerland -0.867768   0.391206     0.05  0.528420   \n",
       "0   ARPU              Taiwan -0.222584   0.142778     0.05  0.646915   \n",
       "0   ARPU            Thailand -0.074741   0.055805     0.05  0.779806   \n",
       "0   ARPU              Turkey -0.004395   0.349297     0.05  0.112457   \n",
       "0   ARPU             Ukraine -0.202935   0.012973     0.05  0.260515   \n",
       "0   ARPU      United Kingdom -0.189745   0.073693     0.05  0.408215   \n",
       "0   ARPU       United States -0.015265   0.183503     0.05  0.098185   \n",
       "0   ARPU             Vietnam -0.049469   0.242516     0.05  0.497607   \n",
       "\n",
       "   Holm-Sidak Correction Result  \n",
       "0                         False  \n",
       "0                         False  \n",
       "0                         False  \n",
       "0                         False  \n",
       "0                         False  \n",
       "0                         False  \n",
       "0                         False  \n",
       "0                         False  \n",
       "0                         False  \n",
       "0                         False  \n",
       "0                         False  \n",
       "0                         False  \n",
       "0                         False  \n",
       "0                         False  \n",
       "0                         False  \n",
       "0                         False  \n",
       "0                         False  \n",
       "0                         False  \n",
       "0                         False  \n",
       "0                         False  \n",
       "0                         False  \n",
       "0                         False  \n",
       "0                         False  \n",
       "0                         False  \n",
       "0                         False  \n",
       "0                         False  \n",
       "0                         False  \n",
       "0                         False  \n",
       "0                         False  \n",
       "0                         False  \n",
       "0                         False  \n",
       "0                         False  \n",
       "0                         False  \n",
       "0                         False  \n",
       "0                         False  \n",
       "0                         False  \n",
       "0                         False  \n",
       "0                         False  \n",
       "0                         False  \n",
       "0                         False  \n",
       "0                         False  \n",
       "0                         False  \n",
       "0                         False  \n",
       "0                         False  \n",
       "0                         False  \n",
       "0                         False  \n",
       "0                         False  \n",
       "0                         False  \n",
       "0                         False  \n",
       "0                         False  \n",
       "0                         False  "
      ]
     },
     "execution_count": 31,
     "metadata": {},
     "output_type": "execute_result"
    }
   ],
   "source": [
    "AB_countries.query('metric == \"ARPU\"')"
   ]
  },
  {
   "cell_type": "code",
   "execution_count": 32,
   "id": "future-dominant",
   "metadata": {},
   "outputs": [
    {
     "data": {
      "text/html": [
       "<div>\n",
       "<style scoped>\n",
       "    .dataframe tbody tr th:only-of-type {\n",
       "        vertical-align: middle;\n",
       "    }\n",
       "\n",
       "    .dataframe tbody tr th {\n",
       "        vertical-align: top;\n",
       "    }\n",
       "\n",
       "    .dataframe thead th {\n",
       "        text-align: right;\n",
       "    }\n",
       "</style>\n",
       "<table border=\"1\" class=\"dataframe\">\n",
       "  <thead>\n",
       "    <tr style=\"text-align: right;\">\n",
       "      <th></th>\n",
       "      <th>metric</th>\n",
       "      <th>country</th>\n",
       "      <th>ci_0.025</th>\n",
       "      <th>ci_0.0975</th>\n",
       "      <th>p_alpha</th>\n",
       "      <th>p_value</th>\n",
       "      <th>Holm-Sidak Correction Result</th>\n",
       "    </tr>\n",
       "  </thead>\n",
       "  <tbody>\n",
       "    <tr>\n",
       "      <th>0</th>\n",
       "      <td>ARPPU</td>\n",
       "      <td>Argentina</td>\n",
       "      <td>0.786808</td>\n",
       "      <td>2.202846</td>\n",
       "      <td>0.05</td>\n",
       "      <td>0.000026</td>\n",
       "      <td>True</td>\n",
       "    </tr>\n",
       "    <tr>\n",
       "      <th>0</th>\n",
       "      <td>ARPPU</td>\n",
       "      <td>Australia</td>\n",
       "      <td>-2.405770</td>\n",
       "      <td>1.167865</td>\n",
       "      <td>0.05</td>\n",
       "      <td>0.502232</td>\n",
       "      <td>False</td>\n",
       "    </tr>\n",
       "    <tr>\n",
       "      <th>0</th>\n",
       "      <td>ARPPU</td>\n",
       "      <td>Austria</td>\n",
       "      <td>-1.496329</td>\n",
       "      <td>5.302694</td>\n",
       "      <td>0.05</td>\n",
       "      <td>0.302272</td>\n",
       "      <td>False</td>\n",
       "    </tr>\n",
       "    <tr>\n",
       "      <th>0</th>\n",
       "      <td>ARPPU</td>\n",
       "      <td>Belgium</td>\n",
       "      <td>-1.524577</td>\n",
       "      <td>3.845035</td>\n",
       "      <td>0.05</td>\n",
       "      <td>0.452695</td>\n",
       "      <td>False</td>\n",
       "    </tr>\n",
       "    <tr>\n",
       "      <th>0</th>\n",
       "      <td>ARPPU</td>\n",
       "      <td>Brazil</td>\n",
       "      <td>-1.522615</td>\n",
       "      <td>1.300901</td>\n",
       "      <td>0.05</td>\n",
       "      <td>0.966466</td>\n",
       "      <td>False</td>\n",
       "    </tr>\n",
       "    <tr>\n",
       "      <th>0</th>\n",
       "      <td>ARPPU</td>\n",
       "      <td>Canada</td>\n",
       "      <td>-4.107752</td>\n",
       "      <td>1.636223</td>\n",
       "      <td>0.05</td>\n",
       "      <td>0.372303</td>\n",
       "      <td>False</td>\n",
       "    </tr>\n",
       "    <tr>\n",
       "      <th>0</th>\n",
       "      <td>ARPPU</td>\n",
       "      <td>Chile</td>\n",
       "      <td>-2.401274</td>\n",
       "      <td>2.192484</td>\n",
       "      <td>0.05</td>\n",
       "      <td>0.932675</td>\n",
       "      <td>False</td>\n",
       "    </tr>\n",
       "    <tr>\n",
       "      <th>0</th>\n",
       "      <td>ARPPU</td>\n",
       "      <td>Czechia</td>\n",
       "      <td>-0.125790</td>\n",
       "      <td>10.270196</td>\n",
       "      <td>0.05</td>\n",
       "      <td>0.079594</td>\n",
       "      <td>False</td>\n",
       "    </tr>\n",
       "    <tr>\n",
       "      <th>0</th>\n",
       "      <td>ARPPU</td>\n",
       "      <td>Denmark</td>\n",
       "      <td>-0.130878</td>\n",
       "      <td>5.962965</td>\n",
       "      <td>0.05</td>\n",
       "      <td>0.076260</td>\n",
       "      <td>False</td>\n",
       "    </tr>\n",
       "    <tr>\n",
       "      <th>0</th>\n",
       "      <td>ARPPU</td>\n",
       "      <td>Dominican Republic</td>\n",
       "      <td>-1.703715</td>\n",
       "      <td>1.209319</td>\n",
       "      <td>0.05</td>\n",
       "      <td>0.755340</td>\n",
       "      <td>False</td>\n",
       "    </tr>\n",
       "    <tr>\n",
       "      <th>0</th>\n",
       "      <td>ARPPU</td>\n",
       "      <td>Finland</td>\n",
       "      <td>0.488281</td>\n",
       "      <td>5.149872</td>\n",
       "      <td>0.05</td>\n",
       "      <td>0.033443</td>\n",
       "      <td>False</td>\n",
       "    </tr>\n",
       "    <tr>\n",
       "      <th>0</th>\n",
       "      <td>ARPPU</td>\n",
       "      <td>France</td>\n",
       "      <td>-0.391989</td>\n",
       "      <td>3.475001</td>\n",
       "      <td>0.05</td>\n",
       "      <td>0.139187</td>\n",
       "      <td>False</td>\n",
       "    </tr>\n",
       "    <tr>\n",
       "      <th>0</th>\n",
       "      <td>ARPPU</td>\n",
       "      <td>Germany</td>\n",
       "      <td>-4.920606</td>\n",
       "      <td>-0.717337</td>\n",
       "      <td>0.05</td>\n",
       "      <td>0.008850</td>\n",
       "      <td>False</td>\n",
       "    </tr>\n",
       "    <tr>\n",
       "      <th>0</th>\n",
       "      <td>ARPPU</td>\n",
       "      <td>Greece</td>\n",
       "      <td>-1.250188</td>\n",
       "      <td>1.525411</td>\n",
       "      <td>0.05</td>\n",
       "      <td>0.783469</td>\n",
       "      <td>False</td>\n",
       "    </tr>\n",
       "    <tr>\n",
       "      <th>0</th>\n",
       "      <td>ARPPU</td>\n",
       "      <td>Hong Kong</td>\n",
       "      <td>-7.311254</td>\n",
       "      <td>0.317087</td>\n",
       "      <td>0.05</td>\n",
       "      <td>0.119897</td>\n",
       "      <td>False</td>\n",
       "    </tr>\n",
       "    <tr>\n",
       "      <th>0</th>\n",
       "      <td>ARPPU</td>\n",
       "      <td>Hungary</td>\n",
       "      <td>-4.285361</td>\n",
       "      <td>8.545817</td>\n",
       "      <td>0.05</td>\n",
       "      <td>0.549079</td>\n",
       "      <td>False</td>\n",
       "    </tr>\n",
       "    <tr>\n",
       "      <th>0</th>\n",
       "      <td>ARPPU</td>\n",
       "      <td>India</td>\n",
       "      <td>-3.594606</td>\n",
       "      <td>1.487149</td>\n",
       "      <td>0.05</td>\n",
       "      <td>0.566157</td>\n",
       "      <td>False</td>\n",
       "    </tr>\n",
       "    <tr>\n",
       "      <th>0</th>\n",
       "      <td>ARPPU</td>\n",
       "      <td>Indonesia</td>\n",
       "      <td>-10.217149</td>\n",
       "      <td>0.208259</td>\n",
       "      <td>0.05</td>\n",
       "      <td>0.146668</td>\n",
       "      <td>False</td>\n",
       "    </tr>\n",
       "    <tr>\n",
       "      <th>0</th>\n",
       "      <td>ARPPU</td>\n",
       "      <td>Ireland</td>\n",
       "      <td>-1.941299</td>\n",
       "      <td>5.344526</td>\n",
       "      <td>0.05</td>\n",
       "      <td>0.404726</td>\n",
       "      <td>False</td>\n",
       "    </tr>\n",
       "    <tr>\n",
       "      <th>0</th>\n",
       "      <td>ARPPU</td>\n",
       "      <td>Israel</td>\n",
       "      <td>-11.900058</td>\n",
       "      <td>-0.848265</td>\n",
       "      <td>0.05</td>\n",
       "      <td>0.039989</td>\n",
       "      <td>False</td>\n",
       "    </tr>\n",
       "    <tr>\n",
       "      <th>0</th>\n",
       "      <td>ARPPU</td>\n",
       "      <td>Italy</td>\n",
       "      <td>-8.862980</td>\n",
       "      <td>0.928437</td>\n",
       "      <td>0.05</td>\n",
       "      <td>0.190146</td>\n",
       "      <td>False</td>\n",
       "    </tr>\n",
       "    <tr>\n",
       "      <th>0</th>\n",
       "      <td>ARPPU</td>\n",
       "      <td>Japan</td>\n",
       "      <td>-1.488726</td>\n",
       "      <td>2.014563</td>\n",
       "      <td>0.05</td>\n",
       "      <td>0.730672</td>\n",
       "      <td>False</td>\n",
       "    </tr>\n",
       "    <tr>\n",
       "      <th>0</th>\n",
       "      <td>ARPPU</td>\n",
       "      <td>Kazakhstan</td>\n",
       "      <td>-2.542367</td>\n",
       "      <td>0.182515</td>\n",
       "      <td>0.05</td>\n",
       "      <td>0.138494</td>\n",
       "      <td>False</td>\n",
       "    </tr>\n",
       "    <tr>\n",
       "      <th>0</th>\n",
       "      <td>ARPPU</td>\n",
       "      <td>Kuwait</td>\n",
       "      <td>1.730218</td>\n",
       "      <td>5.234594</td>\n",
       "      <td>0.05</td>\n",
       "      <td>0.000023</td>\n",
       "      <td>True</td>\n",
       "    </tr>\n",
       "    <tr>\n",
       "      <th>0</th>\n",
       "      <td>ARPPU</td>\n",
       "      <td>Malaysia</td>\n",
       "      <td>-1.559868</td>\n",
       "      <td>1.707494</td>\n",
       "      <td>0.05</td>\n",
       "      <td>0.863247</td>\n",
       "      <td>False</td>\n",
       "    </tr>\n",
       "    <tr>\n",
       "      <th>0</th>\n",
       "      <td>ARPPU</td>\n",
       "      <td>Mexico</td>\n",
       "      <td>-1.570633</td>\n",
       "      <td>2.822908</td>\n",
       "      <td>0.05</td>\n",
       "      <td>0.604500</td>\n",
       "      <td>False</td>\n",
       "    </tr>\n",
       "    <tr>\n",
       "      <th>0</th>\n",
       "      <td>ARPPU</td>\n",
       "      <td>Netherlands</td>\n",
       "      <td>-2.811321</td>\n",
       "      <td>1.958598</td>\n",
       "      <td>0.05</td>\n",
       "      <td>0.756008</td>\n",
       "      <td>False</td>\n",
       "    </tr>\n",
       "    <tr>\n",
       "      <th>0</th>\n",
       "      <td>ARPPU</td>\n",
       "      <td>New Zealand</td>\n",
       "      <td>-2.442039</td>\n",
       "      <td>7.147658</td>\n",
       "      <td>0.05</td>\n",
       "      <td>0.428536</td>\n",
       "      <td>False</td>\n",
       "    </tr>\n",
       "    <tr>\n",
       "      <th>0</th>\n",
       "      <td>ARPPU</td>\n",
       "      <td>Nigeria</td>\n",
       "      <td>0.137409</td>\n",
       "      <td>2.204908</td>\n",
       "      <td>0.05</td>\n",
       "      <td>0.061500</td>\n",
       "      <td>False</td>\n",
       "    </tr>\n",
       "    <tr>\n",
       "      <th>0</th>\n",
       "      <td>ARPPU</td>\n",
       "      <td>Norway</td>\n",
       "      <td>-5.181937</td>\n",
       "      <td>0.239929</td>\n",
       "      <td>0.05</td>\n",
       "      <td>0.095965</td>\n",
       "      <td>False</td>\n",
       "    </tr>\n",
       "    <tr>\n",
       "      <th>0</th>\n",
       "      <td>ARPPU</td>\n",
       "      <td>Philippines</td>\n",
       "      <td>-0.665598</td>\n",
       "      <td>4.939542</td>\n",
       "      <td>0.05</td>\n",
       "      <td>0.258059</td>\n",
       "      <td>False</td>\n",
       "    </tr>\n",
       "    <tr>\n",
       "      <th>0</th>\n",
       "      <td>ARPPU</td>\n",
       "      <td>Poland</td>\n",
       "      <td>-1.053469</td>\n",
       "      <td>5.591146</td>\n",
       "      <td>0.05</td>\n",
       "      <td>0.284847</td>\n",
       "      <td>False</td>\n",
       "    </tr>\n",
       "    <tr>\n",
       "      <th>0</th>\n",
       "      <td>ARPPU</td>\n",
       "      <td>Portugal</td>\n",
       "      <td>0.707086</td>\n",
       "      <td>7.198226</td>\n",
       "      <td>0.05</td>\n",
       "      <td>0.028407</td>\n",
       "      <td>False</td>\n",
       "    </tr>\n",
       "    <tr>\n",
       "      <th>0</th>\n",
       "      <td>ARPPU</td>\n",
       "      <td>Puerto Rico</td>\n",
       "      <td>-12.038733</td>\n",
       "      <td>-2.049544</td>\n",
       "      <td>0.05</td>\n",
       "      <td>0.009920</td>\n",
       "      <td>False</td>\n",
       "    </tr>\n",
       "    <tr>\n",
       "      <th>0</th>\n",
       "      <td>ARPPU</td>\n",
       "      <td>Romania</td>\n",
       "      <td>-7.393028</td>\n",
       "      <td>3.016947</td>\n",
       "      <td>0.05</td>\n",
       "      <td>0.490444</td>\n",
       "      <td>False</td>\n",
       "    </tr>\n",
       "    <tr>\n",
       "      <th>0</th>\n",
       "      <td>ARPPU</td>\n",
       "      <td>Russia</td>\n",
       "      <td>-0.564020</td>\n",
       "      <td>1.568122</td>\n",
       "      <td>0.05</td>\n",
       "      <td>0.449516</td>\n",
       "      <td>False</td>\n",
       "    </tr>\n",
       "    <tr>\n",
       "      <th>0</th>\n",
       "      <td>ARPPU</td>\n",
       "      <td>Saudi Arabia</td>\n",
       "      <td>0.232901</td>\n",
       "      <td>4.403534</td>\n",
       "      <td>0.05</td>\n",
       "      <td>0.033973</td>\n",
       "      <td>False</td>\n",
       "    </tr>\n",
       "    <tr>\n",
       "      <th>0</th>\n",
       "      <td>ARPPU</td>\n",
       "      <td>Singapore</td>\n",
       "      <td>-2.471940</td>\n",
       "      <td>5.023439</td>\n",
       "      <td>0.05</td>\n",
       "      <td>0.589229</td>\n",
       "      <td>False</td>\n",
       "    </tr>\n",
       "    <tr>\n",
       "      <th>0</th>\n",
       "      <td>ARPPU</td>\n",
       "      <td>Slovakia</td>\n",
       "      <td>-1.819956</td>\n",
       "      <td>3.835600</td>\n",
       "      <td>0.05</td>\n",
       "      <td>0.734388</td>\n",
       "      <td>False</td>\n",
       "    </tr>\n",
       "    <tr>\n",
       "      <th>0</th>\n",
       "      <td>ARPPU</td>\n",
       "      <td>South Africa</td>\n",
       "      <td>-13.150171</td>\n",
       "      <td>2.393115</td>\n",
       "      <td>0.05</td>\n",
       "      <td>0.243011</td>\n",
       "      <td>False</td>\n",
       "    </tr>\n",
       "    <tr>\n",
       "      <th>0</th>\n",
       "      <td>ARPPU</td>\n",
       "      <td>South Korea</td>\n",
       "      <td>-3.597714</td>\n",
       "      <td>3.498978</td>\n",
       "      <td>0.05</td>\n",
       "      <td>0.912365</td>\n",
       "      <td>False</td>\n",
       "    </tr>\n",
       "    <tr>\n",
       "      <th>0</th>\n",
       "      <td>ARPPU</td>\n",
       "      <td>Spain</td>\n",
       "      <td>-0.862172</td>\n",
       "      <td>4.638188</td>\n",
       "      <td>0.05</td>\n",
       "      <td>0.241199</td>\n",
       "      <td>False</td>\n",
       "    </tr>\n",
       "    <tr>\n",
       "      <th>0</th>\n",
       "      <td>ARPPU</td>\n",
       "      <td>Sweden</td>\n",
       "      <td>-9.005692</td>\n",
       "      <td>10.579112</td>\n",
       "      <td>0.05</td>\n",
       "      <td>0.977727</td>\n",
       "      <td>False</td>\n",
       "    </tr>\n",
       "    <tr>\n",
       "      <th>0</th>\n",
       "      <td>ARPPU</td>\n",
       "      <td>Switzerland</td>\n",
       "      <td>-9.552171</td>\n",
       "      <td>6.559142</td>\n",
       "      <td>0.05</td>\n",
       "      <td>0.788122</td>\n",
       "      <td>False</td>\n",
       "    </tr>\n",
       "    <tr>\n",
       "      <th>0</th>\n",
       "      <td>ARPPU</td>\n",
       "      <td>Taiwan</td>\n",
       "      <td>-3.642633</td>\n",
       "      <td>2.462137</td>\n",
       "      <td>0.05</td>\n",
       "      <td>0.647829</td>\n",
       "      <td>False</td>\n",
       "    </tr>\n",
       "    <tr>\n",
       "      <th>0</th>\n",
       "      <td>ARPPU</td>\n",
       "      <td>Thailand</td>\n",
       "      <td>-1.619332</td>\n",
       "      <td>0.364246</td>\n",
       "      <td>0.05</td>\n",
       "      <td>0.228244</td>\n",
       "      <td>False</td>\n",
       "    </tr>\n",
       "    <tr>\n",
       "      <th>0</th>\n",
       "      <td>ARPPU</td>\n",
       "      <td>Turkey</td>\n",
       "      <td>-0.024354</td>\n",
       "      <td>7.923813</td>\n",
       "      <td>0.05</td>\n",
       "      <td>0.091967</td>\n",
       "      <td>False</td>\n",
       "    </tr>\n",
       "    <tr>\n",
       "      <th>0</th>\n",
       "      <td>ARPPU</td>\n",
       "      <td>Ukraine</td>\n",
       "      <td>-7.760146</td>\n",
       "      <td>0.359824</td>\n",
       "      <td>0.05</td>\n",
       "      <td>0.265627</td>\n",
       "      <td>False</td>\n",
       "    </tr>\n",
       "    <tr>\n",
       "      <th>0</th>\n",
       "      <td>ARPPU</td>\n",
       "      <td>United Kingdom</td>\n",
       "      <td>-1.154176</td>\n",
       "      <td>0.792689</td>\n",
       "      <td>0.05</td>\n",
       "      <td>0.824109</td>\n",
       "      <td>False</td>\n",
       "    </tr>\n",
       "    <tr>\n",
       "      <th>0</th>\n",
       "      <td>ARPPU</td>\n",
       "      <td>United States</td>\n",
       "      <td>-0.145981</td>\n",
       "      <td>1.249564</td>\n",
       "      <td>0.05</td>\n",
       "      <td>0.106990</td>\n",
       "      <td>False</td>\n",
       "    </tr>\n",
       "    <tr>\n",
       "      <th>0</th>\n",
       "      <td>ARPPU</td>\n",
       "      <td>Vietnam</td>\n",
       "      <td>-0.864081</td>\n",
       "      <td>9.001077</td>\n",
       "      <td>0.05</td>\n",
       "      <td>0.331906</td>\n",
       "      <td>False</td>\n",
       "    </tr>\n",
       "  </tbody>\n",
       "</table>\n",
       "</div>"
      ],
      "text/plain": [
       "  metric             country   ci_0.025  ci_0.0975  p_alpha   p_value  \\\n",
       "0  ARPPU           Argentina   0.786808   2.202846     0.05  0.000026   \n",
       "0  ARPPU           Australia  -2.405770   1.167865     0.05  0.502232   \n",
       "0  ARPPU             Austria  -1.496329   5.302694     0.05  0.302272   \n",
       "0  ARPPU             Belgium  -1.524577   3.845035     0.05  0.452695   \n",
       "0  ARPPU              Brazil  -1.522615   1.300901     0.05  0.966466   \n",
       "0  ARPPU              Canada  -4.107752   1.636223     0.05  0.372303   \n",
       "0  ARPPU               Chile  -2.401274   2.192484     0.05  0.932675   \n",
       "0  ARPPU             Czechia  -0.125790  10.270196     0.05  0.079594   \n",
       "0  ARPPU             Denmark  -0.130878   5.962965     0.05  0.076260   \n",
       "0  ARPPU  Dominican Republic  -1.703715   1.209319     0.05  0.755340   \n",
       "0  ARPPU             Finland   0.488281   5.149872     0.05  0.033443   \n",
       "0  ARPPU              France  -0.391989   3.475001     0.05  0.139187   \n",
       "0  ARPPU             Germany  -4.920606  -0.717337     0.05  0.008850   \n",
       "0  ARPPU              Greece  -1.250188   1.525411     0.05  0.783469   \n",
       "0  ARPPU           Hong Kong  -7.311254   0.317087     0.05  0.119897   \n",
       "0  ARPPU             Hungary  -4.285361   8.545817     0.05  0.549079   \n",
       "0  ARPPU               India  -3.594606   1.487149     0.05  0.566157   \n",
       "0  ARPPU           Indonesia -10.217149   0.208259     0.05  0.146668   \n",
       "0  ARPPU             Ireland  -1.941299   5.344526     0.05  0.404726   \n",
       "0  ARPPU              Israel -11.900058  -0.848265     0.05  0.039989   \n",
       "0  ARPPU               Italy  -8.862980   0.928437     0.05  0.190146   \n",
       "0  ARPPU               Japan  -1.488726   2.014563     0.05  0.730672   \n",
       "0  ARPPU          Kazakhstan  -2.542367   0.182515     0.05  0.138494   \n",
       "0  ARPPU              Kuwait   1.730218   5.234594     0.05  0.000023   \n",
       "0  ARPPU            Malaysia  -1.559868   1.707494     0.05  0.863247   \n",
       "0  ARPPU              Mexico  -1.570633   2.822908     0.05  0.604500   \n",
       "0  ARPPU         Netherlands  -2.811321   1.958598     0.05  0.756008   \n",
       "0  ARPPU         New Zealand  -2.442039   7.147658     0.05  0.428536   \n",
       "0  ARPPU             Nigeria   0.137409   2.204908     0.05  0.061500   \n",
       "0  ARPPU              Norway  -5.181937   0.239929     0.05  0.095965   \n",
       "0  ARPPU         Philippines  -0.665598   4.939542     0.05  0.258059   \n",
       "0  ARPPU              Poland  -1.053469   5.591146     0.05  0.284847   \n",
       "0  ARPPU            Portugal   0.707086   7.198226     0.05  0.028407   \n",
       "0  ARPPU         Puerto Rico -12.038733  -2.049544     0.05  0.009920   \n",
       "0  ARPPU             Romania  -7.393028   3.016947     0.05  0.490444   \n",
       "0  ARPPU              Russia  -0.564020   1.568122     0.05  0.449516   \n",
       "0  ARPPU        Saudi Arabia   0.232901   4.403534     0.05  0.033973   \n",
       "0  ARPPU           Singapore  -2.471940   5.023439     0.05  0.589229   \n",
       "0  ARPPU            Slovakia  -1.819956   3.835600     0.05  0.734388   \n",
       "0  ARPPU        South Africa -13.150171   2.393115     0.05  0.243011   \n",
       "0  ARPPU         South Korea  -3.597714   3.498978     0.05  0.912365   \n",
       "0  ARPPU               Spain  -0.862172   4.638188     0.05  0.241199   \n",
       "0  ARPPU              Sweden  -9.005692  10.579112     0.05  0.977727   \n",
       "0  ARPPU         Switzerland  -9.552171   6.559142     0.05  0.788122   \n",
       "0  ARPPU              Taiwan  -3.642633   2.462137     0.05  0.647829   \n",
       "0  ARPPU            Thailand  -1.619332   0.364246     0.05  0.228244   \n",
       "0  ARPPU              Turkey  -0.024354   7.923813     0.05  0.091967   \n",
       "0  ARPPU             Ukraine  -7.760146   0.359824     0.05  0.265627   \n",
       "0  ARPPU      United Kingdom  -1.154176   0.792689     0.05  0.824109   \n",
       "0  ARPPU       United States  -0.145981   1.249564     0.05  0.106990   \n",
       "0  ARPPU             Vietnam  -0.864081   9.001077     0.05  0.331906   \n",
       "\n",
       "   Holm-Sidak Correction Result  \n",
       "0                          True  \n",
       "0                         False  \n",
       "0                         False  \n",
       "0                         False  \n",
       "0                         False  \n",
       "0                         False  \n",
       "0                         False  \n",
       "0                         False  \n",
       "0                         False  \n",
       "0                         False  \n",
       "0                         False  \n",
       "0                         False  \n",
       "0                         False  \n",
       "0                         False  \n",
       "0                         False  \n",
       "0                         False  \n",
       "0                         False  \n",
       "0                         False  \n",
       "0                         False  \n",
       "0                         False  \n",
       "0                         False  \n",
       "0                         False  \n",
       "0                         False  \n",
       "0                          True  \n",
       "0                         False  \n",
       "0                         False  \n",
       "0                         False  \n",
       "0                         False  \n",
       "0                         False  \n",
       "0                         False  \n",
       "0                         False  \n",
       "0                         False  \n",
       "0                         False  \n",
       "0                         False  \n",
       "0                         False  \n",
       "0                         False  \n",
       "0                         False  \n",
       "0                         False  \n",
       "0                         False  \n",
       "0                         False  \n",
       "0                         False  \n",
       "0                         False  \n",
       "0                         False  \n",
       "0                         False  \n",
       "0                         False  \n",
       "0                         False  \n",
       "0                         False  \n",
       "0                         False  \n",
       "0                         False  \n",
       "0                         False  \n",
       "0                         False  "
      ]
     },
     "execution_count": 32,
     "metadata": {},
     "output_type": "execute_result"
    }
   ],
   "source": [
    "AB_countries.query('metric == \"ARPPU\"')"
   ]
  },
  {
   "cell_type": "code",
   "execution_count": 33,
   "id": "naked-freeware",
   "metadata": {},
   "outputs": [
    {
     "data": {
      "text/html": [
       "<div>\n",
       "<style scoped>\n",
       "    .dataframe tbody tr th:only-of-type {\n",
       "        vertical-align: middle;\n",
       "    }\n",
       "\n",
       "    .dataframe tbody tr th {\n",
       "        vertical-align: top;\n",
       "    }\n",
       "\n",
       "    .dataframe thead th {\n",
       "        text-align: right;\n",
       "    }\n",
       "</style>\n",
       "<table border=\"1\" class=\"dataframe\">\n",
       "  <thead>\n",
       "    <tr style=\"text-align: right;\">\n",
       "      <th></th>\n",
       "      <th>metric</th>\n",
       "      <th>country</th>\n",
       "      <th>ci_0.025</th>\n",
       "      <th>ci_0.0975</th>\n",
       "      <th>p_alpha</th>\n",
       "      <th>p_value</th>\n",
       "      <th>Holm-Sidak Correction Result</th>\n",
       "    </tr>\n",
       "  </thead>\n",
       "  <tbody>\n",
       "    <tr>\n",
       "      <th>0</th>\n",
       "      <td>ARPU</td>\n",
       "      <td>Argentina</td>\n",
       "      <td>0.033053</td>\n",
       "      <td>0.226575</td>\n",
       "      <td>0.05</td>\n",
       "      <td>0.019653</td>\n",
       "      <td>False</td>\n",
       "    </tr>\n",
       "    <tr>\n",
       "      <th>0</th>\n",
       "      <td>ARPPU</td>\n",
       "      <td>Argentina</td>\n",
       "      <td>0.786808</td>\n",
       "      <td>2.202846</td>\n",
       "      <td>0.05</td>\n",
       "      <td>0.000026</td>\n",
       "      <td>True</td>\n",
       "    </tr>\n",
       "    <tr>\n",
       "      <th>0</th>\n",
       "      <td>ARPPU</td>\n",
       "      <td>Finland</td>\n",
       "      <td>0.488281</td>\n",
       "      <td>5.149872</td>\n",
       "      <td>0.05</td>\n",
       "      <td>0.033443</td>\n",
       "      <td>False</td>\n",
       "    </tr>\n",
       "    <tr>\n",
       "      <th>0</th>\n",
       "      <td>ARPPU</td>\n",
       "      <td>Germany</td>\n",
       "      <td>-4.920606</td>\n",
       "      <td>-0.717337</td>\n",
       "      <td>0.05</td>\n",
       "      <td>0.008850</td>\n",
       "      <td>False</td>\n",
       "    </tr>\n",
       "    <tr>\n",
       "      <th>0</th>\n",
       "      <td>ARPPU</td>\n",
       "      <td>Israel</td>\n",
       "      <td>-11.900058</td>\n",
       "      <td>-0.848265</td>\n",
       "      <td>0.05</td>\n",
       "      <td>0.039989</td>\n",
       "      <td>False</td>\n",
       "    </tr>\n",
       "    <tr>\n",
       "      <th>0</th>\n",
       "      <td>ARPPU</td>\n",
       "      <td>Kuwait</td>\n",
       "      <td>1.730218</td>\n",
       "      <td>5.234594</td>\n",
       "      <td>0.05</td>\n",
       "      <td>0.000023</td>\n",
       "      <td>True</td>\n",
       "    </tr>\n",
       "    <tr>\n",
       "      <th>0</th>\n",
       "      <td>ARPPU</td>\n",
       "      <td>Portugal</td>\n",
       "      <td>0.707086</td>\n",
       "      <td>7.198226</td>\n",
       "      <td>0.05</td>\n",
       "      <td>0.028407</td>\n",
       "      <td>False</td>\n",
       "    </tr>\n",
       "    <tr>\n",
       "      <th>0</th>\n",
       "      <td>ARPPU</td>\n",
       "      <td>Puerto Rico</td>\n",
       "      <td>-12.038733</td>\n",
       "      <td>-2.049544</td>\n",
       "      <td>0.05</td>\n",
       "      <td>0.009920</td>\n",
       "      <td>False</td>\n",
       "    </tr>\n",
       "    <tr>\n",
       "      <th>0</th>\n",
       "      <td>ARPPU</td>\n",
       "      <td>Saudi Arabia</td>\n",
       "      <td>0.232901</td>\n",
       "      <td>4.403534</td>\n",
       "      <td>0.05</td>\n",
       "      <td>0.033973</td>\n",
       "      <td>False</td>\n",
       "    </tr>\n",
       "  </tbody>\n",
       "</table>\n",
       "</div>"
      ],
      "text/plain": [
       "  metric       country   ci_0.025  ci_0.0975  p_alpha   p_value  \\\n",
       "0   ARPU     Argentina   0.033053   0.226575     0.05  0.019653   \n",
       "0  ARPPU     Argentina   0.786808   2.202846     0.05  0.000026   \n",
       "0  ARPPU       Finland   0.488281   5.149872     0.05  0.033443   \n",
       "0  ARPPU       Germany  -4.920606  -0.717337     0.05  0.008850   \n",
       "0  ARPPU        Israel -11.900058  -0.848265     0.05  0.039989   \n",
       "0  ARPPU        Kuwait   1.730218   5.234594     0.05  0.000023   \n",
       "0  ARPPU      Portugal   0.707086   7.198226     0.05  0.028407   \n",
       "0  ARPPU   Puerto Rico -12.038733  -2.049544     0.05  0.009920   \n",
       "0  ARPPU  Saudi Arabia   0.232901   4.403534     0.05  0.033973   \n",
       "\n",
       "   Holm-Sidak Correction Result  \n",
       "0                         False  \n",
       "0                          True  \n",
       "0                         False  \n",
       "0                         False  \n",
       "0                         False  \n",
       "0                          True  \n",
       "0                         False  \n",
       "0                         False  \n",
       "0                         False  "
      ]
     },
     "execution_count": 33,
     "metadata": {},
     "output_type": "execute_result"
    }
   ],
   "source": [
    "# список сравнений с p-value < 0.05. \n",
    "got_diff = AB_countries.query('p_value < 0.05').country\n",
    "AB_countries.query('p_value < 0.05')"
   ]
  },
  {
   "cell_type": "markdown",
   "id": "disciplinary-persian",
   "metadata": {},
   "source": [
    "#### Можно сделать вывод, что ARRPU стат.значимо увеличился только в Аргентине и Кувейте."
   ]
  },
  {
   "cell_type": "markdown",
   "id": "endless-porter",
   "metadata": {},
   "source": [
    "### Вывод\n",
    "\n",
    "В целом по эксперименту:\n",
    "- Суммарная выручка в тестовой группе меньше, чем в контрольной на 5.36%;\n",
    "- При этом конверсия в платеж тестовой группы пользователей статистически значимо снизилась на ~7.54% относительно контрольной;\n",
    "- Стат.значимых различий в значениях ARPU и ARPPU не обнаружено.\n",
    "\n",
    "МОжно сделать вывод о неудовлетворительных результатах эксперимента.\n",
    "\n",
    "Результат по странам:\n",
    "\n",
    "- ARRPU стат.значимо увеличился только в Аргентине и Кувейте.\n",
    "- CR стат.значимо различается во Франции, Гваделупе и Ирландии, во всех трех случаях в пользу контрольной группы.    "
   ]
  },
  {
   "cell_type": "code",
   "execution_count": null,
   "id": "removable-spirituality",
   "metadata": {},
   "outputs": [],
   "source": []
  }
 ],
 "metadata": {
  "kernelspec": {
   "display_name": "Python 3",
   "language": "python",
   "name": "python3"
  },
  "language_info": {
   "codemirror_mode": {
    "name": "ipython",
    "version": 3
   },
   "file_extension": ".py",
   "mimetype": "text/x-python",
   "name": "python",
   "nbconvert_exporter": "python",
   "pygments_lexer": "ipython3",
   "version": "3.8.6"
  }
 },
 "nbformat": 4,
 "nbformat_minor": 5
}
